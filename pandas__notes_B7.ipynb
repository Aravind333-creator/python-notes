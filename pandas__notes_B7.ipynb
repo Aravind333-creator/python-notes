{
  "cells": [
    {
      "cell_type": "markdown",
      "metadata": {
        "id": "view-in-github",
        "colab_type": "text"
      },
      "source": [
        "<a href=\"https://colab.research.google.com/github/Aravind333-creator/python-notes/blob/main/pandas__notes_B7.ipynb\" target=\"_parent\"><img src=\"https://colab.research.google.com/assets/colab-badge.svg\" alt=\"Open In Colab\"/></a>"
      ]
    },
    {
      "cell_type": "code",
      "execution_count": null,
      "id": "7f5e35eb-9574-4686-bafb-b198f7e13f95",
      "metadata": {
        "id": "7f5e35eb-9574-4686-bafb-b198f7e13f95"
      },
      "outputs": [],
      "source": [
        "#what is pandas?\n",
        "#pandas is a open source library, mainly works with relational or labelled data base\n",
        "#why we are using this pandas?\n",
        "#fast, high-performance,and productive\n",
        "#easy to load the data\n",
        "#easy to insert and delete the columns\n",
        "#flxible reshaping and pivoting the data\n",
        "#time series analysis\n",
        "#data visualisation\n",
        "#group by functionality\n",
        "#what is difference between excel and pandas?\n",
        "#"
      ]
    },
    {
      "cell_type": "code",
      "execution_count": null,
      "id": "5ccd2eb7-e2b8-4a8f-9be1-595e2e7d5cae",
      "metadata": {
        "id": "5ccd2eb7-e2b8-4a8f-9be1-595e2e7d5cae"
      },
      "outputs": [],
      "source": [
        "#pandas is more advanced than advanced excel\n",
        "#pandas--> Mc kineey--->2008"
      ]
    },
    {
      "cell_type": "code",
      "execution_count": null,
      "id": "64c83a15-4afc-49a1-a723-62fd8b4efcff",
      "metadata": {
        "id": "64c83a15-4afc-49a1-a723-62fd8b4efcff"
      },
      "outputs": [],
      "source": [
        "#what is the functions of pandas?\n",
        "#Analysing, cleaning, exploring, manipulating the data"
      ]
    },
    {
      "cell_type": "code",
      "execution_count": null,
      "id": "6f9fe6bf-a096-46fb-92a4-5c15c621e322",
      "metadata": {
        "id": "6f9fe6bf-a096-46fb-92a4-5c15c621e322"
      },
      "outputs": [],
      "source": [
        "#what is Data cleaning?\n",
        "#delete irrelevent rows/ wrong values, empty or null values, correction of data types,duplicates...etc"
      ]
    },
    {
      "cell_type": "code",
      "execution_count": null,
      "id": "f650f098-64d3-4f19-8166-a519206b8dcb",
      "metadata": {
        "id": "f650f098-64d3-4f19-8166-a519206b8dcb",
        "outputId": "297b1987-5374-4425-b79e-1b412dda5b3b"
      },
      "outputs": [
        {
          "name": "stdout",
          "output_type": "stream",
          "text": [
            "Requirement already satisfied: pandas in c:\\users\\mopedo electric\\appdata\\local\\programs\\python\\python313\\lib\\site-packages (2.2.3)\n",
            "Requirement already satisfied: numpy>=1.26.0 in c:\\users\\mopedo electric\\appdata\\local\\programs\\python\\python313\\lib\\site-packages (from pandas) (2.2.1)\n",
            "Requirement already satisfied: python-dateutil>=2.8.2 in c:\\users\\mopedo electric\\appdata\\local\\programs\\python\\python313\\lib\\site-packages (from pandas) (2.9.0.post0)\n",
            "Requirement already satisfied: pytz>=2020.1 in c:\\users\\mopedo electric\\appdata\\local\\programs\\python\\python313\\lib\\site-packages (from pandas) (2024.2)\n",
            "Requirement already satisfied: tzdata>=2022.7 in c:\\users\\mopedo electric\\appdata\\local\\programs\\python\\python313\\lib\\site-packages (from pandas) (2024.2)\n",
            "Requirement already satisfied: six>=1.5 in c:\\users\\mopedo electric\\appdata\\local\\programs\\python\\python313\\lib\\site-packages (from python-dateutil>=2.8.2->pandas) (1.17.0)\n"
          ]
        }
      ],
      "source": [
        "#Installation of pandas\n",
        "!pip install pandas"
      ]
    },
    {
      "cell_type": "code",
      "execution_count": null,
      "id": "6ea959ac-3a5d-4d89-85a5-5928d044b61e",
      "metadata": {
        "id": "6ea959ac-3a5d-4d89-85a5-5928d044b61e"
      },
      "outputs": [],
      "source": [
        "import pandas as pd"
      ]
    },
    {
      "cell_type": "code",
      "execution_count": null,
      "id": "e2a68cf2-78cf-4347-95a6-e795d0dd163d",
      "metadata": {
        "id": "e2a68cf2-78cf-4347-95a6-e795d0dd163d"
      },
      "outputs": [],
      "source": [
        "#how many types of data structures do we have in pandas\n",
        "#there are 3 types\n",
        "#1d-->series\n",
        "#2d--> DataFrame\n",
        "#3--> Panel"
      ]
    },
    {
      "cell_type": "code",
      "execution_count": null,
      "id": "97f446bd-a37b-4db3-86da-9eefcc7aa85a",
      "metadata": {
        "id": "97f446bd-a37b-4db3-86da-9eefcc7aa85a"
      },
      "outputs": [],
      "source": [
        "#1D-->Series:-\n",
        "\"\"\"series are 1D labelled array which holds-->int,float,str,object"
      ]
    },
    {
      "cell_type": "code",
      "execution_count": null,
      "id": "06ceaada-7f6c-4017-a80a-b31a357ec9ea",
      "metadata": {
        "id": "06ceaada-7f6c-4017-a80a-b31a357ec9ea",
        "outputId": "bd89df97-6078-44f3-a9e0-eec001dc8789"
      },
      "outputs": [
        {
          "name": "stdout",
          "output_type": "stream",
          "text": [
            "[1 2 3 4]\n"
          ]
        }
      ],
      "source": [
        "import numpy as np\n",
        "a = np.array([1,2,3,4])\n",
        "print(a)"
      ]
    },
    {
      "cell_type": "code",
      "execution_count": null,
      "id": "4c722ab1-0579-4650-a331-b46e3cb4ea78",
      "metadata": {
        "id": "4c722ab1-0579-4650-a331-b46e3cb4ea78",
        "outputId": "276afffd-c537-40be-8ea1-35e5062aff24"
      },
      "outputs": [
        {
          "name": "stdout",
          "output_type": "stream",
          "text": [
            "0    1\n",
            "1    2\n",
            "2    3\n",
            "3    4\n",
            "dtype: int64\n"
          ]
        }
      ],
      "source": [
        "#change the above array into series\n",
        "sr = pd.Series(a)\n",
        "print(sr)"
      ]
    },
    {
      "cell_type": "code",
      "execution_count": null,
      "id": "bb5da774-6ee0-4e76-b185-4ba702006712",
      "metadata": {
        "id": "bb5da774-6ee0-4e76-b185-4ba702006712",
        "outputId": "86b0e72c-c800-4eba-ab64-02ab6cf72502"
      },
      "outputs": [
        {
          "name": "stdout",
          "output_type": "stream",
          "text": [
            "a    1\n",
            "b    2\n",
            "c    3\n",
            "d    4\n",
            "dtype: int64\n"
          ]
        }
      ],
      "source": [
        "#how can we change the labels?\n",
        "sr = pd.Series(a,index=['a','b','c','d'])\n",
        "print(sr)"
      ]
    },
    {
      "cell_type": "code",
      "execution_count": null,
      "id": "691852b0-381a-4722-8fce-652b3e4e0ef8",
      "metadata": {
        "id": "691852b0-381a-4722-8fce-652b3e4e0ef8",
        "outputId": "509d132b-fb73-4d53-be42-07b6cbf8e163"
      },
      "outputs": [
        {
          "name": "stdout",
          "output_type": "stream",
          "text": [
            "name               shah\n",
            "occupation           DS\n",
            "address       Hyderabad\n",
            "dtype: object\n",
            "<class 'pandas.core.series.Series'>\n"
          ]
        }
      ],
      "source": [
        "#create a series from dictionary?\n",
        "d = {\n",
        "    'name':'shah',\n",
        "    'occupation':'DS',\n",
        "    'address':'Hyderabad'\n",
        "}\n",
        "sr = pd.Series(d)\n",
        "print(sr)\n",
        "print(type(sr))"
      ]
    },
    {
      "cell_type": "code",
      "execution_count": null,
      "id": "61728116-c609-4071-946e-e2945cd56e8f",
      "metadata": {
        "id": "61728116-c609-4071-946e-e2945cd56e8f"
      },
      "outputs": [],
      "source": [
        "#How can we represent a Series in Pandas?\n",
        "#<class 'pandas.core.series.Series'>"
      ]
    },
    {
      "cell_type": "code",
      "execution_count": null,
      "id": "86a12f0e-cdfe-452e-a75b-49f7340a1de9",
      "metadata": {
        "id": "86a12f0e-cdfe-452e-a75b-49f7340a1de9"
      },
      "outputs": [],
      "source": [
        "#create series from list,tuple and set?-->H.W"
      ]
    },
    {
      "cell_type": "code",
      "execution_count": null,
      "id": "0eb9498c-67a8-4a40-bf8b-9b784a7260f4",
      "metadata": {
        "id": "0eb9498c-67a8-4a40-bf8b-9b784a7260f4"
      },
      "outputs": [],
      "source": [
        "#Note:- we cannot create a series from set  why beacuase sets are unordered\n",
        "#How can we create a series?\n",
        "#pd.Series('collection_name')"
      ]
    },
    {
      "cell_type": "code",
      "execution_count": null,
      "id": "f51d4ca4-eea6-4b52-b388-f1fa0b8b0170",
      "metadata": {
        "id": "f51d4ca4-eea6-4b52-b388-f1fa0b8b0170"
      },
      "outputs": [],
      "source": [
        "#DataFrame\n",
        "#what is DataFrame?\n",
        "\"\"\"2D-->size, mutable, heterogenous data with labelled axis(rows and columns)\n",
        "#cols:- is also known as \"features,varaibles,fields,dimensions\"\n",
        "#rows:- is also known as \"records,values,index\""
      ]
    },
    {
      "cell_type": "code",
      "execution_count": null,
      "id": "3faa3953-9780-4821-8ef2-06232e155f98",
      "metadata": {
        "id": "3faa3953-9780-4821-8ef2-06232e155f98"
      },
      "outputs": [],
      "source": [
        "#what is applications of DF?\n",
        "\"\"\"works on datasets\n",
        "   analysis\n",
        "   dropping\n",
        "   processing\n",
        "   cleaning\n",
        "   join the multiple data\n",
        "   create excel,json,csv,binary files..etc\n",
        "   compute mathmetical and statistical operations\n",
        "   use groupby functions\"\"\""
      ]
    },
    {
      "cell_type": "code",
      "execution_count": null,
      "id": "89874071-20e7-4d14-ad72-02cc2c723e69",
      "metadata": {
        "id": "89874071-20e7-4d14-ad72-02cc2c723e69",
        "outputId": "cd3c102f-616f-4894-82bb-a581abbef33c"
      },
      "outputs": [
        {
          "name": "stdout",
          "output_type": "stream",
          "text": [
            "   0\n",
            "0  1\n",
            "1  2\n",
            "2  3\n",
            "3  4\n",
            "4  5\n",
            "5  6\n"
          ]
        }
      ],
      "source": [
        "#create a df from list of numbers\n",
        "a = [1,2,3,4,5,6]\n",
        "df = pd.DataFrame(a)\n",
        "print(df)"
      ]
    },
    {
      "cell_type": "code",
      "execution_count": null,
      "id": "0db65fc5-2bc2-4e83-8a0f-b17e7cff3050",
      "metadata": {
        "id": "0db65fc5-2bc2-4e83-8a0f-b17e7cff3050"
      },
      "outputs": [],
      "source": [
        "#create a data freame from tuple,set and dictioanry-->H.w?"
      ]
    },
    {
      "cell_type": "code",
      "execution_count": null,
      "id": "6fea1c7c-614a-4bb2-a6c7-9dd2fae86be2",
      "metadata": {
        "id": "6fea1c7c-614a-4bb2-a6c7-9dd2fae86be2",
        "outputId": "cdcb5af9-2498-44c5-8b46-5773eda83412"
      },
      "outputs": [
        {
          "name": "stdout",
          "output_type": "stream",
          "text": [
            "      Order ID                     Product Quantity Ordered Price Each  \\\n",
            "0       278797            Wired Headphones                1      11.99   \n",
            "1       278798        USB-C Charging Cable                2      11.95   \n",
            "2       278799    Apple Airpods Headphones                1      150.0   \n",
            "3       278800            27in FHD Monitor                1     149.99   \n",
            "4       278801  Bose SoundSport Headphones                1      99.99   \n",
            "...        ...                         ...              ...        ...   \n",
            "17656   295660      AAA Batteries (4-pack)                2       2.99   \n",
            "17657   295661        USB-C Charging Cable                1      11.95   \n",
            "17658   295662    Lightning Charging Cable                1      14.95   \n",
            "17659   295663      AAA Batteries (4-pack)                1       2.99   \n",
            "17660   295664                Google Phone                1        600   \n",
            "\n",
            "           Order Date                      Purchase Address  \n",
            "0      11/21/19 09:54   46 Park St, New York City, NY 10001  \n",
            "1      11/17/19 10:03      962 Hickory St, Austin, TX 73301  \n",
            "2      11/19/19 14:56  464 Cherry St, Los Angeles, CA 90001  \n",
            "3      11/25/19 22:24        649 10th St, Seattle, WA 98101  \n",
            "4      11/09/19 13:56         522 Hill St, Boston, MA 02215  \n",
            "...               ...                                   ...  \n",
            "17656  11/04/19 14:17     574 4th St, Los Angeles, CA 90001  \n",
            "17657  11/23/19 07:22          359 1st St, Austin, TX 73301  \n",
            "17658  11/13/19 16:12         900 10th St, Boston, MA 02215  \n",
            "17659  11/17/19 17:08       592 Sunset St, Boston, MA 02215  \n",
            "17660  11/17/19 16:13      428 Jackson St, Boston, MA 02215  \n",
            "\n",
            "[17661 rows x 6 columns]\n"
          ]
        },
        {
          "ename": "TypeError",
          "evalue": "ExcelWriter.__new__() got an unexpected keyword argument 'index'",
          "output_type": "error",
          "traceback": [
            "\u001b[1;31m---------------------------------------------------------------------------\u001b[0m",
            "\u001b[1;31mTypeError\u001b[0m                                 Traceback (most recent call last)",
            "Cell \u001b[1;32mIn[18], line 7\u001b[0m\n\u001b[0;32m      5\u001b[0m \u001b[38;5;28mprint\u001b[39m(df)                 \n\u001b[0;32m      6\u001b[0m \u001b[38;5;66;03m#convert or export the df in to excel format\u001b[39;00m\n\u001b[1;32m----> 7\u001b[0m new \u001b[38;5;241m=\u001b[39m \u001b[43mpd\u001b[49m\u001b[38;5;241;43m.\u001b[39;49m\u001b[43mExcelWriter\u001b[49m\u001b[43m(\u001b[49m\u001b[38;5;124;43m'\u001b[39;49m\u001b[38;5;124;43msample.xlsx\u001b[39;49m\u001b[38;5;124;43m'\u001b[39;49m\u001b[43m,\u001b[49m\u001b[43mindex\u001b[49m\u001b[38;5;241;43m=\u001b[39;49m\u001b[38;5;28;43;01mFalse\u001b[39;49;00m\u001b[43m)\u001b[49m\n\u001b[0;32m      8\u001b[0m df\u001b[38;5;241m.\u001b[39mto_excel(new)\n\u001b[0;32m      9\u001b[0m new\u001b[38;5;241m.\u001b[39msave()\n",
            "\u001b[1;31mTypeError\u001b[0m: ExcelWriter.__new__() got an unexpected keyword argument 'index'"
          ]
        }
      ],
      "source": [
        "#importing and exporting the DF\n",
        "#1.csv:- comma,seprate,value\n",
        "#read a csv file by using the pandas?\n",
        "df = pd.read_csv(\"Sales_November_2019.csv\")\n",
        "print(df)\n",
        "#convert or export the df in to excel format\n",
        "new = pd.ExcelWriter('sample.xlsx',index=False)\n",
        "df.to_excel(new)\n",
        "new.save()"
      ]
    },
    {
      "cell_type": "code",
      "execution_count": null,
      "id": "d60606f6-efbb-4d3c-95bc-a2cfd5de028c",
      "metadata": {
        "id": "d60606f6-efbb-4d3c-95bc-a2cfd5de028c"
      },
      "outputs": [],
      "source": []
    },
    {
      "cell_type": "code",
      "execution_count": null,
      "id": "04fd680b-ef71-407e-b950-d3cd3a9ef87d",
      "metadata": {
        "id": "04fd680b-ef71-407e-b950-d3cd3a9ef87d",
        "outputId": "55cbc2a5-dc54-49ad-adc9-f4c4a1891734"
      },
      "outputs": [
        {
          "name": "stdout",
          "output_type": "stream",
          "text": [
            "      Order ID                     Product Quantity Ordered Price Each  \\\n",
            "0       278797            Wired Headphones                1      11.99   \n",
            "1       278798        USB-C Charging Cable                2      11.95   \n",
            "2       278799    Apple Airpods Headphones                1      150.0   \n",
            "3       278800            27in FHD Monitor                1     149.99   \n",
            "4       278801  Bose SoundSport Headphones                1      99.99   \n",
            "...        ...                         ...              ...        ...   \n",
            "17656   295660      AAA Batteries (4-pack)                2       2.99   \n",
            "17657   295661        USB-C Charging Cable                1      11.95   \n",
            "17658   295662    Lightning Charging Cable                1      14.95   \n",
            "17659   295663      AAA Batteries (4-pack)                1       2.99   \n",
            "17660   295664                Google Phone                1        600   \n",
            "\n",
            "           Order Date                      Purchase Address  \n",
            "0      11/21/19 09:54   46 Park St, New York City, NY 10001  \n",
            "1      11/17/19 10:03      962 Hickory St, Austin, TX 73301  \n",
            "2      11/19/19 14:56  464 Cherry St, Los Angeles, CA 90001  \n",
            "3      11/25/19 22:24        649 10th St, Seattle, WA 98101  \n",
            "4      11/09/19 13:56         522 Hill St, Boston, MA 02215  \n",
            "...               ...                                   ...  \n",
            "17656  11/04/19 14:17     574 4th St, Los Angeles, CA 90001  \n",
            "17657  11/23/19 07:22          359 1st St, Austin, TX 73301  \n",
            "17658  11/13/19 16:12         900 10th St, Boston, MA 02215  \n",
            "17659  11/17/19 17:08       592 Sunset St, Boston, MA 02215  \n",
            "17660  11/17/19 16:13      428 Jackson St, Boston, MA 02215  \n",
            "\n",
            "[17661 rows x 6 columns]\n"
          ]
        }
      ],
      "source": [
        "import pandas as pd\n",
        "df = pd.read_csv(\"Sales_November_2019.csv\")\n",
        "print(df)\n",
        "#export or convert above df to json format\n",
        "df.to_json('sample.json')"
      ]
    },
    {
      "cell_type": "code",
      "execution_count": null,
      "id": "63c6d2c5-9297-4564-bafb-7158c6b16822",
      "metadata": {
        "id": "63c6d2c5-9297-4564-bafb-7158c6b16822",
        "outputId": "3046d399-35e8-4935-e3d8-d1d154e47980"
      },
      "outputs": [
        {
          "data": {
            "text/html": [
              "<div>\n",
              "<style scoped>\n",
              "    .dataframe tbody tr th:only-of-type {\n",
              "        vertical-align: middle;\n",
              "    }\n",
              "\n",
              "    .dataframe tbody tr th {\n",
              "        vertical-align: top;\n",
              "    }\n",
              "\n",
              "    .dataframe thead th {\n",
              "        text-align: right;\n",
              "    }\n",
              "</style>\n",
              "<table border=\"1\" class=\"dataframe\">\n",
              "  <thead>\n",
              "    <tr style=\"text-align: right;\">\n",
              "      <th></th>\n",
              "      <th>Order ID</th>\n",
              "      <th>Product</th>\n",
              "      <th>Quantity Ordered</th>\n",
              "      <th>Price Each</th>\n",
              "      <th>Order Date</th>\n",
              "      <th>Purchase Address</th>\n",
              "    </tr>\n",
              "  </thead>\n",
              "  <tbody>\n",
              "    <tr>\n",
              "      <th>0</th>\n",
              "      <td>278797</td>\n",
              "      <td>Wired Headphones</td>\n",
              "      <td>1</td>\n",
              "      <td>11.99</td>\n",
              "      <td>11/21/19 09:54</td>\n",
              "      <td>46 Park St, New York City, NY 10001</td>\n",
              "    </tr>\n",
              "    <tr>\n",
              "      <th>1</th>\n",
              "      <td>278798</td>\n",
              "      <td>USB-C Charging Cable</td>\n",
              "      <td>2</td>\n",
              "      <td>11.95</td>\n",
              "      <td>11/17/19 10:03</td>\n",
              "      <td>962 Hickory St, Austin, TX 73301</td>\n",
              "    </tr>\n",
              "    <tr>\n",
              "      <th>2</th>\n",
              "      <td>278799</td>\n",
              "      <td>Apple Airpods Headphones</td>\n",
              "      <td>1</td>\n",
              "      <td>150.0</td>\n",
              "      <td>11/19/19 14:56</td>\n",
              "      <td>464 Cherry St, Los Angeles, CA 90001</td>\n",
              "    </tr>\n",
              "    <tr>\n",
              "      <th>3</th>\n",
              "      <td>278800</td>\n",
              "      <td>27in FHD Monitor</td>\n",
              "      <td>1</td>\n",
              "      <td>149.99</td>\n",
              "      <td>11/25/19 22:24</td>\n",
              "      <td>649 10th St, Seattle, WA 98101</td>\n",
              "    </tr>\n",
              "    <tr>\n",
              "      <th>4</th>\n",
              "      <td>278801</td>\n",
              "      <td>Bose SoundSport Headphones</td>\n",
              "      <td>1</td>\n",
              "      <td>99.99</td>\n",
              "      <td>11/09/19 13:56</td>\n",
              "      <td>522 Hill St, Boston, MA 02215</td>\n",
              "    </tr>\n",
              "    <tr>\n",
              "      <th>...</th>\n",
              "      <td>...</td>\n",
              "      <td>...</td>\n",
              "      <td>...</td>\n",
              "      <td>...</td>\n",
              "      <td>...</td>\n",
              "      <td>...</td>\n",
              "    </tr>\n",
              "    <tr>\n",
              "      <th>17656</th>\n",
              "      <td>295660</td>\n",
              "      <td>AAA Batteries (4-pack)</td>\n",
              "      <td>2</td>\n",
              "      <td>2.99</td>\n",
              "      <td>11/04/19 14:17</td>\n",
              "      <td>574 4th St, Los Angeles, CA 90001</td>\n",
              "    </tr>\n",
              "    <tr>\n",
              "      <th>17657</th>\n",
              "      <td>295661</td>\n",
              "      <td>USB-C Charging Cable</td>\n",
              "      <td>1</td>\n",
              "      <td>11.95</td>\n",
              "      <td>11/23/19 07:22</td>\n",
              "      <td>359 1st St, Austin, TX 73301</td>\n",
              "    </tr>\n",
              "    <tr>\n",
              "      <th>17658</th>\n",
              "      <td>295662</td>\n",
              "      <td>Lightning Charging Cable</td>\n",
              "      <td>1</td>\n",
              "      <td>14.95</td>\n",
              "      <td>11/13/19 16:12</td>\n",
              "      <td>900 10th St, Boston, MA 02215</td>\n",
              "    </tr>\n",
              "    <tr>\n",
              "      <th>17659</th>\n",
              "      <td>295663</td>\n",
              "      <td>AAA Batteries (4-pack)</td>\n",
              "      <td>1</td>\n",
              "      <td>2.99</td>\n",
              "      <td>11/17/19 17:08</td>\n",
              "      <td>592 Sunset St, Boston, MA 02215</td>\n",
              "    </tr>\n",
              "    <tr>\n",
              "      <th>17660</th>\n",
              "      <td>295664</td>\n",
              "      <td>Google Phone</td>\n",
              "      <td>1</td>\n",
              "      <td>600</td>\n",
              "      <td>11/17/19 16:13</td>\n",
              "      <td>428 Jackson St, Boston, MA 02215</td>\n",
              "    </tr>\n",
              "  </tbody>\n",
              "</table>\n",
              "<p>17661 rows × 6 columns</p>\n",
              "</div>"
            ],
            "text/plain": [
              "      Order ID                     Product Quantity Ordered Price Each  \\\n",
              "0       278797            Wired Headphones                1      11.99   \n",
              "1       278798        USB-C Charging Cable                2      11.95   \n",
              "2       278799    Apple Airpods Headphones                1      150.0   \n",
              "3       278800            27in FHD Monitor                1     149.99   \n",
              "4       278801  Bose SoundSport Headphones                1      99.99   \n",
              "...        ...                         ...              ...        ...   \n",
              "17656   295660      AAA Batteries (4-pack)                2       2.99   \n",
              "17657   295661        USB-C Charging Cable                1      11.95   \n",
              "17658   295662    Lightning Charging Cable                1      14.95   \n",
              "17659   295663      AAA Batteries (4-pack)                1       2.99   \n",
              "17660   295664                Google Phone                1        600   \n",
              "\n",
              "           Order Date                      Purchase Address  \n",
              "0      11/21/19 09:54   46 Park St, New York City, NY 10001  \n",
              "1      11/17/19 10:03      962 Hickory St, Austin, TX 73301  \n",
              "2      11/19/19 14:56  464 Cherry St, Los Angeles, CA 90001  \n",
              "3      11/25/19 22:24        649 10th St, Seattle, WA 98101  \n",
              "4      11/09/19 13:56         522 Hill St, Boston, MA 02215  \n",
              "...               ...                                   ...  \n",
              "17656  11/04/19 14:17     574 4th St, Los Angeles, CA 90001  \n",
              "17657  11/23/19 07:22          359 1st St, Austin, TX 73301  \n",
              "17658  11/13/19 16:12         900 10th St, Boston, MA 02215  \n",
              "17659  11/17/19 17:08       592 Sunset St, Boston, MA 02215  \n",
              "17660  11/17/19 16:13      428 Jackson St, Boston, MA 02215  \n",
              "\n",
              "[17661 rows x 6 columns]"
            ]
          },
          "execution_count": 7,
          "metadata": {},
          "output_type": "execute_result"
        }
      ],
      "source": [
        "#Data Frame function\\\n",
        "#read the sample.json file\n",
        "df2 = pd.read_json('sample.json')\n",
        "df2"
      ]
    },
    {
      "cell_type": "code",
      "execution_count": null,
      "id": "1050c5ed-bfc3-4b5f-ae9f-3d2bc8c770f2",
      "metadata": {
        "id": "1050c5ed-bfc3-4b5f-ae9f-3d2bc8c770f2",
        "outputId": "fe2e1249-43b4-4575-f0f6-f9f7748055aa"
      },
      "outputs": [
        {
          "data": {
            "text/plain": [
              "105966"
            ]
          },
          "execution_count": 4,
          "metadata": {},
          "output_type": "execute_result"
        }
      ],
      "source": [
        "#check the size and index of you df\n",
        "df.size    #--> No of rows * no of columns"
      ]
    },
    {
      "cell_type": "code",
      "execution_count": null,
      "id": "834b879a-ee44-4bc8-88be-cf6116923b25",
      "metadata": {
        "id": "834b879a-ee44-4bc8-88be-cf6116923b25",
        "outputId": "e3d3a5df-85ba-48e6-8540-195392a3f2d1"
      },
      "outputs": [
        {
          "data": {
            "text/plain": [
              "RangeIndex(start=0, stop=17661, step=1)"
            ]
          },
          "execution_count": 5,
          "metadata": {},
          "output_type": "execute_result"
        }
      ],
      "source": [
        "#find the range of index\n",
        "df.index"
      ]
    },
    {
      "cell_type": "code",
      "execution_count": null,
      "id": "145fa2a3-0df8-40f6-b304-1fcc3be8340d",
      "metadata": {
        "id": "145fa2a3-0df8-40f6-b304-1fcc3be8340d",
        "outputId": "5a685720-3497-48c1-fec8-2aff44e8f03f"
      },
      "outputs": [
        {
          "data": {
            "text/plain": [
              "Index(['Order ID', 'Product', 'Quantity Ordered', 'Price Each', 'Order Date',\n",
              "       'Purchase Address'],\n",
              "      dtype='object')"
            ]
          },
          "execution_count": 6,
          "metadata": {},
          "output_type": "execute_result"
        }
      ],
      "source": [
        "#find the columns in your df\n",
        "df.columns"
      ]
    },
    {
      "cell_type": "code",
      "execution_count": null,
      "id": "22157589-d23f-420e-b839-477e9e064593",
      "metadata": {
        "id": "22157589-d23f-420e-b839-477e9e064593",
        "outputId": "c4f9a8bb-f709-4b8f-ee28-520da4853fda"
      },
      "outputs": [
        {
          "name": "stdout",
          "output_type": "stream",
          "text": [
            "<class 'pandas.core.frame.DataFrame'>\n",
            "RangeIndex: 17661 entries, 0 to 17660\n",
            "Data columns (total 6 columns):\n",
            " #   Column            Non-Null Count  Dtype \n",
            "---  ------            --------------  ----- \n",
            " 0   Order ID          17616 non-null  object\n",
            " 1   Product           17616 non-null  object\n",
            " 2   Quantity Ordered  17616 non-null  object\n",
            " 3   Price Each        17616 non-null  object\n",
            " 4   Order Date        17616 non-null  object\n",
            " 5   Purchase Address  17616 non-null  object\n",
            "dtypes: object(6)\n",
            "memory usage: 828.0+ KB\n"
          ]
        }
      ],
      "source": [
        "#how can i get the overall information of my dataset\n",
        "df.info()"
      ]
    },
    {
      "cell_type": "code",
      "execution_count": null,
      "id": "93736a31-de88-4214-abee-82bb866793c8",
      "metadata": {
        "id": "93736a31-de88-4214-abee-82bb866793c8",
        "outputId": "ac611403-fd8f-4c96-bd20-ec89ab80024d"
      },
      "outputs": [
        {
          "data": {
            "text/plain": [
              "Order ID            object\n",
              "Product             object\n",
              "Quantity Ordered    object\n",
              "Price Each          object\n",
              "Order Date          object\n",
              "Purchase Address    object\n",
              "dtype: object"
            ]
          },
          "execution_count": 9,
          "metadata": {},
          "output_type": "execute_result"
        }
      ],
      "source": [
        "#find the data types of the df\n",
        "df.dtypes"
      ]
    },
    {
      "cell_type": "code",
      "execution_count": null,
      "id": "cf943a96-5b53-45e9-957a-4128c39a3063",
      "metadata": {
        "id": "cf943a96-5b53-45e9-957a-4128c39a3063"
      },
      "outputs": [],
      "source": [
        "#from the overall information of the dataset we have seen that some columns are having mis matched dtypes\n",
        "#In Above df  , Quantity Ordered, Price Each, Date,"
      ]
    },
    {
      "cell_type": "code",
      "execution_count": null,
      "id": "e887a1b8-6354-4813-878b-77db627e5a42",
      "metadata": {
        "id": "e887a1b8-6354-4813-878b-77db627e5a42",
        "outputId": "a758412c-bb55-420e-d2cf-70513370def3"
      },
      "outputs": [
        {
          "data": {
            "text/html": [
              "<div>\n",
              "<style scoped>\n",
              "    .dataframe tbody tr th:only-of-type {\n",
              "        vertical-align: middle;\n",
              "    }\n",
              "\n",
              "    .dataframe tbody tr th {\n",
              "        vertical-align: top;\n",
              "    }\n",
              "\n",
              "    .dataframe thead th {\n",
              "        text-align: right;\n",
              "    }\n",
              "</style>\n",
              "<table border=\"1\" class=\"dataframe\">\n",
              "  <thead>\n",
              "    <tr style=\"text-align: right;\">\n",
              "      <th></th>\n",
              "      <th>Order ID</th>\n",
              "      <th>Product</th>\n",
              "      <th>Quantity Ordered</th>\n",
              "      <th>Price Each</th>\n",
              "      <th>Order Date</th>\n",
              "      <th>Purchase Address</th>\n",
              "    </tr>\n",
              "  </thead>\n",
              "  <tbody>\n",
              "    <tr>\n",
              "      <th>count</th>\n",
              "      <td>17616</td>\n",
              "      <td>17616</td>\n",
              "      <td>17616</td>\n",
              "      <td>17616</td>\n",
              "      <td>17616</td>\n",
              "      <td>17616</td>\n",
              "    </tr>\n",
              "    <tr>\n",
              "      <th>unique</th>\n",
              "      <td>16869</td>\n",
              "      <td>20</td>\n",
              "      <td>9</td>\n",
              "      <td>24</td>\n",
              "      <td>13197</td>\n",
              "      <td>16492</td>\n",
              "    </tr>\n",
              "    <tr>\n",
              "      <th>top</th>\n",
              "      <td>Order ID</td>\n",
              "      <td>USB-C Charging Cable</td>\n",
              "      <td>1</td>\n",
              "      <td>11.95</td>\n",
              "      <td>Order Date</td>\n",
              "      <td>Purchase Address</td>\n",
              "    </tr>\n",
              "    <tr>\n",
              "      <th>freq</th>\n",
              "      <td>36</td>\n",
              "      <td>2062</td>\n",
              "      <td>15925</td>\n",
              "      <td>2062</td>\n",
              "      <td>36</td>\n",
              "      <td>36</td>\n",
              "    </tr>\n",
              "  </tbody>\n",
              "</table>\n",
              "</div>"
            ],
            "text/plain": [
              "        Order ID               Product Quantity Ordered Price Each  \\\n",
              "count      17616                 17616            17616      17616   \n",
              "unique     16869                    20                9         24   \n",
              "top     Order ID  USB-C Charging Cable                1      11.95   \n",
              "freq          36                  2062            15925       2062   \n",
              "\n",
              "        Order Date  Purchase Address  \n",
              "count        17616             17616  \n",
              "unique       13197             16492  \n",
              "top     Order Date  Purchase Address  \n",
              "freq            36                36  "
            ]
          },
          "execution_count": 10,
          "metadata": {},
          "output_type": "execute_result"
        }
      ],
      "source": [
        "#how to describe the overall data\n",
        "df.describe()"
      ]
    },
    {
      "cell_type": "code",
      "execution_count": null,
      "id": "1ede8cf5-db7a-4c24-b404-eefc4cd3bbd0",
      "metadata": {
        "id": "1ede8cf5-db7a-4c24-b404-eefc4cd3bbd0",
        "outputId": "e4e4ec0a-6df7-4c9a-cc4c-e11433d72a43"
      },
      "outputs": [
        {
          "data": {
            "text/html": [
              "<div>\n",
              "<style scoped>\n",
              "    .dataframe tbody tr th:only-of-type {\n",
              "        vertical-align: middle;\n",
              "    }\n",
              "\n",
              "    .dataframe tbody tr th {\n",
              "        vertical-align: top;\n",
              "    }\n",
              "\n",
              "    .dataframe thead th {\n",
              "        text-align: right;\n",
              "    }\n",
              "</style>\n",
              "<table border=\"1\" class=\"dataframe\">\n",
              "  <thead>\n",
              "    <tr style=\"text-align: right;\">\n",
              "      <th></th>\n",
              "      <th>Order ID</th>\n",
              "      <th>Product</th>\n",
              "      <th>Quantity Ordered</th>\n",
              "      <th>Price Each</th>\n",
              "      <th>Order Date</th>\n",
              "      <th>Purchase Address</th>\n",
              "    </tr>\n",
              "  </thead>\n",
              "  <tbody>\n",
              "    <tr>\n",
              "      <th>17656</th>\n",
              "      <td>295660</td>\n",
              "      <td>AAA Batteries (4-pack)</td>\n",
              "      <td>2</td>\n",
              "      <td>2.99</td>\n",
              "      <td>11/04/19 14:17</td>\n",
              "      <td>574 4th St, Los Angeles, CA 90001</td>\n",
              "    </tr>\n",
              "    <tr>\n",
              "      <th>17657</th>\n",
              "      <td>295661</td>\n",
              "      <td>USB-C Charging Cable</td>\n",
              "      <td>1</td>\n",
              "      <td>11.95</td>\n",
              "      <td>11/23/19 07:22</td>\n",
              "      <td>359 1st St, Austin, TX 73301</td>\n",
              "    </tr>\n",
              "    <tr>\n",
              "      <th>17658</th>\n",
              "      <td>295662</td>\n",
              "      <td>Lightning Charging Cable</td>\n",
              "      <td>1</td>\n",
              "      <td>14.95</td>\n",
              "      <td>11/13/19 16:12</td>\n",
              "      <td>900 10th St, Boston, MA 02215</td>\n",
              "    </tr>\n",
              "    <tr>\n",
              "      <th>17659</th>\n",
              "      <td>295663</td>\n",
              "      <td>AAA Batteries (4-pack)</td>\n",
              "      <td>1</td>\n",
              "      <td>2.99</td>\n",
              "      <td>11/17/19 17:08</td>\n",
              "      <td>592 Sunset St, Boston, MA 02215</td>\n",
              "    </tr>\n",
              "    <tr>\n",
              "      <th>17660</th>\n",
              "      <td>295664</td>\n",
              "      <td>Google Phone</td>\n",
              "      <td>1</td>\n",
              "      <td>600</td>\n",
              "      <td>11/17/19 16:13</td>\n",
              "      <td>428 Jackson St, Boston, MA 02215</td>\n",
              "    </tr>\n",
              "  </tbody>\n",
              "</table>\n",
              "</div>"
            ],
            "text/plain": [
              "      Order ID                   Product Quantity Ordered Price Each  \\\n",
              "17656   295660    AAA Batteries (4-pack)                2       2.99   \n",
              "17657   295661      USB-C Charging Cable                1      11.95   \n",
              "17658   295662  Lightning Charging Cable                1      14.95   \n",
              "17659   295663    AAA Batteries (4-pack)                1       2.99   \n",
              "17660   295664              Google Phone                1        600   \n",
              "\n",
              "           Order Date                   Purchase Address  \n",
              "17656  11/04/19 14:17  574 4th St, Los Angeles, CA 90001  \n",
              "17657  11/23/19 07:22       359 1st St, Austin, TX 73301  \n",
              "17658  11/13/19 16:12      900 10th St, Boston, MA 02215  \n",
              "17659  11/17/19 17:08    592 Sunset St, Boston, MA 02215  \n",
              "17660  11/17/19 16:13   428 Jackson St, Boston, MA 02215  "
            ]
          },
          "execution_count": 11,
          "metadata": {},
          "output_type": "execute_result"
        }
      ],
      "source": [
        "#i want to check the last 10 rows in my df\n",
        "df.tail()  #By default df.tail() prints last 5 rows"
      ]
    },
    {
      "cell_type": "code",
      "execution_count": null,
      "id": "4df3373a-a438-41d5-969e-58393fb0e9cc",
      "metadata": {
        "id": "4df3373a-a438-41d5-969e-58393fb0e9cc",
        "outputId": "78306c0c-535b-4c25-d2b6-da1d5fb4ece2"
      },
      "outputs": [
        {
          "data": {
            "text/html": [
              "<div>\n",
              "<style scoped>\n",
              "    .dataframe tbody tr th:only-of-type {\n",
              "        vertical-align: middle;\n",
              "    }\n",
              "\n",
              "    .dataframe tbody tr th {\n",
              "        vertical-align: top;\n",
              "    }\n",
              "\n",
              "    .dataframe thead th {\n",
              "        text-align: right;\n",
              "    }\n",
              "</style>\n",
              "<table border=\"1\" class=\"dataframe\">\n",
              "  <thead>\n",
              "    <tr style=\"text-align: right;\">\n",
              "      <th></th>\n",
              "      <th>Order ID</th>\n",
              "      <th>Product</th>\n",
              "      <th>Quantity Ordered</th>\n",
              "      <th>Price Each</th>\n",
              "      <th>Order Date</th>\n",
              "      <th>Purchase Address</th>\n",
              "    </tr>\n",
              "  </thead>\n",
              "  <tbody>\n",
              "    <tr>\n",
              "      <th>17651</th>\n",
              "      <td>295655</td>\n",
              "      <td>Wired Headphones</td>\n",
              "      <td>1</td>\n",
              "      <td>11.99</td>\n",
              "      <td>11/10/19 10:39</td>\n",
              "      <td>246 Ridge St, New York City, NY 10001</td>\n",
              "    </tr>\n",
              "    <tr>\n",
              "      <th>17652</th>\n",
              "      <td>295656</td>\n",
              "      <td>Wired Headphones</td>\n",
              "      <td>1</td>\n",
              "      <td>11.99</td>\n",
              "      <td>11/04/19 16:26</td>\n",
              "      <td>320 Pine St, Atlanta, GA 30301</td>\n",
              "    </tr>\n",
              "    <tr>\n",
              "      <th>17653</th>\n",
              "      <td>295657</td>\n",
              "      <td>AA Batteries (4-pack)</td>\n",
              "      <td>1</td>\n",
              "      <td>3.84</td>\n",
              "      <td>11/02/19 18:29</td>\n",
              "      <td>596 Cherry St, Atlanta, GA 30301</td>\n",
              "    </tr>\n",
              "    <tr>\n",
              "      <th>17654</th>\n",
              "      <td>295658</td>\n",
              "      <td>Google Phone</td>\n",
              "      <td>1</td>\n",
              "      <td>600</td>\n",
              "      <td>11/17/19 13:37</td>\n",
              "      <td>949 River St, San Francisco, CA 94016</td>\n",
              "    </tr>\n",
              "    <tr>\n",
              "      <th>17655</th>\n",
              "      <td>295659</td>\n",
              "      <td>AA Batteries (4-pack)</td>\n",
              "      <td>3</td>\n",
              "      <td>3.84</td>\n",
              "      <td>11/22/19 20:07</td>\n",
              "      <td>173 11th St, San Francisco, CA 94016</td>\n",
              "    </tr>\n",
              "    <tr>\n",
              "      <th>17656</th>\n",
              "      <td>295660</td>\n",
              "      <td>AAA Batteries (4-pack)</td>\n",
              "      <td>2</td>\n",
              "      <td>2.99</td>\n",
              "      <td>11/04/19 14:17</td>\n",
              "      <td>574 4th St, Los Angeles, CA 90001</td>\n",
              "    </tr>\n",
              "    <tr>\n",
              "      <th>17657</th>\n",
              "      <td>295661</td>\n",
              "      <td>USB-C Charging Cable</td>\n",
              "      <td>1</td>\n",
              "      <td>11.95</td>\n",
              "      <td>11/23/19 07:22</td>\n",
              "      <td>359 1st St, Austin, TX 73301</td>\n",
              "    </tr>\n",
              "    <tr>\n",
              "      <th>17658</th>\n",
              "      <td>295662</td>\n",
              "      <td>Lightning Charging Cable</td>\n",
              "      <td>1</td>\n",
              "      <td>14.95</td>\n",
              "      <td>11/13/19 16:12</td>\n",
              "      <td>900 10th St, Boston, MA 02215</td>\n",
              "    </tr>\n",
              "    <tr>\n",
              "      <th>17659</th>\n",
              "      <td>295663</td>\n",
              "      <td>AAA Batteries (4-pack)</td>\n",
              "      <td>1</td>\n",
              "      <td>2.99</td>\n",
              "      <td>11/17/19 17:08</td>\n",
              "      <td>592 Sunset St, Boston, MA 02215</td>\n",
              "    </tr>\n",
              "    <tr>\n",
              "      <th>17660</th>\n",
              "      <td>295664</td>\n",
              "      <td>Google Phone</td>\n",
              "      <td>1</td>\n",
              "      <td>600</td>\n",
              "      <td>11/17/19 16:13</td>\n",
              "      <td>428 Jackson St, Boston, MA 02215</td>\n",
              "    </tr>\n",
              "  </tbody>\n",
              "</table>\n",
              "</div>"
            ],
            "text/plain": [
              "      Order ID                   Product Quantity Ordered Price Each  \\\n",
              "17651   295655          Wired Headphones                1      11.99   \n",
              "17652   295656          Wired Headphones                1      11.99   \n",
              "17653   295657     AA Batteries (4-pack)                1       3.84   \n",
              "17654   295658              Google Phone                1        600   \n",
              "17655   295659     AA Batteries (4-pack)                3       3.84   \n",
              "17656   295660    AAA Batteries (4-pack)                2       2.99   \n",
              "17657   295661      USB-C Charging Cable                1      11.95   \n",
              "17658   295662  Lightning Charging Cable                1      14.95   \n",
              "17659   295663    AAA Batteries (4-pack)                1       2.99   \n",
              "17660   295664              Google Phone                1        600   \n",
              "\n",
              "           Order Date                       Purchase Address  \n",
              "17651  11/10/19 10:39  246 Ridge St, New York City, NY 10001  \n",
              "17652  11/04/19 16:26         320 Pine St, Atlanta, GA 30301  \n",
              "17653  11/02/19 18:29       596 Cherry St, Atlanta, GA 30301  \n",
              "17654  11/17/19 13:37  949 River St, San Francisco, CA 94016  \n",
              "17655  11/22/19 20:07   173 11th St, San Francisco, CA 94016  \n",
              "17656  11/04/19 14:17      574 4th St, Los Angeles, CA 90001  \n",
              "17657  11/23/19 07:22           359 1st St, Austin, TX 73301  \n",
              "17658  11/13/19 16:12          900 10th St, Boston, MA 02215  \n",
              "17659  11/17/19 17:08        592 Sunset St, Boston, MA 02215  \n",
              "17660  11/17/19 16:13       428 Jackson St, Boston, MA 02215  "
            ]
          },
          "execution_count": 12,
          "metadata": {},
          "output_type": "execute_result"
        }
      ],
      "source": [
        "df.tail(10)\n",
        "#Note if you want specific number of rows give number in the function or paranthesis"
      ]
    },
    {
      "cell_type": "code",
      "execution_count": null,
      "id": "f8671d12-7cba-40a9-ae5f-d6217d679fcf",
      "metadata": {
        "id": "f8671d12-7cba-40a9-ae5f-d6217d679fcf",
        "outputId": "2d022326-a355-4550-beed-d3bea0bca3c9"
      },
      "outputs": [
        {
          "data": {
            "text/html": [
              "<div>\n",
              "<style scoped>\n",
              "    .dataframe tbody tr th:only-of-type {\n",
              "        vertical-align: middle;\n",
              "    }\n",
              "\n",
              "    .dataframe tbody tr th {\n",
              "        vertical-align: top;\n",
              "    }\n",
              "\n",
              "    .dataframe thead th {\n",
              "        text-align: right;\n",
              "    }\n",
              "</style>\n",
              "<table border=\"1\" class=\"dataframe\">\n",
              "  <thead>\n",
              "    <tr style=\"text-align: right;\">\n",
              "      <th></th>\n",
              "      <th>Order ID</th>\n",
              "      <th>Product</th>\n",
              "      <th>Quantity Ordered</th>\n",
              "      <th>Price Each</th>\n",
              "      <th>Order Date</th>\n",
              "      <th>Purchase Address</th>\n",
              "    </tr>\n",
              "  </thead>\n",
              "  <tbody>\n",
              "    <tr>\n",
              "      <th>0</th>\n",
              "      <td>False</td>\n",
              "      <td>False</td>\n",
              "      <td>False</td>\n",
              "      <td>False</td>\n",
              "      <td>False</td>\n",
              "      <td>False</td>\n",
              "    </tr>\n",
              "    <tr>\n",
              "      <th>1</th>\n",
              "      <td>False</td>\n",
              "      <td>False</td>\n",
              "      <td>False</td>\n",
              "      <td>False</td>\n",
              "      <td>False</td>\n",
              "      <td>False</td>\n",
              "    </tr>\n",
              "    <tr>\n",
              "      <th>2</th>\n",
              "      <td>False</td>\n",
              "      <td>False</td>\n",
              "      <td>False</td>\n",
              "      <td>False</td>\n",
              "      <td>False</td>\n",
              "      <td>False</td>\n",
              "    </tr>\n",
              "    <tr>\n",
              "      <th>3</th>\n",
              "      <td>False</td>\n",
              "      <td>False</td>\n",
              "      <td>False</td>\n",
              "      <td>False</td>\n",
              "      <td>False</td>\n",
              "      <td>False</td>\n",
              "    </tr>\n",
              "    <tr>\n",
              "      <th>4</th>\n",
              "      <td>False</td>\n",
              "      <td>False</td>\n",
              "      <td>False</td>\n",
              "      <td>False</td>\n",
              "      <td>False</td>\n",
              "      <td>False</td>\n",
              "    </tr>\n",
              "    <tr>\n",
              "      <th>...</th>\n",
              "      <td>...</td>\n",
              "      <td>...</td>\n",
              "      <td>...</td>\n",
              "      <td>...</td>\n",
              "      <td>...</td>\n",
              "      <td>...</td>\n",
              "    </tr>\n",
              "    <tr>\n",
              "      <th>17656</th>\n",
              "      <td>False</td>\n",
              "      <td>False</td>\n",
              "      <td>False</td>\n",
              "      <td>False</td>\n",
              "      <td>False</td>\n",
              "      <td>False</td>\n",
              "    </tr>\n",
              "    <tr>\n",
              "      <th>17657</th>\n",
              "      <td>False</td>\n",
              "      <td>False</td>\n",
              "      <td>False</td>\n",
              "      <td>False</td>\n",
              "      <td>False</td>\n",
              "      <td>False</td>\n",
              "    </tr>\n",
              "    <tr>\n",
              "      <th>17658</th>\n",
              "      <td>False</td>\n",
              "      <td>False</td>\n",
              "      <td>False</td>\n",
              "      <td>False</td>\n",
              "      <td>False</td>\n",
              "      <td>False</td>\n",
              "    </tr>\n",
              "    <tr>\n",
              "      <th>17659</th>\n",
              "      <td>False</td>\n",
              "      <td>False</td>\n",
              "      <td>False</td>\n",
              "      <td>False</td>\n",
              "      <td>False</td>\n",
              "      <td>False</td>\n",
              "    </tr>\n",
              "    <tr>\n",
              "      <th>17660</th>\n",
              "      <td>False</td>\n",
              "      <td>False</td>\n",
              "      <td>False</td>\n",
              "      <td>False</td>\n",
              "      <td>False</td>\n",
              "      <td>False</td>\n",
              "    </tr>\n",
              "  </tbody>\n",
              "</table>\n",
              "<p>17661 rows × 6 columns</p>\n",
              "</div>"
            ],
            "text/plain": [
              "       Order ID  Product  Quantity Ordered  Price Each  Order Date  \\\n",
              "0         False    False             False       False       False   \n",
              "1         False    False             False       False       False   \n",
              "2         False    False             False       False       False   \n",
              "3         False    False             False       False       False   \n",
              "4         False    False             False       False       False   \n",
              "...         ...      ...               ...         ...         ...   \n",
              "17656     False    False             False       False       False   \n",
              "17657     False    False             False       False       False   \n",
              "17658     False    False             False       False       False   \n",
              "17659     False    False             False       False       False   \n",
              "17660     False    False             False       False       False   \n",
              "\n",
              "       Purchase Address  \n",
              "0                 False  \n",
              "1                 False  \n",
              "2                 False  \n",
              "3                 False  \n",
              "4                 False  \n",
              "...                 ...  \n",
              "17656             False  \n",
              "17657             False  \n",
              "17658             False  \n",
              "17659             False  \n",
              "17660             False  \n",
              "\n",
              "[17661 rows x 6 columns]"
            ]
          },
          "execution_count": 14,
          "metadata": {},
          "output_type": "execute_result"
        }
      ],
      "source": [
        "#check the null values present in the df or not?\n",
        "df.isna() #df.isna() returns the o/p in boolean form(true if present, false if not present null values)\n",
        "df.isnull() #df.isnull() returns the o/p in boolean form(true if present, false if not present null values)\n"
      ]
    },
    {
      "cell_type": "code",
      "execution_count": null,
      "id": "af05f0a8-74ab-4a1c-a4fe-e34af4fa7bb4",
      "metadata": {
        "id": "af05f0a8-74ab-4a1c-a4fe-e34af4fa7bb4",
        "outputId": "462c2518-631f-4965-b2c6-a5dd7fe5a1d7"
      },
      "outputs": [
        {
          "data": {
            "text/plain": [
              "Order ID            45\n",
              "Product             45\n",
              "Quantity Ordered    45\n",
              "Price Each          45\n",
              "Order Date          45\n",
              "Purchase Address    45\n",
              "dtype: int64"
            ]
          },
          "execution_count": 15,
          "metadata": {},
          "output_type": "execute_result"
        }
      ],
      "source": [
        "#find the sum of null values\n",
        "df.isnull().sum()"
      ]
    },
    {
      "cell_type": "code",
      "execution_count": null,
      "id": "6195eda4-f49b-4254-be6a-1487b43b8df6",
      "metadata": {
        "id": "6195eda4-f49b-4254-be6a-1487b43b8df6",
        "outputId": "afa3c769-09d7-463a-bb18-3143f6ef5842"
      },
      "outputs": [
        {
          "data": {
            "text/html": [
              "<div>\n",
              "<style scoped>\n",
              "    .dataframe tbody tr th:only-of-type {\n",
              "        vertical-align: middle;\n",
              "    }\n",
              "\n",
              "    .dataframe tbody tr th {\n",
              "        vertical-align: top;\n",
              "    }\n",
              "\n",
              "    .dataframe thead th {\n",
              "        text-align: right;\n",
              "    }\n",
              "</style>\n",
              "<table border=\"1\" class=\"dataframe\">\n",
              "  <thead>\n",
              "    <tr style=\"text-align: right;\">\n",
              "      <th></th>\n",
              "      <th>Order ID</th>\n",
              "      <th>Product</th>\n",
              "      <th>Quantity Ordered</th>\n",
              "      <th>Price Each</th>\n",
              "      <th>Order Date</th>\n",
              "      <th>Purchase Address</th>\n",
              "    </tr>\n",
              "  </thead>\n",
              "  <tbody>\n",
              "    <tr>\n",
              "      <th>69</th>\n",
              "      <td>NaN</td>\n",
              "      <td>NaN</td>\n",
              "      <td>NaN</td>\n",
              "      <td>NaN</td>\n",
              "      <td>NaN</td>\n",
              "      <td>NaN</td>\n",
              "    </tr>\n",
              "    <tr>\n",
              "      <th>138</th>\n",
              "      <td>NaN</td>\n",
              "      <td>NaN</td>\n",
              "      <td>NaN</td>\n",
              "      <td>NaN</td>\n",
              "      <td>NaN</td>\n",
              "      <td>NaN</td>\n",
              "    </tr>\n",
              "    <tr>\n",
              "      <th>544</th>\n",
              "      <td>NaN</td>\n",
              "      <td>NaN</td>\n",
              "      <td>NaN</td>\n",
              "      <td>NaN</td>\n",
              "      <td>NaN</td>\n",
              "      <td>NaN</td>\n",
              "    </tr>\n",
              "    <tr>\n",
              "      <th>546</th>\n",
              "      <td>NaN</td>\n",
              "      <td>NaN</td>\n",
              "      <td>NaN</td>\n",
              "      <td>NaN</td>\n",
              "      <td>NaN</td>\n",
              "      <td>NaN</td>\n",
              "    </tr>\n",
              "    <tr>\n",
              "      <th>781</th>\n",
              "      <td>NaN</td>\n",
              "      <td>NaN</td>\n",
              "      <td>NaN</td>\n",
              "      <td>NaN</td>\n",
              "      <td>NaN</td>\n",
              "      <td>NaN</td>\n",
              "    </tr>\n",
              "    <tr>\n",
              "      <th>1853</th>\n",
              "      <td>NaN</td>\n",
              "      <td>NaN</td>\n",
              "      <td>NaN</td>\n",
              "      <td>NaN</td>\n",
              "      <td>NaN</td>\n",
              "      <td>NaN</td>\n",
              "    </tr>\n",
              "    <tr>\n",
              "      <th>1986</th>\n",
              "      <td>NaN</td>\n",
              "      <td>NaN</td>\n",
              "      <td>NaN</td>\n",
              "      <td>NaN</td>\n",
              "      <td>NaN</td>\n",
              "      <td>NaN</td>\n",
              "    </tr>\n",
              "    <tr>\n",
              "      <th>2087</th>\n",
              "      <td>NaN</td>\n",
              "      <td>NaN</td>\n",
              "      <td>NaN</td>\n",
              "      <td>NaN</td>\n",
              "      <td>NaN</td>\n",
              "      <td>NaN</td>\n",
              "    </tr>\n",
              "    <tr>\n",
              "      <th>2093</th>\n",
              "      <td>NaN</td>\n",
              "      <td>NaN</td>\n",
              "      <td>NaN</td>\n",
              "      <td>NaN</td>\n",
              "      <td>NaN</td>\n",
              "      <td>NaN</td>\n",
              "    </tr>\n",
              "    <tr>\n",
              "      <th>2621</th>\n",
              "      <td>NaN</td>\n",
              "      <td>NaN</td>\n",
              "      <td>NaN</td>\n",
              "      <td>NaN</td>\n",
              "      <td>NaN</td>\n",
              "      <td>NaN</td>\n",
              "    </tr>\n",
              "    <tr>\n",
              "      <th>3297</th>\n",
              "      <td>NaN</td>\n",
              "      <td>NaN</td>\n",
              "      <td>NaN</td>\n",
              "      <td>NaN</td>\n",
              "      <td>NaN</td>\n",
              "      <td>NaN</td>\n",
              "    </tr>\n",
              "    <tr>\n",
              "      <th>3927</th>\n",
              "      <td>NaN</td>\n",
              "      <td>NaN</td>\n",
              "      <td>NaN</td>\n",
              "      <td>NaN</td>\n",
              "      <td>NaN</td>\n",
              "      <td>NaN</td>\n",
              "    </tr>\n",
              "    <tr>\n",
              "      <th>4442</th>\n",
              "      <td>NaN</td>\n",
              "      <td>NaN</td>\n",
              "      <td>NaN</td>\n",
              "      <td>NaN</td>\n",
              "      <td>NaN</td>\n",
              "      <td>NaN</td>\n",
              "    </tr>\n",
              "    <tr>\n",
              "      <th>5912</th>\n",
              "      <td>NaN</td>\n",
              "      <td>NaN</td>\n",
              "      <td>NaN</td>\n",
              "      <td>NaN</td>\n",
              "      <td>NaN</td>\n",
              "      <td>NaN</td>\n",
              "    </tr>\n",
              "    <tr>\n",
              "      <th>6126</th>\n",
              "      <td>NaN</td>\n",
              "      <td>NaN</td>\n",
              "      <td>NaN</td>\n",
              "      <td>NaN</td>\n",
              "      <td>NaN</td>\n",
              "      <td>NaN</td>\n",
              "    </tr>\n",
              "    <tr>\n",
              "      <th>6487</th>\n",
              "      <td>NaN</td>\n",
              "      <td>NaN</td>\n",
              "      <td>NaN</td>\n",
              "      <td>NaN</td>\n",
              "      <td>NaN</td>\n",
              "      <td>NaN</td>\n",
              "    </tr>\n",
              "    <tr>\n",
              "      <th>7059</th>\n",
              "      <td>NaN</td>\n",
              "      <td>NaN</td>\n",
              "      <td>NaN</td>\n",
              "      <td>NaN</td>\n",
              "      <td>NaN</td>\n",
              "      <td>NaN</td>\n",
              "    </tr>\n",
              "    <tr>\n",
              "      <th>7631</th>\n",
              "      <td>NaN</td>\n",
              "      <td>NaN</td>\n",
              "      <td>NaN</td>\n",
              "      <td>NaN</td>\n",
              "      <td>NaN</td>\n",
              "      <td>NaN</td>\n",
              "    </tr>\n",
              "    <tr>\n",
              "      <th>7646</th>\n",
              "      <td>NaN</td>\n",
              "      <td>NaN</td>\n",
              "      <td>NaN</td>\n",
              "      <td>NaN</td>\n",
              "      <td>NaN</td>\n",
              "      <td>NaN</td>\n",
              "    </tr>\n",
              "    <tr>\n",
              "      <th>7670</th>\n",
              "      <td>NaN</td>\n",
              "      <td>NaN</td>\n",
              "      <td>NaN</td>\n",
              "      <td>NaN</td>\n",
              "      <td>NaN</td>\n",
              "      <td>NaN</td>\n",
              "    </tr>\n",
              "    <tr>\n",
              "      <th>8380</th>\n",
              "      <td>NaN</td>\n",
              "      <td>NaN</td>\n",
              "      <td>NaN</td>\n",
              "      <td>NaN</td>\n",
              "      <td>NaN</td>\n",
              "      <td>NaN</td>\n",
              "    </tr>\n",
              "    <tr>\n",
              "      <th>8674</th>\n",
              "      <td>NaN</td>\n",
              "      <td>NaN</td>\n",
              "      <td>NaN</td>\n",
              "      <td>NaN</td>\n",
              "      <td>NaN</td>\n",
              "      <td>NaN</td>\n",
              "    </tr>\n",
              "    <tr>\n",
              "      <th>11002</th>\n",
              "      <td>NaN</td>\n",
              "      <td>NaN</td>\n",
              "      <td>NaN</td>\n",
              "      <td>NaN</td>\n",
              "      <td>NaN</td>\n",
              "      <td>NaN</td>\n",
              "    </tr>\n",
              "    <tr>\n",
              "      <th>11183</th>\n",
              "      <td>NaN</td>\n",
              "      <td>NaN</td>\n",
              "      <td>NaN</td>\n",
              "      <td>NaN</td>\n",
              "      <td>NaN</td>\n",
              "      <td>NaN</td>\n",
              "    </tr>\n",
              "    <tr>\n",
              "      <th>11286</th>\n",
              "      <td>NaN</td>\n",
              "      <td>NaN</td>\n",
              "      <td>NaN</td>\n",
              "      <td>NaN</td>\n",
              "      <td>NaN</td>\n",
              "      <td>NaN</td>\n",
              "    </tr>\n",
              "    <tr>\n",
              "      <th>11584</th>\n",
              "      <td>NaN</td>\n",
              "      <td>NaN</td>\n",
              "      <td>NaN</td>\n",
              "      <td>NaN</td>\n",
              "      <td>NaN</td>\n",
              "      <td>NaN</td>\n",
              "    </tr>\n",
              "    <tr>\n",
              "      <th>11619</th>\n",
              "      <td>NaN</td>\n",
              "      <td>NaN</td>\n",
              "      <td>NaN</td>\n",
              "      <td>NaN</td>\n",
              "      <td>NaN</td>\n",
              "      <td>NaN</td>\n",
              "    </tr>\n",
              "    <tr>\n",
              "      <th>11904</th>\n",
              "      <td>NaN</td>\n",
              "      <td>NaN</td>\n",
              "      <td>NaN</td>\n",
              "      <td>NaN</td>\n",
              "      <td>NaN</td>\n",
              "      <td>NaN</td>\n",
              "    </tr>\n",
              "    <tr>\n",
              "      <th>12194</th>\n",
              "      <td>NaN</td>\n",
              "      <td>NaN</td>\n",
              "      <td>NaN</td>\n",
              "      <td>NaN</td>\n",
              "      <td>NaN</td>\n",
              "      <td>NaN</td>\n",
              "    </tr>\n",
              "    <tr>\n",
              "      <th>12487</th>\n",
              "      <td>NaN</td>\n",
              "      <td>NaN</td>\n",
              "      <td>NaN</td>\n",
              "      <td>NaN</td>\n",
              "      <td>NaN</td>\n",
              "      <td>NaN</td>\n",
              "    </tr>\n",
              "    <tr>\n",
              "      <th>13072</th>\n",
              "      <td>NaN</td>\n",
              "      <td>NaN</td>\n",
              "      <td>NaN</td>\n",
              "      <td>NaN</td>\n",
              "      <td>NaN</td>\n",
              "      <td>NaN</td>\n",
              "    </tr>\n",
              "    <tr>\n",
              "      <th>13488</th>\n",
              "      <td>NaN</td>\n",
              "      <td>NaN</td>\n",
              "      <td>NaN</td>\n",
              "      <td>NaN</td>\n",
              "      <td>NaN</td>\n",
              "      <td>NaN</td>\n",
              "    </tr>\n",
              "    <tr>\n",
              "      <th>13603</th>\n",
              "      <td>NaN</td>\n",
              "      <td>NaN</td>\n",
              "      <td>NaN</td>\n",
              "      <td>NaN</td>\n",
              "      <td>NaN</td>\n",
              "      <td>NaN</td>\n",
              "    </tr>\n",
              "    <tr>\n",
              "      <th>13695</th>\n",
              "      <td>NaN</td>\n",
              "      <td>NaN</td>\n",
              "      <td>NaN</td>\n",
              "      <td>NaN</td>\n",
              "      <td>NaN</td>\n",
              "      <td>NaN</td>\n",
              "    </tr>\n",
              "    <tr>\n",
              "      <th>14159</th>\n",
              "      <td>NaN</td>\n",
              "      <td>NaN</td>\n",
              "      <td>NaN</td>\n",
              "      <td>NaN</td>\n",
              "      <td>NaN</td>\n",
              "      <td>NaN</td>\n",
              "    </tr>\n",
              "    <tr>\n",
              "      <th>15283</th>\n",
              "      <td>NaN</td>\n",
              "      <td>NaN</td>\n",
              "      <td>NaN</td>\n",
              "      <td>NaN</td>\n",
              "      <td>NaN</td>\n",
              "      <td>NaN</td>\n",
              "    </tr>\n",
              "    <tr>\n",
              "      <th>15941</th>\n",
              "      <td>NaN</td>\n",
              "      <td>NaN</td>\n",
              "      <td>NaN</td>\n",
              "      <td>NaN</td>\n",
              "      <td>NaN</td>\n",
              "      <td>NaN</td>\n",
              "    </tr>\n",
              "    <tr>\n",
              "      <th>16327</th>\n",
              "      <td>NaN</td>\n",
              "      <td>NaN</td>\n",
              "      <td>NaN</td>\n",
              "      <td>NaN</td>\n",
              "      <td>NaN</td>\n",
              "      <td>NaN</td>\n",
              "    </tr>\n",
              "    <tr>\n",
              "      <th>16746</th>\n",
              "      <td>NaN</td>\n",
              "      <td>NaN</td>\n",
              "      <td>NaN</td>\n",
              "      <td>NaN</td>\n",
              "      <td>NaN</td>\n",
              "      <td>NaN</td>\n",
              "    </tr>\n",
              "    <tr>\n",
              "      <th>16763</th>\n",
              "      <td>NaN</td>\n",
              "      <td>NaN</td>\n",
              "      <td>NaN</td>\n",
              "      <td>NaN</td>\n",
              "      <td>NaN</td>\n",
              "      <td>NaN</td>\n",
              "    </tr>\n",
              "    <tr>\n",
              "      <th>16771</th>\n",
              "      <td>NaN</td>\n",
              "      <td>NaN</td>\n",
              "      <td>NaN</td>\n",
              "      <td>NaN</td>\n",
              "      <td>NaN</td>\n",
              "      <td>NaN</td>\n",
              "    </tr>\n",
              "    <tr>\n",
              "      <th>16947</th>\n",
              "      <td>NaN</td>\n",
              "      <td>NaN</td>\n",
              "      <td>NaN</td>\n",
              "      <td>NaN</td>\n",
              "      <td>NaN</td>\n",
              "      <td>NaN</td>\n",
              "    </tr>\n",
              "    <tr>\n",
              "      <th>17227</th>\n",
              "      <td>NaN</td>\n",
              "      <td>NaN</td>\n",
              "      <td>NaN</td>\n",
              "      <td>NaN</td>\n",
              "      <td>NaN</td>\n",
              "      <td>NaN</td>\n",
              "    </tr>\n",
              "    <tr>\n",
              "      <th>17464</th>\n",
              "      <td>NaN</td>\n",
              "      <td>NaN</td>\n",
              "      <td>NaN</td>\n",
              "      <td>NaN</td>\n",
              "      <td>NaN</td>\n",
              "      <td>NaN</td>\n",
              "    </tr>\n",
              "    <tr>\n",
              "      <th>17469</th>\n",
              "      <td>NaN</td>\n",
              "      <td>NaN</td>\n",
              "      <td>NaN</td>\n",
              "      <td>NaN</td>\n",
              "      <td>NaN</td>\n",
              "      <td>NaN</td>\n",
              "    </tr>\n",
              "  </tbody>\n",
              "</table>\n",
              "</div>"
            ],
            "text/plain": [
              "      Order ID Product Quantity Ordered Price Each Order Date Purchase Address\n",
              "69         NaN     NaN              NaN        NaN        NaN              NaN\n",
              "138        NaN     NaN              NaN        NaN        NaN              NaN\n",
              "544        NaN     NaN              NaN        NaN        NaN              NaN\n",
              "546        NaN     NaN              NaN        NaN        NaN              NaN\n",
              "781        NaN     NaN              NaN        NaN        NaN              NaN\n",
              "1853       NaN     NaN              NaN        NaN        NaN              NaN\n",
              "1986       NaN     NaN              NaN        NaN        NaN              NaN\n",
              "2087       NaN     NaN              NaN        NaN        NaN              NaN\n",
              "2093       NaN     NaN              NaN        NaN        NaN              NaN\n",
              "2621       NaN     NaN              NaN        NaN        NaN              NaN\n",
              "3297       NaN     NaN              NaN        NaN        NaN              NaN\n",
              "3927       NaN     NaN              NaN        NaN        NaN              NaN\n",
              "4442       NaN     NaN              NaN        NaN        NaN              NaN\n",
              "5912       NaN     NaN              NaN        NaN        NaN              NaN\n",
              "6126       NaN     NaN              NaN        NaN        NaN              NaN\n",
              "6487       NaN     NaN              NaN        NaN        NaN              NaN\n",
              "7059       NaN     NaN              NaN        NaN        NaN              NaN\n",
              "7631       NaN     NaN              NaN        NaN        NaN              NaN\n",
              "7646       NaN     NaN              NaN        NaN        NaN              NaN\n",
              "7670       NaN     NaN              NaN        NaN        NaN              NaN\n",
              "8380       NaN     NaN              NaN        NaN        NaN              NaN\n",
              "8674       NaN     NaN              NaN        NaN        NaN              NaN\n",
              "11002      NaN     NaN              NaN        NaN        NaN              NaN\n",
              "11183      NaN     NaN              NaN        NaN        NaN              NaN\n",
              "11286      NaN     NaN              NaN        NaN        NaN              NaN\n",
              "11584      NaN     NaN              NaN        NaN        NaN              NaN\n",
              "11619      NaN     NaN              NaN        NaN        NaN              NaN\n",
              "11904      NaN     NaN              NaN        NaN        NaN              NaN\n",
              "12194      NaN     NaN              NaN        NaN        NaN              NaN\n",
              "12487      NaN     NaN              NaN        NaN        NaN              NaN\n",
              "13072      NaN     NaN              NaN        NaN        NaN              NaN\n",
              "13488      NaN     NaN              NaN        NaN        NaN              NaN\n",
              "13603      NaN     NaN              NaN        NaN        NaN              NaN\n",
              "13695      NaN     NaN              NaN        NaN        NaN              NaN\n",
              "14159      NaN     NaN              NaN        NaN        NaN              NaN\n",
              "15283      NaN     NaN              NaN        NaN        NaN              NaN\n",
              "15941      NaN     NaN              NaN        NaN        NaN              NaN\n",
              "16327      NaN     NaN              NaN        NaN        NaN              NaN\n",
              "16746      NaN     NaN              NaN        NaN        NaN              NaN\n",
              "16763      NaN     NaN              NaN        NaN        NaN              NaN\n",
              "16771      NaN     NaN              NaN        NaN        NaN              NaN\n",
              "16947      NaN     NaN              NaN        NaN        NaN              NaN\n",
              "17227      NaN     NaN              NaN        NaN        NaN              NaN\n",
              "17464      NaN     NaN              NaN        NaN        NaN              NaN\n",
              "17469      NaN     NaN              NaN        NaN        NaN              NaN"
            ]
          },
          "execution_count": 17,
          "metadata": {},
          "output_type": "execute_result"
        }
      ],
      "source": [
        "#print the rows  where the null values are present\n",
        "null = df[df.isnull().any(axis=1)]\n",
        "null"
      ]
    },
    {
      "cell_type": "code",
      "execution_count": null,
      "id": "8c8ce5f3-fcd0-4261-ad09-2cc988e30a2e",
      "metadata": {
        "id": "8c8ce5f3-fcd0-4261-ad09-2cc988e30a2e"
      },
      "outputs": [],
      "source": [
        "#how can we drop the null values?\n",
        "df.dropna(inplace=True)\n",
        "#df.dropna(inplace=True, subset= df['column name'])"
      ]
    },
    {
      "cell_type": "code",
      "execution_count": null,
      "id": "072bb5d5-5e8b-49dd-a001-4de0d1d0e79c",
      "metadata": {
        "id": "072bb5d5-5e8b-49dd-a001-4de0d1d0e79c",
        "outputId": "9d68d61b-dc4f-4672-8b4f-043df074be97"
      },
      "outputs": [
        {
          "data": {
            "text/plain": [
              "Order ID            0\n",
              "Product             0\n",
              "Quantity Ordered    0\n",
              "Price Each          0\n",
              "Order Date          0\n",
              "Purchase Address    0\n",
              "dtype: int64"
            ]
          },
          "execution_count": 20,
          "metadata": {},
          "output_type": "execute_result"
        }
      ],
      "source": [
        "#check for null values\n",
        "df.isnull().sum()"
      ]
    },
    {
      "cell_type": "code",
      "execution_count": null,
      "id": "b898536d-6abb-46e2-8d30-0146b8ec7624",
      "metadata": {
        "id": "b898536d-6abb-46e2-8d30-0146b8ec7624"
      },
      "outputs": [],
      "source": [
        "#df.index-->start end step range of indexs of your df\n",
        "#df.size--> row*col\n",
        "#df.columns-->print the columns\n",
        "#df.info()-->to get the overall information\n",
        "#df.dtypes---->to,print dtypes\n",
        "#df.describe---> to print the descriptive stats of your df\n",
        "#df.tail()--->to print last rows\n",
        "#df.isna() or df.isnull()--> returns the boolean o/p\n",
        "#df.isnull().sum()-->prints overall sum of data\n",
        "#df.dropna()--> drop the null values"
      ]
    },
    {
      "cell_type": "code",
      "execution_count": null,
      "id": "88656c36-bb9d-4854-b832-52249a65a6a9",
      "metadata": {
        "id": "88656c36-bb9d-4854-b832-52249a65a6a9",
        "outputId": "14e54857-0c7f-45c6-eccf-d9bb05890831"
      },
      "outputs": [
        {
          "data": {
            "text/plain": [
              "Index(['Order ID', 'Product', 'Quantity Ordered', 'Price Each', 'Order Date',\n",
              "       'Purchase Address'],\n",
              "      dtype='object')"
            ]
          },
          "execution_count": 21,
          "metadata": {},
          "output_type": "execute_result"
        }
      ],
      "source": [
        "###Accessing the DF\n",
        "df.columns"
      ]
    },
    {
      "cell_type": "code",
      "execution_count": null,
      "id": "57bdd63c-6bfd-4676-8c68-709ea529557a",
      "metadata": {
        "id": "57bdd63c-6bfd-4676-8c68-709ea529557a",
        "outputId": "eb1bca38-ac61-48e1-c711-6781a162bd38"
      },
      "outputs": [
        {
          "data": {
            "text/plain": [
              "0        1\n",
              "1        2\n",
              "2        1\n",
              "3        1\n",
              "4        1\n",
              "        ..\n",
              "17656    2\n",
              "17657    1\n",
              "17658    1\n",
              "17659    1\n",
              "17660    1\n",
              "Name: Quantity Ordered, Length: 17616, dtype: object"
            ]
          },
          "execution_count": 22,
          "metadata": {},
          "output_type": "execute_result"
        }
      ],
      "source": [
        "#read or access the column quantity order\n",
        "df['Quantity Ordered']"
      ]
    },
    {
      "cell_type": "code",
      "execution_count": null,
      "id": "f4021cfd-25b3-4ad5-97d4-b367f59f09d0",
      "metadata": {
        "id": "f4021cfd-25b3-4ad5-97d4-b367f59f09d0",
        "outputId": "c3472833-4ea1-4c5a-9ee5-843d6153b20d"
      },
      "outputs": [
        {
          "data": {
            "text/html": [
              "<div>\n",
              "<style scoped>\n",
              "    .dataframe tbody tr th:only-of-type {\n",
              "        vertical-align: middle;\n",
              "    }\n",
              "\n",
              "    .dataframe tbody tr th {\n",
              "        vertical-align: top;\n",
              "    }\n",
              "\n",
              "    .dataframe thead th {\n",
              "        text-align: right;\n",
              "    }\n",
              "</style>\n",
              "<table border=\"1\" class=\"dataframe\">\n",
              "  <thead>\n",
              "    <tr style=\"text-align: right;\">\n",
              "      <th></th>\n",
              "      <th>Order ID</th>\n",
              "      <th>Product</th>\n",
              "      <th>Quantity Ordered</th>\n",
              "      <th>Price Each</th>\n",
              "      <th>Order Date</th>\n",
              "      <th>Purchase Address</th>\n",
              "    </tr>\n",
              "  </thead>\n",
              "  <tbody>\n",
              "    <tr>\n",
              "      <th>0</th>\n",
              "      <td>278797</td>\n",
              "      <td>Wired Headphones</td>\n",
              "      <td>1</td>\n",
              "      <td>11.99</td>\n",
              "      <td>11/21/19 09:54</td>\n",
              "      <td>46 Park St, New York City, NY 10001</td>\n",
              "    </tr>\n",
              "    <tr>\n",
              "      <th>1</th>\n",
              "      <td>278798</td>\n",
              "      <td>USB-C Charging Cable</td>\n",
              "      <td>2</td>\n",
              "      <td>11.95</td>\n",
              "      <td>11/17/19 10:03</td>\n",
              "      <td>962 Hickory St, Austin, TX 73301</td>\n",
              "    </tr>\n",
              "    <tr>\n",
              "      <th>2</th>\n",
              "      <td>278799</td>\n",
              "      <td>Apple Airpods Headphones</td>\n",
              "      <td>1</td>\n",
              "      <td>150.0</td>\n",
              "      <td>11/19/19 14:56</td>\n",
              "      <td>464 Cherry St, Los Angeles, CA 90001</td>\n",
              "    </tr>\n",
              "    <tr>\n",
              "      <th>3</th>\n",
              "      <td>278800</td>\n",
              "      <td>27in FHD Monitor</td>\n",
              "      <td>1</td>\n",
              "      <td>149.99</td>\n",
              "      <td>11/25/19 22:24</td>\n",
              "      <td>649 10th St, Seattle, WA 98101</td>\n",
              "    </tr>\n",
              "    <tr>\n",
              "      <th>4</th>\n",
              "      <td>278801</td>\n",
              "      <td>Bose SoundSport Headphones</td>\n",
              "      <td>1</td>\n",
              "      <td>99.99</td>\n",
              "      <td>11/09/19 13:56</td>\n",
              "      <td>522 Hill St, Boston, MA 02215</td>\n",
              "    </tr>\n",
              "  </tbody>\n",
              "</table>\n",
              "</div>"
            ],
            "text/plain": [
              "  Order ID                     Product Quantity Ordered Price Each  \\\n",
              "0   278797            Wired Headphones                1      11.99   \n",
              "1   278798        USB-C Charging Cable                2      11.95   \n",
              "2   278799    Apple Airpods Headphones                1      150.0   \n",
              "3   278800            27in FHD Monitor                1     149.99   \n",
              "4   278801  Bose SoundSport Headphones                1      99.99   \n",
              "\n",
              "       Order Date                      Purchase Address  \n",
              "0  11/21/19 09:54   46 Park St, New York City, NY 10001  \n",
              "1  11/17/19 10:03      962 Hickory St, Austin, TX 73301  \n",
              "2  11/19/19 14:56  464 Cherry St, Los Angeles, CA 90001  \n",
              "3  11/25/19 22:24        649 10th St, Seattle, WA 98101  \n",
              "4  11/09/19 13:56         522 Hill St, Boston, MA 02215  "
            ]
          },
          "execution_count": 23,
          "metadata": {},
          "output_type": "execute_result"
        }
      ],
      "source": [
        "#read the 1st 5 rows of df\n",
        "df.head()#by default it print first 5 rows"
      ]
    },
    {
      "cell_type": "code",
      "execution_count": null,
      "id": "54641055-e934-4d9c-b564-a1a04703bacf",
      "metadata": {
        "id": "54641055-e934-4d9c-b564-a1a04703bacf"
      },
      "outputs": [],
      "source": [
        "df.head(10) #to read the 1st 10 rows"
      ]
    },
    {
      "cell_type": "code",
      "execution_count": null,
      "id": "ff4718f5-11d7-4ab6-8df8-96d4721da10a",
      "metadata": {
        "id": "ff4718f5-11d7-4ab6-8df8-96d4721da10a",
        "outputId": "df4239d0-fa94-4b59-9eeb-5de906d54f02"
      },
      "outputs": [
        {
          "data": {
            "text/plain": [
              "0              Wired Headphones\n",
              "1          USB-C Charging Cable\n",
              "2      Apple Airpods Headphones\n",
              "3              27in FHD Monitor\n",
              "4    Bose SoundSport Headphones\n",
              "Name: Product, dtype: object"
            ]
          },
          "execution_count": 24,
          "metadata": {},
          "output_type": "execute_result"
        }
      ],
      "source": [
        "#access the product column with 1st 5 rows\n",
        "df['Product'].head()"
      ]
    },
    {
      "cell_type": "code",
      "execution_count": null,
      "id": "6485cdc4-9bec-4fd5-b5e7-5b6bbf067329",
      "metadata": {
        "id": "6485cdc4-9bec-4fd5-b5e7-5b6bbf067329",
        "outputId": "82ab45fe-f7cc-41d1-8f41-a5126232d0ea"
      },
      "outputs": [
        {
          "data": {
            "text/plain": [
              "'46 Park St, New York City, NY 10001'"
            ]
          },
          "execution_count": 25,
          "metadata": {},
          "output_type": "execute_result"
        }
      ],
      "source": [
        "#print 1st value of the column Purchase order\n",
        "df['Purchase Address'][0]"
      ]
    },
    {
      "cell_type": "code",
      "execution_count": null,
      "id": "66c8833d-31b2-404a-8868-87ea5cca76f4",
      "metadata": {
        "id": "66c8833d-31b2-404a-8868-87ea5cca76f4",
        "outputId": "c144257d-ae37-48f7-ec82-e7363175139b"
      },
      "outputs": [
        {
          "data": {
            "text/html": [
              "<div>\n",
              "<style scoped>\n",
              "    .dataframe tbody tr th:only-of-type {\n",
              "        vertical-align: middle;\n",
              "    }\n",
              "\n",
              "    .dataframe tbody tr th {\n",
              "        vertical-align: top;\n",
              "    }\n",
              "\n",
              "    .dataframe thead th {\n",
              "        text-align: right;\n",
              "    }\n",
              "</style>\n",
              "<table border=\"1\" class=\"dataframe\">\n",
              "  <thead>\n",
              "    <tr style=\"text-align: right;\">\n",
              "      <th></th>\n",
              "      <th>Purchase Address</th>\n",
              "      <th>Product</th>\n",
              "      <th>Quantity Ordered</th>\n",
              "    </tr>\n",
              "  </thead>\n",
              "  <tbody>\n",
              "    <tr>\n",
              "      <th>0</th>\n",
              "      <td>46 Park St, New York City, NY 10001</td>\n",
              "      <td>Wired Headphones</td>\n",
              "      <td>1</td>\n",
              "    </tr>\n",
              "    <tr>\n",
              "      <th>1</th>\n",
              "      <td>962 Hickory St, Austin, TX 73301</td>\n",
              "      <td>USB-C Charging Cable</td>\n",
              "      <td>2</td>\n",
              "    </tr>\n",
              "    <tr>\n",
              "      <th>2</th>\n",
              "      <td>464 Cherry St, Los Angeles, CA 90001</td>\n",
              "      <td>Apple Airpods Headphones</td>\n",
              "      <td>1</td>\n",
              "    </tr>\n",
              "    <tr>\n",
              "      <th>3</th>\n",
              "      <td>649 10th St, Seattle, WA 98101</td>\n",
              "      <td>27in FHD Monitor</td>\n",
              "      <td>1</td>\n",
              "    </tr>\n",
              "    <tr>\n",
              "      <th>4</th>\n",
              "      <td>522 Hill St, Boston, MA 02215</td>\n",
              "      <td>Bose SoundSport Headphones</td>\n",
              "      <td>1</td>\n",
              "    </tr>\n",
              "    <tr>\n",
              "      <th>...</th>\n",
              "      <td>...</td>\n",
              "      <td>...</td>\n",
              "      <td>...</td>\n",
              "    </tr>\n",
              "    <tr>\n",
              "      <th>17656</th>\n",
              "      <td>574 4th St, Los Angeles, CA 90001</td>\n",
              "      <td>AAA Batteries (4-pack)</td>\n",
              "      <td>2</td>\n",
              "    </tr>\n",
              "    <tr>\n",
              "      <th>17657</th>\n",
              "      <td>359 1st St, Austin, TX 73301</td>\n",
              "      <td>USB-C Charging Cable</td>\n",
              "      <td>1</td>\n",
              "    </tr>\n",
              "    <tr>\n",
              "      <th>17658</th>\n",
              "      <td>900 10th St, Boston, MA 02215</td>\n",
              "      <td>Lightning Charging Cable</td>\n",
              "      <td>1</td>\n",
              "    </tr>\n",
              "    <tr>\n",
              "      <th>17659</th>\n",
              "      <td>592 Sunset St, Boston, MA 02215</td>\n",
              "      <td>AAA Batteries (4-pack)</td>\n",
              "      <td>1</td>\n",
              "    </tr>\n",
              "    <tr>\n",
              "      <th>17660</th>\n",
              "      <td>428 Jackson St, Boston, MA 02215</td>\n",
              "      <td>Google Phone</td>\n",
              "      <td>1</td>\n",
              "    </tr>\n",
              "  </tbody>\n",
              "</table>\n",
              "<p>17616 rows × 3 columns</p>\n",
              "</div>"
            ],
            "text/plain": [
              "                           Purchase Address                     Product  \\\n",
              "0       46 Park St, New York City, NY 10001            Wired Headphones   \n",
              "1          962 Hickory St, Austin, TX 73301        USB-C Charging Cable   \n",
              "2      464 Cherry St, Los Angeles, CA 90001    Apple Airpods Headphones   \n",
              "3            649 10th St, Seattle, WA 98101            27in FHD Monitor   \n",
              "4             522 Hill St, Boston, MA 02215  Bose SoundSport Headphones   \n",
              "...                                     ...                         ...   \n",
              "17656     574 4th St, Los Angeles, CA 90001      AAA Batteries (4-pack)   \n",
              "17657          359 1st St, Austin, TX 73301        USB-C Charging Cable   \n",
              "17658         900 10th St, Boston, MA 02215    Lightning Charging Cable   \n",
              "17659       592 Sunset St, Boston, MA 02215      AAA Batteries (4-pack)   \n",
              "17660      428 Jackson St, Boston, MA 02215                Google Phone   \n",
              "\n",
              "      Quantity Ordered  \n",
              "0                    1  \n",
              "1                    2  \n",
              "2                    1  \n",
              "3                    1  \n",
              "4                    1  \n",
              "...                ...  \n",
              "17656                2  \n",
              "17657                1  \n",
              "17658                1  \n",
              "17659                1  \n",
              "17660                1  \n",
              "\n",
              "[17616 rows x 3 columns]"
            ]
          },
          "execution_count": 27,
          "metadata": {},
          "output_type": "execute_result"
        }
      ],
      "source": [
        "#read the multiple columns at a time\n",
        "df[['Purchase Address','Product','Quantity Ordered']]"
      ]
    },
    {
      "cell_type": "code",
      "execution_count": null,
      "id": "a88418a7-cdec-4ea9-8486-9b06286284fe",
      "metadata": {
        "id": "a88418a7-cdec-4ea9-8486-9b06286284fe"
      },
      "outputs": [],
      "source": [
        "#22-01-2025\n",
        "import pandas as pd"
      ]
    },
    {
      "cell_type": "code",
      "execution_count": null,
      "id": "db4c6154-40cc-4701-9c13-d5d6dd69d465",
      "metadata": {
        "id": "db4c6154-40cc-4701-9c13-d5d6dd69d465"
      },
      "outputs": [],
      "source": [
        "df = pd.read_csv('Diabetes Missing Data.csv')"
      ]
    },
    {
      "cell_type": "code",
      "execution_count": null,
      "id": "917b9798-74aa-4386-8d58-45b681e94f8d",
      "metadata": {
        "id": "917b9798-74aa-4386-8d58-45b681e94f8d",
        "outputId": "ac9d0e2e-cc17-4319-89f5-e626fa9b170e"
      },
      "outputs": [
        {
          "data": {
            "text/html": [
              "<div>\n",
              "<style scoped>\n",
              "    .dataframe tbody tr th:only-of-type {\n",
              "        vertical-align: middle;\n",
              "    }\n",
              "\n",
              "    .dataframe tbody tr th {\n",
              "        vertical-align: top;\n",
              "    }\n",
              "\n",
              "    .dataframe thead th {\n",
              "        text-align: right;\n",
              "    }\n",
              "</style>\n",
              "<table border=\"1\" class=\"dataframe\">\n",
              "  <thead>\n",
              "    <tr style=\"text-align: right;\">\n",
              "      <th></th>\n",
              "      <th>Pregnant</th>\n",
              "      <th>Glucose</th>\n",
              "      <th>Diastolic_BP</th>\n",
              "      <th>Skin_Fold</th>\n",
              "      <th>Serum_Insulin</th>\n",
              "      <th>BMI</th>\n",
              "      <th>Diabetes_Pedigree</th>\n",
              "      <th>Age</th>\n",
              "      <th>Class</th>\n",
              "    </tr>\n",
              "  </thead>\n",
              "  <tbody>\n",
              "    <tr>\n",
              "      <th>0</th>\n",
              "      <td>6</td>\n",
              "      <td>148.0</td>\n",
              "      <td>72.0</td>\n",
              "      <td>35.0</td>\n",
              "      <td>NaN</td>\n",
              "      <td>33.6</td>\n",
              "      <td>0.627</td>\n",
              "      <td>50</td>\n",
              "      <td>1</td>\n",
              "    </tr>\n",
              "    <tr>\n",
              "      <th>1</th>\n",
              "      <td>1</td>\n",
              "      <td>85.0</td>\n",
              "      <td>66.0</td>\n",
              "      <td>29.0</td>\n",
              "      <td>NaN</td>\n",
              "      <td>26.6</td>\n",
              "      <td>0.351</td>\n",
              "      <td>31</td>\n",
              "      <td>0</td>\n",
              "    </tr>\n",
              "    <tr>\n",
              "      <th>2</th>\n",
              "      <td>8</td>\n",
              "      <td>183.0</td>\n",
              "      <td>64.0</td>\n",
              "      <td>NaN</td>\n",
              "      <td>NaN</td>\n",
              "      <td>23.3</td>\n",
              "      <td>0.672</td>\n",
              "      <td>32</td>\n",
              "      <td>1</td>\n",
              "    </tr>\n",
              "    <tr>\n",
              "      <th>3</th>\n",
              "      <td>1</td>\n",
              "      <td>89.0</td>\n",
              "      <td>66.0</td>\n",
              "      <td>23.0</td>\n",
              "      <td>94.0</td>\n",
              "      <td>28.1</td>\n",
              "      <td>0.167</td>\n",
              "      <td>21</td>\n",
              "      <td>0</td>\n",
              "    </tr>\n",
              "    <tr>\n",
              "      <th>4</th>\n",
              "      <td>0</td>\n",
              "      <td>137.0</td>\n",
              "      <td>40.0</td>\n",
              "      <td>35.0</td>\n",
              "      <td>168.0</td>\n",
              "      <td>43.1</td>\n",
              "      <td>2.288</td>\n",
              "      <td>33</td>\n",
              "      <td>1</td>\n",
              "    </tr>\n",
              "  </tbody>\n",
              "</table>\n",
              "</div>"
            ],
            "text/plain": [
              "   Pregnant  Glucose  Diastolic_BP  Skin_Fold  Serum_Insulin   BMI  \\\n",
              "0         6    148.0          72.0       35.0            NaN  33.6   \n",
              "1         1     85.0          66.0       29.0            NaN  26.6   \n",
              "2         8    183.0          64.0        NaN            NaN  23.3   \n",
              "3         1     89.0          66.0       23.0           94.0  28.1   \n",
              "4         0    137.0          40.0       35.0          168.0  43.1   \n",
              "\n",
              "   Diabetes_Pedigree  Age  Class  \n",
              "0              0.627   50      1  \n",
              "1              0.351   31      0  \n",
              "2              0.672   32      1  \n",
              "3              0.167   21      0  \n",
              "4              2.288   33      1  "
            ]
          },
          "execution_count": 3,
          "metadata": {},
          "output_type": "execute_result"
        }
      ],
      "source": [
        "#access the df\n",
        "#read the 1st 5 rows of your df\n",
        "df.head()"
      ]
    },
    {
      "cell_type": "code",
      "execution_count": null,
      "id": "9bb58186-32f9-48a7-85a8-ac82ad863382",
      "metadata": {
        "id": "9bb58186-32f9-48a7-85a8-ac82ad863382",
        "outputId": "de764e9e-720c-4a26-e65b-97c4fc733147"
      },
      "outputs": [
        {
          "data": {
            "text/plain": [
              "Index(['Pregnant', 'Glucose', 'Diastolic_BP', 'Skin_Fold', 'Serum_Insulin',\n",
              "       'BMI', 'Diabetes_Pedigree', 'Age', 'Class'],\n",
              "      dtype='object')"
            ]
          },
          "execution_count": 4,
          "metadata": {},
          "output_type": "execute_result"
        }
      ],
      "source": [
        "df.columns"
      ]
    },
    {
      "cell_type": "code",
      "execution_count": null,
      "id": "9eaf698e-f999-4058-95af-02a18914a488",
      "metadata": {
        "id": "9eaf698e-f999-4058-95af-02a18914a488",
        "outputId": "4cd0e597-ab76-4271-afba-2a49ef38e95c"
      },
      "outputs": [
        {
          "data": {
            "text/plain": [
              "(768, 9)"
            ]
          },
          "execution_count": 5,
          "metadata": {},
          "output_type": "execute_result"
        }
      ],
      "source": [
        "#find the number of rows and columns in df\n",
        "df.shape"
      ]
    },
    {
      "cell_type": "code",
      "execution_count": null,
      "id": "1b8f32f0-b7de-4821-99a2-fbaa728bbc84",
      "metadata": {
        "id": "1b8f32f0-b7de-4821-99a2-fbaa728bbc84",
        "outputId": "aa2070fa-f532-4c32-f44f-075e791b610b"
      },
      "outputs": [
        {
          "data": {
            "text/plain": [
              "0      148.0\n",
              "1       85.0\n",
              "2      183.0\n",
              "3       89.0\n",
              "4      137.0\n",
              "       ...  \n",
              "763    101.0\n",
              "764    122.0\n",
              "765    121.0\n",
              "766    126.0\n",
              "767     93.0\n",
              "Name: Glucose, Length: 768, dtype: float64"
            ]
          },
          "execution_count": 6,
          "metadata": {},
          "output_type": "execute_result"
        }
      ],
      "source": [
        "#access the paricular column data\n",
        "df['Glucose']"
      ]
    },
    {
      "cell_type": "code",
      "execution_count": null,
      "id": "5b78bb3c-485c-4b9c-9a56-e04e36cbb33f",
      "metadata": {
        "id": "5b78bb3c-485c-4b9c-9a56-e04e36cbb33f",
        "outputId": "db643909-36c2-4c58-c732-0be204202232"
      },
      "outputs": [
        {
          "data": {
            "text/html": [
              "<div>\n",
              "<style scoped>\n",
              "    .dataframe tbody tr th:only-of-type {\n",
              "        vertical-align: middle;\n",
              "    }\n",
              "\n",
              "    .dataframe tbody tr th {\n",
              "        vertical-align: top;\n",
              "    }\n",
              "\n",
              "    .dataframe thead th {\n",
              "        text-align: right;\n",
              "    }\n",
              "</style>\n",
              "<table border=\"1\" class=\"dataframe\">\n",
              "  <thead>\n",
              "    <tr style=\"text-align: right;\">\n",
              "      <th></th>\n",
              "      <th>Glucose</th>\n",
              "      <th>BMI</th>\n",
              "    </tr>\n",
              "  </thead>\n",
              "  <tbody>\n",
              "    <tr>\n",
              "      <th>0</th>\n",
              "      <td>148.0</td>\n",
              "      <td>33.6</td>\n",
              "    </tr>\n",
              "    <tr>\n",
              "      <th>1</th>\n",
              "      <td>85.0</td>\n",
              "      <td>26.6</td>\n",
              "    </tr>\n",
              "    <tr>\n",
              "      <th>2</th>\n",
              "      <td>183.0</td>\n",
              "      <td>23.3</td>\n",
              "    </tr>\n",
              "    <tr>\n",
              "      <th>3</th>\n",
              "      <td>89.0</td>\n",
              "      <td>28.1</td>\n",
              "    </tr>\n",
              "    <tr>\n",
              "      <th>4</th>\n",
              "      <td>137.0</td>\n",
              "      <td>43.1</td>\n",
              "    </tr>\n",
              "    <tr>\n",
              "      <th>...</th>\n",
              "      <td>...</td>\n",
              "      <td>...</td>\n",
              "    </tr>\n",
              "    <tr>\n",
              "      <th>763</th>\n",
              "      <td>101.0</td>\n",
              "      <td>32.9</td>\n",
              "    </tr>\n",
              "    <tr>\n",
              "      <th>764</th>\n",
              "      <td>122.0</td>\n",
              "      <td>36.8</td>\n",
              "    </tr>\n",
              "    <tr>\n",
              "      <th>765</th>\n",
              "      <td>121.0</td>\n",
              "      <td>26.2</td>\n",
              "    </tr>\n",
              "    <tr>\n",
              "      <th>766</th>\n",
              "      <td>126.0</td>\n",
              "      <td>30.1</td>\n",
              "    </tr>\n",
              "    <tr>\n",
              "      <th>767</th>\n",
              "      <td>93.0</td>\n",
              "      <td>30.4</td>\n",
              "    </tr>\n",
              "  </tbody>\n",
              "</table>\n",
              "<p>768 rows × 2 columns</p>\n",
              "</div>"
            ],
            "text/plain": [
              "     Glucose   BMI\n",
              "0      148.0  33.6\n",
              "1       85.0  26.6\n",
              "2      183.0  23.3\n",
              "3       89.0  28.1\n",
              "4      137.0  43.1\n",
              "..       ...   ...\n",
              "763    101.0  32.9\n",
              "764    122.0  36.8\n",
              "765    121.0  26.2\n",
              "766    126.0  30.1\n",
              "767     93.0  30.4\n",
              "\n",
              "[768 rows x 2 columns]"
            ]
          },
          "execution_count": 8,
          "metadata": {},
          "output_type": "execute_result"
        }
      ],
      "source": [
        "#access multiple columns at a time\n",
        "df[['Glucose','BMI']]"
      ]
    },
    {
      "cell_type": "code",
      "execution_count": null,
      "id": "f5662315-bd95-419d-80ab-dc792e92f48c",
      "metadata": {
        "id": "f5662315-bd95-419d-80ab-dc792e92f48c",
        "outputId": "7acc1525-2466-4ebf-f535-c14d47cdc72e"
      },
      "outputs": [
        {
          "data": {
            "text/plain": [
              "0    33.6\n",
              "1    26.6\n",
              "2    23.3\n",
              "3    28.1\n",
              "4    43.1\n",
              "Name: BMI, dtype: float64"
            ]
          },
          "execution_count": 9,
          "metadata": {},
          "output_type": "execute_result"
        }
      ],
      "source": [
        "#read the 1st 5 rows of BMI\n",
        "df['BMI'].head()"
      ]
    },
    {
      "cell_type": "code",
      "execution_count": null,
      "id": "f5ab78bb-26cb-45fb-aea8-fc5138afb73c",
      "metadata": {
        "id": "f5ab78bb-26cb-45fb-aea8-fc5138afb73c",
        "outputId": "1479cfbd-05fe-4aff-9c6b-075e66a61e1c"
      },
      "outputs": [
        {
          "data": {
            "text/plain": [
              "np.float64(33.6)"
            ]
          },
          "execution_count": 10,
          "metadata": {},
          "output_type": "execute_result"
        }
      ],
      "source": [
        "#i want read the 1st row value of BMI\n",
        "df['BMI'][0]"
      ]
    },
    {
      "cell_type": "code",
      "execution_count": null,
      "id": "53367552-00bb-47f5-a6b0-cb0feae55b14",
      "metadata": {
        "scrolled": true,
        "id": "53367552-00bb-47f5-a6b0-cb0feae55b14",
        "outputId": "908ee82f-41a4-480d-ce70-d9b9f5108a0c"
      },
      "outputs": [
        {
          "data": {
            "text/html": [
              "<div>\n",
              "<style scoped>\n",
              "    .dataframe tbody tr th:only-of-type {\n",
              "        vertical-align: middle;\n",
              "    }\n",
              "\n",
              "    .dataframe tbody tr th {\n",
              "        vertical-align: top;\n",
              "    }\n",
              "\n",
              "    .dataframe thead th {\n",
              "        text-align: right;\n",
              "    }\n",
              "</style>\n",
              "<table border=\"1\" class=\"dataframe\">\n",
              "  <thead>\n",
              "    <tr style=\"text-align: right;\">\n",
              "      <th></th>\n",
              "      <th>Pregnant</th>\n",
              "      <th>Glucose</th>\n",
              "      <th>Diastolic_BP</th>\n",
              "      <th>Skin_Fold</th>\n",
              "      <th>Serum_Insulin</th>\n",
              "      <th>BMI</th>\n",
              "      <th>Diabetes_Pedigree</th>\n",
              "      <th>Age</th>\n",
              "      <th>Class</th>\n",
              "    </tr>\n",
              "  </thead>\n",
              "  <tbody>\n",
              "    <tr>\n",
              "      <th>100</th>\n",
              "      <td>1</td>\n",
              "      <td>163.0</td>\n",
              "      <td>72.0</td>\n",
              "      <td>NaN</td>\n",
              "      <td>NaN</td>\n",
              "      <td>39.0</td>\n",
              "      <td>1.222</td>\n",
              "      <td>33</td>\n",
              "      <td>1</td>\n",
              "    </tr>\n",
              "    <tr>\n",
              "      <th>101</th>\n",
              "      <td>1</td>\n",
              "      <td>151.0</td>\n",
              "      <td>60.0</td>\n",
              "      <td>NaN</td>\n",
              "      <td>NaN</td>\n",
              "      <td>26.1</td>\n",
              "      <td>0.179</td>\n",
              "      <td>22</td>\n",
              "      <td>0</td>\n",
              "    </tr>\n",
              "    <tr>\n",
              "      <th>102</th>\n",
              "      <td>0</td>\n",
              "      <td>125.0</td>\n",
              "      <td>96.0</td>\n",
              "      <td>NaN</td>\n",
              "      <td>NaN</td>\n",
              "      <td>22.5</td>\n",
              "      <td>0.262</td>\n",
              "      <td>21</td>\n",
              "      <td>0</td>\n",
              "    </tr>\n",
              "    <tr>\n",
              "      <th>103</th>\n",
              "      <td>1</td>\n",
              "      <td>81.0</td>\n",
              "      <td>72.0</td>\n",
              "      <td>18.0</td>\n",
              "      <td>40.0</td>\n",
              "      <td>26.6</td>\n",
              "      <td>0.283</td>\n",
              "      <td>24</td>\n",
              "      <td>0</td>\n",
              "    </tr>\n",
              "    <tr>\n",
              "      <th>104</th>\n",
              "      <td>2</td>\n",
              "      <td>85.0</td>\n",
              "      <td>65.0</td>\n",
              "      <td>NaN</td>\n",
              "      <td>NaN</td>\n",
              "      <td>39.6</td>\n",
              "      <td>0.930</td>\n",
              "      <td>27</td>\n",
              "      <td>0</td>\n",
              "    </tr>\n",
              "    <tr>\n",
              "      <th>...</th>\n",
              "      <td>...</td>\n",
              "      <td>...</td>\n",
              "      <td>...</td>\n",
              "      <td>...</td>\n",
              "      <td>...</td>\n",
              "      <td>...</td>\n",
              "      <td>...</td>\n",
              "      <td>...</td>\n",
              "      <td>...</td>\n",
              "    </tr>\n",
              "    <tr>\n",
              "      <th>196</th>\n",
              "      <td>1</td>\n",
              "      <td>105.0</td>\n",
              "      <td>58.0</td>\n",
              "      <td>NaN</td>\n",
              "      <td>NaN</td>\n",
              "      <td>24.3</td>\n",
              "      <td>0.187</td>\n",
              "      <td>21</td>\n",
              "      <td>0</td>\n",
              "    </tr>\n",
              "    <tr>\n",
              "      <th>197</th>\n",
              "      <td>3</td>\n",
              "      <td>107.0</td>\n",
              "      <td>62.0</td>\n",
              "      <td>13.0</td>\n",
              "      <td>48.0</td>\n",
              "      <td>22.9</td>\n",
              "      <td>0.678</td>\n",
              "      <td>23</td>\n",
              "      <td>1</td>\n",
              "    </tr>\n",
              "    <tr>\n",
              "      <th>198</th>\n",
              "      <td>4</td>\n",
              "      <td>109.0</td>\n",
              "      <td>64.0</td>\n",
              "      <td>44.0</td>\n",
              "      <td>99.0</td>\n",
              "      <td>34.8</td>\n",
              "      <td>0.905</td>\n",
              "      <td>26</td>\n",
              "      <td>1</td>\n",
              "    </tr>\n",
              "    <tr>\n",
              "      <th>199</th>\n",
              "      <td>4</td>\n",
              "      <td>148.0</td>\n",
              "      <td>60.0</td>\n",
              "      <td>27.0</td>\n",
              "      <td>318.0</td>\n",
              "      <td>30.9</td>\n",
              "      <td>0.150</td>\n",
              "      <td>29</td>\n",
              "      <td>1</td>\n",
              "    </tr>\n",
              "    <tr>\n",
              "      <th>200</th>\n",
              "      <td>0</td>\n",
              "      <td>113.0</td>\n",
              "      <td>80.0</td>\n",
              "      <td>16.0</td>\n",
              "      <td>NaN</td>\n",
              "      <td>31.0</td>\n",
              "      <td>0.874</td>\n",
              "      <td>21</td>\n",
              "      <td>0</td>\n",
              "    </tr>\n",
              "  </tbody>\n",
              "</table>\n",
              "<p>101 rows × 9 columns</p>\n",
              "</div>"
            ],
            "text/plain": [
              "     Pregnant  Glucose  Diastolic_BP  Skin_Fold  Serum_Insulin   BMI  \\\n",
              "100         1    163.0          72.0        NaN            NaN  39.0   \n",
              "101         1    151.0          60.0        NaN            NaN  26.1   \n",
              "102         0    125.0          96.0        NaN            NaN  22.5   \n",
              "103         1     81.0          72.0       18.0           40.0  26.6   \n",
              "104         2     85.0          65.0        NaN            NaN  39.6   \n",
              "..        ...      ...           ...        ...            ...   ...   \n",
              "196         1    105.0          58.0        NaN            NaN  24.3   \n",
              "197         3    107.0          62.0       13.0           48.0  22.9   \n",
              "198         4    109.0          64.0       44.0           99.0  34.8   \n",
              "199         4    148.0          60.0       27.0          318.0  30.9   \n",
              "200         0    113.0          80.0       16.0            NaN  31.0   \n",
              "\n",
              "     Diabetes_Pedigree  Age  Class  \n",
              "100              1.222   33      1  \n",
              "101              0.179   22      0  \n",
              "102              0.262   21      0  \n",
              "103              0.283   24      0  \n",
              "104              0.930   27      0  \n",
              "..                 ...  ...    ...  \n",
              "196              0.187   21      0  \n",
              "197              0.678   23      1  \n",
              "198              0.905   26      1  \n",
              "199              0.150   29      1  \n",
              "200              0.874   21      0  \n",
              "\n",
              "[101 rows x 9 columns]"
            ]
          },
          "execution_count": 13,
          "metadata": {},
          "output_type": "execute_result"
        }
      ],
      "source": [
        "#locating the rows\n",
        "#in pandas we locate rows by using \"df.loc\"\n",
        "#df.loc[index]\n",
        "df.loc[0]\n",
        "#i want to print a range of rows from 100 to 200\n",
        "#df.loc[start_rowindex:end_row_index]\n",
        "df.loc[100:200]"
      ]
    },
    {
      "cell_type": "code",
      "execution_count": null,
      "id": "b2e695b9-6614-4418-8d9f-8b2f183a86b5",
      "metadata": {
        "id": "b2e695b9-6614-4418-8d9f-8b2f183a86b5",
        "outputId": "50481171-1c76-4b70-9b9d-0e61c697db2f"
      },
      "outputs": [
        {
          "data": {
            "text/html": [
              "<div>\n",
              "<style scoped>\n",
              "    .dataframe tbody tr th:only-of-type {\n",
              "        vertical-align: middle;\n",
              "    }\n",
              "\n",
              "    .dataframe tbody tr th {\n",
              "        vertical-align: top;\n",
              "    }\n",
              "\n",
              "    .dataframe thead th {\n",
              "        text-align: right;\n",
              "    }\n",
              "</style>\n",
              "<table border=\"1\" class=\"dataframe\">\n",
              "  <thead>\n",
              "    <tr style=\"text-align: right;\">\n",
              "      <th></th>\n",
              "      <th>Pregnant</th>\n",
              "      <th>Glucose</th>\n",
              "      <th>Diastolic_BP</th>\n",
              "      <th>Skin_Fold</th>\n",
              "      <th>Serum_Insulin</th>\n",
              "      <th>BMI</th>\n",
              "      <th>Diabetes_Pedigree</th>\n",
              "      <th>Age</th>\n",
              "      <th>Class</th>\n",
              "    </tr>\n",
              "  </thead>\n",
              "  <tbody>\n",
              "    <tr>\n",
              "      <th>0</th>\n",
              "      <td>6</td>\n",
              "      <td>148.0</td>\n",
              "      <td>72.0</td>\n",
              "      <td>35.0</td>\n",
              "      <td>NaN</td>\n",
              "      <td>33.6</td>\n",
              "      <td>0.627</td>\n",
              "      <td>50</td>\n",
              "      <td>1</td>\n",
              "    </tr>\n",
              "    <tr>\n",
              "      <th>2</th>\n",
              "      <td>8</td>\n",
              "      <td>183.0</td>\n",
              "      <td>64.0</td>\n",
              "      <td>NaN</td>\n",
              "      <td>NaN</td>\n",
              "      <td>23.3</td>\n",
              "      <td>0.672</td>\n",
              "      <td>32</td>\n",
              "      <td>1</td>\n",
              "    </tr>\n",
              "    <tr>\n",
              "      <th>4</th>\n",
              "      <td>0</td>\n",
              "      <td>137.0</td>\n",
              "      <td>40.0</td>\n",
              "      <td>35.0</td>\n",
              "      <td>168.0</td>\n",
              "      <td>43.1</td>\n",
              "      <td>2.288</td>\n",
              "      <td>33</td>\n",
              "      <td>1</td>\n",
              "    </tr>\n",
              "    <tr>\n",
              "      <th>6</th>\n",
              "      <td>3</td>\n",
              "      <td>78.0</td>\n",
              "      <td>50.0</td>\n",
              "      <td>32.0</td>\n",
              "      <td>88.0</td>\n",
              "      <td>31.0</td>\n",
              "      <td>0.248</td>\n",
              "      <td>26</td>\n",
              "      <td>1</td>\n",
              "    </tr>\n",
              "    <tr>\n",
              "      <th>8</th>\n",
              "      <td>2</td>\n",
              "      <td>197.0</td>\n",
              "      <td>70.0</td>\n",
              "      <td>45.0</td>\n",
              "      <td>543.0</td>\n",
              "      <td>30.5</td>\n",
              "      <td>0.158</td>\n",
              "      <td>53</td>\n",
              "      <td>1</td>\n",
              "    </tr>\n",
              "    <tr>\n",
              "      <th>...</th>\n",
              "      <td>...</td>\n",
              "      <td>...</td>\n",
              "      <td>...</td>\n",
              "      <td>...</td>\n",
              "      <td>...</td>\n",
              "      <td>...</td>\n",
              "      <td>...</td>\n",
              "      <td>...</td>\n",
              "      <td>...</td>\n",
              "    </tr>\n",
              "    <tr>\n",
              "      <th>758</th>\n",
              "      <td>1</td>\n",
              "      <td>106.0</td>\n",
              "      <td>76.0</td>\n",
              "      <td>NaN</td>\n",
              "      <td>NaN</td>\n",
              "      <td>37.5</td>\n",
              "      <td>0.197</td>\n",
              "      <td>26</td>\n",
              "      <td>0</td>\n",
              "    </tr>\n",
              "    <tr>\n",
              "      <th>760</th>\n",
              "      <td>2</td>\n",
              "      <td>88.0</td>\n",
              "      <td>58.0</td>\n",
              "      <td>26.0</td>\n",
              "      <td>16.0</td>\n",
              "      <td>28.4</td>\n",
              "      <td>0.766</td>\n",
              "      <td>22</td>\n",
              "      <td>0</td>\n",
              "    </tr>\n",
              "    <tr>\n",
              "      <th>762</th>\n",
              "      <td>9</td>\n",
              "      <td>89.0</td>\n",
              "      <td>62.0</td>\n",
              "      <td>NaN</td>\n",
              "      <td>NaN</td>\n",
              "      <td>22.5</td>\n",
              "      <td>0.142</td>\n",
              "      <td>33</td>\n",
              "      <td>0</td>\n",
              "    </tr>\n",
              "    <tr>\n",
              "      <th>764</th>\n",
              "      <td>2</td>\n",
              "      <td>122.0</td>\n",
              "      <td>70.0</td>\n",
              "      <td>27.0</td>\n",
              "      <td>NaN</td>\n",
              "      <td>36.8</td>\n",
              "      <td>0.340</td>\n",
              "      <td>27</td>\n",
              "      <td>0</td>\n",
              "    </tr>\n",
              "    <tr>\n",
              "      <th>766</th>\n",
              "      <td>1</td>\n",
              "      <td>126.0</td>\n",
              "      <td>60.0</td>\n",
              "      <td>NaN</td>\n",
              "      <td>NaN</td>\n",
              "      <td>30.1</td>\n",
              "      <td>0.349</td>\n",
              "      <td>47</td>\n",
              "      <td>1</td>\n",
              "    </tr>\n",
              "  </tbody>\n",
              "</table>\n",
              "<p>384 rows × 9 columns</p>\n",
              "</div>"
            ],
            "text/plain": [
              "     Pregnant  Glucose  Diastolic_BP  Skin_Fold  Serum_Insulin   BMI  \\\n",
              "0           6    148.0          72.0       35.0            NaN  33.6   \n",
              "2           8    183.0          64.0        NaN            NaN  23.3   \n",
              "4           0    137.0          40.0       35.0          168.0  43.1   \n",
              "6           3     78.0          50.0       32.0           88.0  31.0   \n",
              "8           2    197.0          70.0       45.0          543.0  30.5   \n",
              "..        ...      ...           ...        ...            ...   ...   \n",
              "758         1    106.0          76.0        NaN            NaN  37.5   \n",
              "760         2     88.0          58.0       26.0           16.0  28.4   \n",
              "762         9     89.0          62.0        NaN            NaN  22.5   \n",
              "764         2    122.0          70.0       27.0            NaN  36.8   \n",
              "766         1    126.0          60.0        NaN            NaN  30.1   \n",
              "\n",
              "     Diabetes_Pedigree  Age  Class  \n",
              "0                0.627   50      1  \n",
              "2                0.672   32      1  \n",
              "4                2.288   33      1  \n",
              "6                0.248   26      1  \n",
              "8                0.158   53      1  \n",
              "..                 ...  ...    ...  \n",
              "758              0.197   26      0  \n",
              "760              0.766   22      0  \n",
              "762              0.142   33      0  \n",
              "764              0.340   27      0  \n",
              "766              0.349   47      1  \n",
              "\n",
              "[384 rows x 9 columns]"
            ]
          },
          "execution_count": 14,
          "metadata": {},
          "output_type": "execute_result"
        }
      ],
      "source": [
        "#i want to read the rows of even index position\n",
        "#df.loc[start:end:step]\n",
        "df.loc[::2] #locate the even rows and locate the odd rows"
      ]
    },
    {
      "cell_type": "code",
      "execution_count": null,
      "id": "d5d61d71-8078-434b-b542-50e466859028",
      "metadata": {
        "id": "d5d61d71-8078-434b-b542-50e466859028",
        "outputId": "98b8ab78-cfeb-41ba-f634-41d878631f13"
      },
      "outputs": [
        {
          "data": {
            "text/html": [
              "<div>\n",
              "<style scoped>\n",
              "    .dataframe tbody tr th:only-of-type {\n",
              "        vertical-align: middle;\n",
              "    }\n",
              "\n",
              "    .dataframe tbody tr th {\n",
              "        vertical-align: top;\n",
              "    }\n",
              "\n",
              "    .dataframe thead th {\n",
              "        text-align: right;\n",
              "    }\n",
              "</style>\n",
              "<table border=\"1\" class=\"dataframe\">\n",
              "  <thead>\n",
              "    <tr style=\"text-align: right;\">\n",
              "      <th></th>\n",
              "      <th>Pregnant</th>\n",
              "      <th>Glucose</th>\n",
              "      <th>Diastolic_BP</th>\n",
              "      <th>Skin_Fold</th>\n",
              "      <th>Serum_Insulin</th>\n",
              "      <th>BMI</th>\n",
              "      <th>Diabetes_Pedigree</th>\n",
              "      <th>Age</th>\n",
              "      <th>Class</th>\n",
              "    </tr>\n",
              "  </thead>\n",
              "  <tbody>\n",
              "    <tr>\n",
              "      <th>1</th>\n",
              "      <td>1</td>\n",
              "      <td>85.0</td>\n",
              "      <td>66.0</td>\n",
              "      <td>29.0</td>\n",
              "      <td>NaN</td>\n",
              "      <td>26.6</td>\n",
              "      <td>0.351</td>\n",
              "      <td>31</td>\n",
              "      <td>0</td>\n",
              "    </tr>\n",
              "    <tr>\n",
              "      <th>3</th>\n",
              "      <td>1</td>\n",
              "      <td>89.0</td>\n",
              "      <td>66.0</td>\n",
              "      <td>23.0</td>\n",
              "      <td>94.0</td>\n",
              "      <td>28.1</td>\n",
              "      <td>0.167</td>\n",
              "      <td>21</td>\n",
              "      <td>0</td>\n",
              "    </tr>\n",
              "    <tr>\n",
              "      <th>5</th>\n",
              "      <td>5</td>\n",
              "      <td>116.0</td>\n",
              "      <td>74.0</td>\n",
              "      <td>NaN</td>\n",
              "      <td>NaN</td>\n",
              "      <td>25.6</td>\n",
              "      <td>0.201</td>\n",
              "      <td>30</td>\n",
              "      <td>0</td>\n",
              "    </tr>\n",
              "    <tr>\n",
              "      <th>7</th>\n",
              "      <td>10</td>\n",
              "      <td>115.0</td>\n",
              "      <td>NaN</td>\n",
              "      <td>NaN</td>\n",
              "      <td>NaN</td>\n",
              "      <td>35.3</td>\n",
              "      <td>0.134</td>\n",
              "      <td>29</td>\n",
              "      <td>0</td>\n",
              "    </tr>\n",
              "    <tr>\n",
              "      <th>9</th>\n",
              "      <td>8</td>\n",
              "      <td>125.0</td>\n",
              "      <td>96.0</td>\n",
              "      <td>NaN</td>\n",
              "      <td>NaN</td>\n",
              "      <td>NaN</td>\n",
              "      <td>0.232</td>\n",
              "      <td>54</td>\n",
              "      <td>1</td>\n",
              "    </tr>\n",
              "    <tr>\n",
              "      <th>...</th>\n",
              "      <td>...</td>\n",
              "      <td>...</td>\n",
              "      <td>...</td>\n",
              "      <td>...</td>\n",
              "      <td>...</td>\n",
              "      <td>...</td>\n",
              "      <td>...</td>\n",
              "      <td>...</td>\n",
              "      <td>...</td>\n",
              "    </tr>\n",
              "    <tr>\n",
              "      <th>759</th>\n",
              "      <td>6</td>\n",
              "      <td>190.0</td>\n",
              "      <td>92.0</td>\n",
              "      <td>NaN</td>\n",
              "      <td>NaN</td>\n",
              "      <td>35.5</td>\n",
              "      <td>0.278</td>\n",
              "      <td>66</td>\n",
              "      <td>1</td>\n",
              "    </tr>\n",
              "    <tr>\n",
              "      <th>761</th>\n",
              "      <td>9</td>\n",
              "      <td>170.0</td>\n",
              "      <td>74.0</td>\n",
              "      <td>31.0</td>\n",
              "      <td>NaN</td>\n",
              "      <td>44.0</td>\n",
              "      <td>0.403</td>\n",
              "      <td>43</td>\n",
              "      <td>1</td>\n",
              "    </tr>\n",
              "    <tr>\n",
              "      <th>763</th>\n",
              "      <td>10</td>\n",
              "      <td>101.0</td>\n",
              "      <td>76.0</td>\n",
              "      <td>48.0</td>\n",
              "      <td>180.0</td>\n",
              "      <td>32.9</td>\n",
              "      <td>0.171</td>\n",
              "      <td>63</td>\n",
              "      <td>0</td>\n",
              "    </tr>\n",
              "    <tr>\n",
              "      <th>765</th>\n",
              "      <td>5</td>\n",
              "      <td>121.0</td>\n",
              "      <td>72.0</td>\n",
              "      <td>23.0</td>\n",
              "      <td>112.0</td>\n",
              "      <td>26.2</td>\n",
              "      <td>0.245</td>\n",
              "      <td>30</td>\n",
              "      <td>0</td>\n",
              "    </tr>\n",
              "    <tr>\n",
              "      <th>767</th>\n",
              "      <td>1</td>\n",
              "      <td>93.0</td>\n",
              "      <td>70.0</td>\n",
              "      <td>31.0</td>\n",
              "      <td>NaN</td>\n",
              "      <td>30.4</td>\n",
              "      <td>0.315</td>\n",
              "      <td>23</td>\n",
              "      <td>0</td>\n",
              "    </tr>\n",
              "  </tbody>\n",
              "</table>\n",
              "<p>384 rows × 9 columns</p>\n",
              "</div>"
            ],
            "text/plain": [
              "     Pregnant  Glucose  Diastolic_BP  Skin_Fold  Serum_Insulin   BMI  \\\n",
              "1           1     85.0          66.0       29.0            NaN  26.6   \n",
              "3           1     89.0          66.0       23.0           94.0  28.1   \n",
              "5           5    116.0          74.0        NaN            NaN  25.6   \n",
              "7          10    115.0           NaN        NaN            NaN  35.3   \n",
              "9           8    125.0          96.0        NaN            NaN   NaN   \n",
              "..        ...      ...           ...        ...            ...   ...   \n",
              "759         6    190.0          92.0        NaN            NaN  35.5   \n",
              "761         9    170.0          74.0       31.0            NaN  44.0   \n",
              "763        10    101.0          76.0       48.0          180.0  32.9   \n",
              "765         5    121.0          72.0       23.0          112.0  26.2   \n",
              "767         1     93.0          70.0       31.0            NaN  30.4   \n",
              "\n",
              "     Diabetes_Pedigree  Age  Class  \n",
              "1                0.351   31      0  \n",
              "3                0.167   21      0  \n",
              "5                0.201   30      0  \n",
              "7                0.134   29      0  \n",
              "9                0.232   54      1  \n",
              "..                 ...  ...    ...  \n",
              "759              0.278   66      1  \n",
              "761              0.403   43      1  \n",
              "763              0.171   63      0  \n",
              "765              0.245   30      0  \n",
              "767              0.315   23      0  \n",
              "\n",
              "[384 rows x 9 columns]"
            ]
          },
          "execution_count": 15,
          "metadata": {},
          "output_type": "execute_result"
        }
      ],
      "source": [
        "df.loc[1::2] #locate odd rows"
      ]
    },
    {
      "cell_type": "code",
      "execution_count": null,
      "id": "518473a8-ac78-497a-b591-72b43cc6589e",
      "metadata": {
        "id": "518473a8-ac78-497a-b591-72b43cc6589e",
        "outputId": "fd012758-d4dc-4088-e0a1-4a6c02585ab3"
      },
      "outputs": [
        {
          "data": {
            "text/plain": [
              "0      72.0\n",
              "2      64.0\n",
              "4      40.0\n",
              "6      50.0\n",
              "8      70.0\n",
              "       ... \n",
              "758    76.0\n",
              "760    58.0\n",
              "762    62.0\n",
              "764    70.0\n",
              "766    60.0\n",
              "Name: Diastolic_BP, Length: 384, dtype: float64"
            ]
          },
          "execution_count": 16,
          "metadata": {},
          "output_type": "execute_result"
        }
      ],
      "source": [
        "#i want to display the even position data of a particular column--> 'Diastolic_BP'\n",
        "#df.loc[start:end:step, column_name]\n",
        "df.loc[::2,'Diastolic_BP']\n"
      ]
    },
    {
      "cell_type": "code",
      "execution_count": null,
      "id": "457c0116-6dd5-4086-9ae7-6d20da744e98",
      "metadata": {
        "id": "457c0116-6dd5-4086-9ae7-6d20da744e98",
        "outputId": "21393255-8ab3-4a4c-fd34-f52045963b64"
      },
      "outputs": [
        {
          "data": {
            "text/html": [
              "<div>\n",
              "<style scoped>\n",
              "    .dataframe tbody tr th:only-of-type {\n",
              "        vertical-align: middle;\n",
              "    }\n",
              "\n",
              "    .dataframe tbody tr th {\n",
              "        vertical-align: top;\n",
              "    }\n",
              "\n",
              "    .dataframe thead th {\n",
              "        text-align: right;\n",
              "    }\n",
              "</style>\n",
              "<table border=\"1\" class=\"dataframe\">\n",
              "  <thead>\n",
              "    <tr style=\"text-align: right;\">\n",
              "      <th></th>\n",
              "      <th>Diastolic_BP</th>\n",
              "      <th>BMI</th>\n",
              "    </tr>\n",
              "  </thead>\n",
              "  <tbody>\n",
              "    <tr>\n",
              "      <th>0</th>\n",
              "      <td>72.0</td>\n",
              "      <td>33.6</td>\n",
              "    </tr>\n",
              "    <tr>\n",
              "      <th>2</th>\n",
              "      <td>64.0</td>\n",
              "      <td>23.3</td>\n",
              "    </tr>\n",
              "    <tr>\n",
              "      <th>4</th>\n",
              "      <td>40.0</td>\n",
              "      <td>43.1</td>\n",
              "    </tr>\n",
              "    <tr>\n",
              "      <th>6</th>\n",
              "      <td>50.0</td>\n",
              "      <td>31.0</td>\n",
              "    </tr>\n",
              "    <tr>\n",
              "      <th>8</th>\n",
              "      <td>70.0</td>\n",
              "      <td>30.5</td>\n",
              "    </tr>\n",
              "    <tr>\n",
              "      <th>...</th>\n",
              "      <td>...</td>\n",
              "      <td>...</td>\n",
              "    </tr>\n",
              "    <tr>\n",
              "      <th>758</th>\n",
              "      <td>76.0</td>\n",
              "      <td>37.5</td>\n",
              "    </tr>\n",
              "    <tr>\n",
              "      <th>760</th>\n",
              "      <td>58.0</td>\n",
              "      <td>28.4</td>\n",
              "    </tr>\n",
              "    <tr>\n",
              "      <th>762</th>\n",
              "      <td>62.0</td>\n",
              "      <td>22.5</td>\n",
              "    </tr>\n",
              "    <tr>\n",
              "      <th>764</th>\n",
              "      <td>70.0</td>\n",
              "      <td>36.8</td>\n",
              "    </tr>\n",
              "    <tr>\n",
              "      <th>766</th>\n",
              "      <td>60.0</td>\n",
              "      <td>30.1</td>\n",
              "    </tr>\n",
              "  </tbody>\n",
              "</table>\n",
              "<p>384 rows × 2 columns</p>\n",
              "</div>"
            ],
            "text/plain": [
              "     Diastolic_BP   BMI\n",
              "0            72.0  33.6\n",
              "2            64.0  23.3\n",
              "4            40.0  43.1\n",
              "6            50.0  31.0\n",
              "8            70.0  30.5\n",
              "..            ...   ...\n",
              "758          76.0  37.5\n",
              "760          58.0  28.4\n",
              "762          62.0  22.5\n",
              "764          70.0  36.8\n",
              "766          60.0  30.1\n",
              "\n",
              "[384 rows x 2 columns]"
            ]
          },
          "execution_count": 17,
          "metadata": {},
          "output_type": "execute_result"
        }
      ],
      "source": [
        "#display the even index position character of multiple columns\n",
        "df.loc[::2,['Diastolic_BP','BMI']]"
      ]
    },
    {
      "cell_type": "code",
      "execution_count": null,
      "id": "39b2eed1-8803-4f03-aaaa-b29978484c76",
      "metadata": {
        "id": "39b2eed1-8803-4f03-aaaa-b29978484c76",
        "outputId": "6ab1f562-72b2-48f5-d707-e6c6297cdcea"
      },
      "outputs": [
        {
          "data": {
            "text/html": [
              "<div>\n",
              "<style scoped>\n",
              "    .dataframe tbody tr th:only-of-type {\n",
              "        vertical-align: middle;\n",
              "    }\n",
              "\n",
              "    .dataframe tbody tr th {\n",
              "        vertical-align: top;\n",
              "    }\n",
              "\n",
              "    .dataframe thead th {\n",
              "        text-align: right;\n",
              "    }\n",
              "</style>\n",
              "<table border=\"1\" class=\"dataframe\">\n",
              "  <thead>\n",
              "    <tr style=\"text-align: right;\">\n",
              "      <th></th>\n",
              "      <th>Pregnant</th>\n",
              "      <th>Glucose</th>\n",
              "      <th>Diastolic_BP</th>\n",
              "      <th>Skin_Fold</th>\n",
              "      <th>Serum_Insulin</th>\n",
              "      <th>BMI</th>\n",
              "      <th>Diabetes_Pedigree</th>\n",
              "      <th>Age</th>\n",
              "      <th>Class</th>\n",
              "    </tr>\n",
              "  </thead>\n",
              "  <tbody>\n",
              "    <tr>\n",
              "      <th>23</th>\n",
              "      <td>9</td>\n",
              "      <td>119.0</td>\n",
              "      <td>80.0</td>\n",
              "      <td>35.0</td>\n",
              "      <td>NaN</td>\n",
              "      <td>29.0</td>\n",
              "      <td>0.263</td>\n",
              "      <td>29</td>\n",
              "      <td>1</td>\n",
              "    </tr>\n",
              "    <tr>\n",
              "      <th>45</th>\n",
              "      <td>0</td>\n",
              "      <td>180.0</td>\n",
              "      <td>66.0</td>\n",
              "      <td>39.0</td>\n",
              "      <td>NaN</td>\n",
              "      <td>42.0</td>\n",
              "      <td>1.893</td>\n",
              "      <td>25</td>\n",
              "      <td>1</td>\n",
              "    </tr>\n",
              "    <tr>\n",
              "      <th>67</th>\n",
              "      <td>2</td>\n",
              "      <td>109.0</td>\n",
              "      <td>92.0</td>\n",
              "      <td>NaN</td>\n",
              "      <td>NaN</td>\n",
              "      <td>42.7</td>\n",
              "      <td>0.845</td>\n",
              "      <td>54</td>\n",
              "      <td>0</td>\n",
              "    </tr>\n",
              "  </tbody>\n",
              "</table>\n",
              "</div>"
            ],
            "text/plain": [
              "    Pregnant  Glucose  Diastolic_BP  Skin_Fold  Serum_Insulin   BMI  \\\n",
              "23         9    119.0          80.0       35.0            NaN  29.0   \n",
              "45         0    180.0          66.0       39.0            NaN  42.0   \n",
              "67         2    109.0          92.0        NaN            NaN  42.7   \n",
              "\n",
              "    Diabetes_Pedigree  Age  Class  \n",
              "23              0.263   29      1  \n",
              "45              1.893   25      1  \n",
              "67              0.845   54      0  "
            ]
          },
          "execution_count": 18,
          "metadata": {},
          "output_type": "execute_result"
        }
      ],
      "source": [
        "#i want to locate rows with particular index numbers\n",
        "df.loc[[23,45,67]]"
      ]
    },
    {
      "cell_type": "code",
      "execution_count": null,
      "id": "54e2b348-52c2-4881-a842-f3b62d24bb77",
      "metadata": {
        "id": "54e2b348-52c2-4881-a842-f3b62d24bb77",
        "outputId": "03054449-4eec-48d3-ac5f-a8db284432d3"
      },
      "outputs": [
        {
          "data": {
            "text/html": [
              "<div>\n",
              "<style scoped>\n",
              "    .dataframe tbody tr th:only-of-type {\n",
              "        vertical-align: middle;\n",
              "    }\n",
              "\n",
              "    .dataframe tbody tr th {\n",
              "        vertical-align: top;\n",
              "    }\n",
              "\n",
              "    .dataframe thead th {\n",
              "        text-align: right;\n",
              "    }\n",
              "</style>\n",
              "<table border=\"1\" class=\"dataframe\">\n",
              "  <thead>\n",
              "    <tr style=\"text-align: right;\">\n",
              "      <th></th>\n",
              "      <th>Pregnant</th>\n",
              "      <th>Glucose</th>\n",
              "      <th>Diastolic_BP</th>\n",
              "      <th>Skin_Fold</th>\n",
              "      <th>Serum_Insulin</th>\n",
              "      <th>BMI</th>\n",
              "      <th>Diabetes_Pedigree</th>\n",
              "      <th>Age</th>\n",
              "      <th>Class</th>\n",
              "    </tr>\n",
              "  </thead>\n",
              "  <tbody>\n",
              "    <tr>\n",
              "      <th>0</th>\n",
              "      <td>6</td>\n",
              "      <td>148.0</td>\n",
              "      <td>72.0</td>\n",
              "      <td>35.0</td>\n",
              "      <td>NaN</td>\n",
              "      <td>33.6</td>\n",
              "      <td>0.627</td>\n",
              "      <td>50</td>\n",
              "      <td>1</td>\n",
              "    </tr>\n",
              "    <tr>\n",
              "      <th>5</th>\n",
              "      <td>5</td>\n",
              "      <td>116.0</td>\n",
              "      <td>74.0</td>\n",
              "      <td>NaN</td>\n",
              "      <td>NaN</td>\n",
              "      <td>25.6</td>\n",
              "      <td>0.201</td>\n",
              "      <td>30</td>\n",
              "      <td>0</td>\n",
              "    </tr>\n",
              "    <tr>\n",
              "      <th>6</th>\n",
              "      <td>3</td>\n",
              "      <td>78.0</td>\n",
              "      <td>50.0</td>\n",
              "      <td>32.0</td>\n",
              "      <td>88.0</td>\n",
              "      <td>31.0</td>\n",
              "      <td>0.248</td>\n",
              "      <td>26</td>\n",
              "      <td>1</td>\n",
              "    </tr>\n",
              "    <tr>\n",
              "      <th>10</th>\n",
              "      <td>4</td>\n",
              "      <td>110.0</td>\n",
              "      <td>92.0</td>\n",
              "      <td>NaN</td>\n",
              "      <td>NaN</td>\n",
              "      <td>37.6</td>\n",
              "      <td>0.191</td>\n",
              "      <td>30</td>\n",
              "      <td>0</td>\n",
              "    </tr>\n",
              "    <tr>\n",
              "      <th>11</th>\n",
              "      <td>10</td>\n",
              "      <td>168.0</td>\n",
              "      <td>74.0</td>\n",
              "      <td>NaN</td>\n",
              "      <td>NaN</td>\n",
              "      <td>38.0</td>\n",
              "      <td>0.537</td>\n",
              "      <td>34</td>\n",
              "      <td>1</td>\n",
              "    </tr>\n",
              "    <tr>\n",
              "      <th>...</th>\n",
              "      <td>...</td>\n",
              "      <td>...</td>\n",
              "      <td>...</td>\n",
              "      <td>...</td>\n",
              "      <td>...</td>\n",
              "      <td>...</td>\n",
              "      <td>...</td>\n",
              "      <td>...</td>\n",
              "      <td>...</td>\n",
              "    </tr>\n",
              "    <tr>\n",
              "      <th>759</th>\n",
              "      <td>6</td>\n",
              "      <td>190.0</td>\n",
              "      <td>92.0</td>\n",
              "      <td>NaN</td>\n",
              "      <td>NaN</td>\n",
              "      <td>35.5</td>\n",
              "      <td>0.278</td>\n",
              "      <td>66</td>\n",
              "      <td>1</td>\n",
              "    </tr>\n",
              "    <tr>\n",
              "      <th>760</th>\n",
              "      <td>2</td>\n",
              "      <td>88.0</td>\n",
              "      <td>58.0</td>\n",
              "      <td>26.0</td>\n",
              "      <td>16.0</td>\n",
              "      <td>28.4</td>\n",
              "      <td>0.766</td>\n",
              "      <td>22</td>\n",
              "      <td>0</td>\n",
              "    </tr>\n",
              "    <tr>\n",
              "      <th>761</th>\n",
              "      <td>9</td>\n",
              "      <td>170.0</td>\n",
              "      <td>74.0</td>\n",
              "      <td>31.0</td>\n",
              "      <td>NaN</td>\n",
              "      <td>44.0</td>\n",
              "      <td>0.403</td>\n",
              "      <td>43</td>\n",
              "      <td>1</td>\n",
              "    </tr>\n",
              "    <tr>\n",
              "      <th>764</th>\n",
              "      <td>2</td>\n",
              "      <td>122.0</td>\n",
              "      <td>70.0</td>\n",
              "      <td>27.0</td>\n",
              "      <td>NaN</td>\n",
              "      <td>36.8</td>\n",
              "      <td>0.340</td>\n",
              "      <td>27</td>\n",
              "      <td>0</td>\n",
              "    </tr>\n",
              "    <tr>\n",
              "      <th>766</th>\n",
              "      <td>1</td>\n",
              "      <td>126.0</td>\n",
              "      <td>60.0</td>\n",
              "      <td>NaN</td>\n",
              "      <td>NaN</td>\n",
              "      <td>30.1</td>\n",
              "      <td>0.349</td>\n",
              "      <td>47</td>\n",
              "      <td>1</td>\n",
              "    </tr>\n",
              "  </tbody>\n",
              "</table>\n",
              "<p>376 rows × 9 columns</p>\n",
              "</div>"
            ],
            "text/plain": [
              "     Pregnant  Glucose  Diastolic_BP  Skin_Fold  Serum_Insulin   BMI  \\\n",
              "0           6    148.0          72.0       35.0            NaN  33.6   \n",
              "5           5    116.0          74.0        NaN            NaN  25.6   \n",
              "6           3     78.0          50.0       32.0           88.0  31.0   \n",
              "10          4    110.0          92.0        NaN            NaN  37.6   \n",
              "11         10    168.0          74.0        NaN            NaN  38.0   \n",
              "..        ...      ...           ...        ...            ...   ...   \n",
              "759         6    190.0          92.0        NaN            NaN  35.5   \n",
              "760         2     88.0          58.0       26.0           16.0  28.4   \n",
              "761         9    170.0          74.0       31.0            NaN  44.0   \n",
              "764         2    122.0          70.0       27.0            NaN  36.8   \n",
              "766         1    126.0          60.0        NaN            NaN  30.1   \n",
              "\n",
              "     Diabetes_Pedigree  Age  Class  \n",
              "0                0.627   50      1  \n",
              "5                0.201   30      0  \n",
              "6                0.248   26      1  \n",
              "10               0.191   30      0  \n",
              "11               0.537   34      1  \n",
              "..                 ...  ...    ...  \n",
              "759              0.278   66      1  \n",
              "760              0.766   22      0  \n",
              "761              0.403   43      1  \n",
              "764              0.340   27      0  \n",
              "766              0.349   47      1  \n",
              "\n",
              "[376 rows x 9 columns]"
            ]
          },
          "execution_count": 19,
          "metadata": {},
          "output_type": "execute_result"
        }
      ],
      "source": [
        "#applying the conditions  at row level by using df.loc\n",
        "#in 'Glucose' column print the even number data\n",
        "df.loc[df['Glucose']%2 == 0]"
      ]
    },
    {
      "cell_type": "code",
      "execution_count": null,
      "id": "6b71f0dc-302c-4640-b658-e43e24f8f436",
      "metadata": {
        "id": "6b71f0dc-302c-4640-b658-e43e24f8f436"
      },
      "outputs": [],
      "source": [
        "#df.iloc()\n",
        "#iloc:- pass axis number  for particular row and column\n",
        "#synatx:-  df.iloc[row_index, column_index]"
      ]
    },
    {
      "cell_type": "code",
      "execution_count": null,
      "id": "7b567636-4016-4e99-9eb0-5ca7359c7cff",
      "metadata": {
        "id": "7b567636-4016-4e99-9eb0-5ca7359c7cff",
        "outputId": "54ee98f3-5b6a-4920-a6fe-74c32b11d99d"
      },
      "outputs": [
        {
          "data": {
            "text/html": [
              "<div>\n",
              "<style scoped>\n",
              "    .dataframe tbody tr th:only-of-type {\n",
              "        vertical-align: middle;\n",
              "    }\n",
              "\n",
              "    .dataframe tbody tr th {\n",
              "        vertical-align: top;\n",
              "    }\n",
              "\n",
              "    .dataframe thead th {\n",
              "        text-align: right;\n",
              "    }\n",
              "</style>\n",
              "<table border=\"1\" class=\"dataframe\">\n",
              "  <thead>\n",
              "    <tr style=\"text-align: right;\">\n",
              "      <th></th>\n",
              "      <th>Pregnant</th>\n",
              "      <th>Glucose</th>\n",
              "      <th>Diastolic_BP</th>\n",
              "    </tr>\n",
              "  </thead>\n",
              "  <tbody>\n",
              "    <tr>\n",
              "      <th>0</th>\n",
              "      <td>6</td>\n",
              "      <td>148.0</td>\n",
              "      <td>72.0</td>\n",
              "    </tr>\n",
              "    <tr>\n",
              "      <th>1</th>\n",
              "      <td>1</td>\n",
              "      <td>85.0</td>\n",
              "      <td>66.0</td>\n",
              "    </tr>\n",
              "    <tr>\n",
              "      <th>2</th>\n",
              "      <td>8</td>\n",
              "      <td>183.0</td>\n",
              "      <td>64.0</td>\n",
              "    </tr>\n",
              "  </tbody>\n",
              "</table>\n",
              "</div>"
            ],
            "text/plain": [
              "   Pregnant  Glucose  Diastolic_BP\n",
              "0         6    148.0          72.0\n",
              "1         1     85.0          66.0\n",
              "2         8    183.0          64.0"
            ]
          },
          "execution_count": 22,
          "metadata": {},
          "output_type": "execute_result"
        }
      ],
      "source": [
        "#locate first 3 rows and first 3 columns data in above df\n",
        "df.iloc[0:3,0:3]"
      ]
    },
    {
      "cell_type": "code",
      "execution_count": null,
      "id": "06fe5d7f-db6a-4639-8bcd-839346e1af52",
      "metadata": {
        "id": "06fe5d7f-db6a-4639-8bcd-839346e1af52",
        "outputId": "9d0aca3e-3769-421d-e700-a539baf23352"
      },
      "outputs": [
        {
          "data": {
            "text/plain": [
              "np.float64(74.0)"
            ]
          },
          "execution_count": 23,
          "metadata": {},
          "output_type": "execute_result"
        }
      ],
      "source": [
        "#print the pariculae value from specific row and specific column\n",
        "df.iloc[11,2]"
      ]
    },
    {
      "cell_type": "code",
      "execution_count": null,
      "id": "7d945df2-6e57-4b8c-a677-5aa980ec7eea",
      "metadata": {
        "id": "7d945df2-6e57-4b8c-a677-5aa980ec7eea",
        "outputId": "10ac7eca-6087-46bf-99df-c552151c8e60"
      },
      "outputs": [
        {
          "data": {
            "text/plain": [
              "np.float64(66.0)"
            ]
          },
          "execution_count": 24,
          "metadata": {},
          "output_type": "execute_result"
        }
      ],
      "source": [
        "df.iloc[1,2]"
      ]
    },
    {
      "cell_type": "code",
      "execution_count": null,
      "id": "22faecf6-9768-4502-9326-53a3d63b1bce",
      "metadata": {
        "id": "22faecf6-9768-4502-9326-53a3d63b1bce",
        "outputId": "bda24ff2-e97a-4b1b-bb01-c1676c72530b"
      },
      "outputs": [
        {
          "data": {
            "text/plain": [
              "np.float64(0.248)"
            ]
          },
          "execution_count": 25,
          "metadata": {},
          "output_type": "execute_result"
        }
      ],
      "source": [
        "df.iloc[6,6]"
      ]
    },
    {
      "cell_type": "code",
      "execution_count": null,
      "id": "208fa802-16cb-4883-aa77-18d4a7bb93d5",
      "metadata": {
        "id": "208fa802-16cb-4883-aa77-18d4a7bb93d5"
      },
      "outputs": [],
      "source": [
        "#Note:- in 'df.loc' we can apply the conditions and in 'df.iloc' we cannot apply the conditions"
      ]
    },
    {
      "cell_type": "code",
      "execution_count": null,
      "id": "9e0e3902-d6e8-49ce-92d9-23feca7d9a12",
      "metadata": {
        "id": "9e0e3902-d6e8-49ce-92d9-23feca7d9a12",
        "outputId": "544e592b-adfb-4f25-80fb-930729dd5dcb"
      },
      "outputs": [
        {
          "data": {
            "text/plain": [
              "np.int64(0)"
            ]
          },
          "execution_count": 26,
          "metadata": {},
          "output_type": "execute_result"
        }
      ],
      "source": [
        "#find the number of duplicates in df\n",
        "df.duplicated().sum()"
      ]
    },
    {
      "cell_type": "code",
      "execution_count": null,
      "id": "12658e2a-8065-4d36-8949-2f6eb8383613",
      "metadata": {
        "id": "12658e2a-8065-4d36-8949-2f6eb8383613"
      },
      "outputs": [],
      "source": [
        "#how to drop duplicate data\n",
        "df.drop_duplicates(inplace=True)"
      ]
    },
    {
      "cell_type": "code",
      "execution_count": null,
      "id": "fd7635f4-b8e4-45fc-bee9-3ae63d80dd34",
      "metadata": {
        "id": "fd7635f4-b8e4-45fc-bee9-3ae63d80dd34",
        "outputId": "9ee19c40-2f8c-482c-b20a-71702b82b201"
      },
      "outputs": [
        {
          "data": {
            "text/plain": [
              "Pregnant               0\n",
              "Glucose                5\n",
              "Diastolic_BP          35\n",
              "Skin_Fold            227\n",
              "Serum_Insulin        374\n",
              "BMI                   11\n",
              "Diabetes_Pedigree      0\n",
              "Age                    0\n",
              "Class                  0\n",
              "dtype: int64"
            ]
          },
          "execution_count": 28,
          "metadata": {},
          "output_type": "execute_result"
        }
      ],
      "source": [
        "#find the null vales\n",
        "df.isnull().sum()"
      ]
    },
    {
      "cell_type": "code",
      "execution_count": null,
      "id": "0b7e8b2f-140e-4468-9c64-5bdbf3d1c9fc",
      "metadata": {
        "id": "0b7e8b2f-140e-4468-9c64-5bdbf3d1c9fc",
        "outputId": "5df6b6cf-a274-4b4f-b92d-f6efbf3edd02"
      },
      "outputs": [
        {
          "data": {
            "text/plain": [
              "array([33.6, 26.6, 23.3, 28.1, 43.1, 25.6, 31. , 35.3, 30.5,  nan, 37.6,\n",
              "       38. , 27.1, 30.1, 25.8, 30. , 45.8, 29.6, 43.3, 34.6, 39.3, 35.4,\n",
              "       39.8, 29. , 36.6, 31.1, 39.4, 23.2, 22.2, 34.1, 36. , 31.6, 24.8,\n",
              "       19.9, 27.6, 24. , 33.2, 32.9, 38.2, 37.1, 34. , 40.2, 22.7, 45.4,\n",
              "       27.4, 42. , 29.7, 28. , 39.1, 19.4, 24.2, 24.4, 33.7, 34.7, 23. ,\n",
              "       37.7, 46.8, 40.5, 41.5, 25. , 25.4, 32.8, 32.5, 42.7, 19.6, 28.9,\n",
              "       28.6, 43.4, 35.1, 32. , 24.7, 32.6, 43.2, 22.4, 29.3, 24.6, 48.8,\n",
              "       32.4, 38.5, 26.5, 19.1, 46.7, 23.8, 33.9, 20.4, 28.7, 49.7, 39. ,\n",
              "       26.1, 22.5, 39.6, 29.5, 34.3, 37.4, 33.3, 31.2, 28.2, 53.2, 34.2,\n",
              "       26.8, 55. , 42.9, 34.5, 27.9, 38.3, 21.1, 33.8, 30.8, 36.9, 39.5,\n",
              "       27.3, 21.9, 40.6, 47.9, 50. , 25.2, 40.9, 37.2, 44.2, 29.9, 31.9,\n",
              "       28.4, 43.5, 32.7, 67.1, 45. , 34.9, 27.7, 35.9, 22.6, 33.1, 30.4,\n",
              "       52.3, 24.3, 22.9, 34.8, 30.9, 40.1, 23.9, 37.5, 35.5, 42.8, 42.6,\n",
              "       41.8, 35.8, 37.8, 28.8, 23.6, 35.7, 36.7, 45.2, 44. , 46.2, 35. ,\n",
              "       43.6, 44.1, 18.4, 29.2, 25.9, 32.1, 36.3, 40. , 25.1, 27.5, 45.6,\n",
              "       27.8, 24.9, 25.3, 37.9, 27. , 26. , 38.7, 20.8, 36.1, 30.7, 32.3,\n",
              "       52.9, 21. , 39.7, 25.5, 26.2, 19.3, 38.1, 23.5, 45.5, 23.1, 39.9,\n",
              "       36.8, 21.8, 41. , 42.2, 34.4, 27.2, 36.5, 29.8, 39.2, 38.4, 36.2,\n",
              "       48.3, 20. , 22.3, 45.7, 23.7, 22.1, 42.1, 42.4, 18.2, 26.4, 45.3,\n",
              "       37. , 24.5, 32.2, 59.4, 21.2, 26.7, 30.2, 46.1, 41.3, 38.8, 35.2,\n",
              "       42.3, 40.7, 46.5, 33.5, 37.3, 30.3, 26.3, 21.7, 36.4, 28.5, 26.9,\n",
              "       38.6, 31.3, 19.5, 20.1, 40.8, 23.4, 28.3, 38.9, 57.3, 35.6, 49.6,\n",
              "       44.6, 24.1, 44.5, 41.2, 49.3, 46.3])"
            ]
          },
          "execution_count": 32,
          "metadata": {},
          "output_type": "execute_result"
        }
      ],
      "source": [
        "#find the unique values in 'BMI'\n",
        "df['BMI'].unique()"
      ]
    },
    {
      "cell_type": "code",
      "execution_count": null,
      "id": "f91e6604-4e7f-4e1b-9748-bfda5480f28c",
      "metadata": {
        "id": "f91e6604-4e7f-4e1b-9748-bfda5480f28c",
        "outputId": "b5616ad5-12ad-4353-919c-01b053a0318f"
      },
      "outputs": [
        {
          "data": {
            "text/plain": [
              "BMI\n",
              "32.0    13\n",
              "31.2    12\n",
              "31.6    12\n",
              "32.4    10\n",
              "33.3    10\n",
              "        ..\n",
              "49.6     1\n",
              "24.1     1\n",
              "41.2     1\n",
              "49.3     1\n",
              "46.3     1\n",
              "Name: count, Length: 247, dtype: int64"
            ]
          },
          "execution_count": 33,
          "metadata": {},
          "output_type": "execute_result"
        }
      ],
      "source": [
        "#count values in a particular column of df\n",
        "df['BMI'].value_counts()"
      ]
    },
    {
      "cell_type": "code",
      "execution_count": null,
      "id": "dd61129a-2576-4e74-b71b-61424ea3b4bc",
      "metadata": {
        "id": "dd61129a-2576-4e74-b71b-61424ea3b4bc"
      },
      "outputs": [],
      "source": [
        "#revision\n",
        "#df.head()\n",
        "#df.tail()\n",
        "#df.dtypes\n",
        "#df.shape\n",
        "#df.size\n",
        "#df.columns\n",
        "#df.info()\n",
        "#df.describe()\n",
        "#df.isnull().sum()\n",
        "#df.dropna()\n",
        "#df.loc[]-->locate the rows\n",
        "#df.iloc[]-->locate index and colums\n",
        "#df.duplicated().sum()\n",
        "#df.drop_duplicates()\n",
        "#df['column_name'].unique()-->print the unique value in the particular column\n",
        "#df['column_name'].value_counts()-->frequency of each value"
      ]
    },
    {
      "cell_type": "markdown",
      "id": "b76ccc90-cad9-4598-9231-649a8c29d62e",
      "metadata": {
        "id": "b76ccc90-cad9-4598-9231-649a8c29d62e"
      },
      "source": [
        "# 23-01-2024"
      ]
    },
    {
      "cell_type": "code",
      "execution_count": null,
      "id": "9257a986-2161-4ba1-90ef-99137eaa40fc",
      "metadata": {
        "id": "9257a986-2161-4ba1-90ef-99137eaa40fc"
      },
      "outputs": [],
      "source": [
        "# Applying the filters on the dataset\n",
        "#How to apply filters on dataset?\n",
        "#By using apply():- it takes a function as an argument and apply it each item in dataset\n",
        "#df.apply(function,convert_dtype = True)"
      ]
    },
    {
      "cell_type": "code",
      "execution_count": null,
      "id": "b9e2c51c-0cb4-4339-9a5f-5a49ff2da88f",
      "metadata": {
        "id": "b9e2c51c-0cb4-4339-9a5f-5a49ff2da88f",
        "outputId": "37ad3054-0f3b-4193-e72d-a89dff4ef28b"
      },
      "outputs": [
        {
          "name": "stdout",
          "output_type": "stream",
          "text": [
            "False\n"
          ]
        }
      ],
      "source": [
        "l =[1,2,3,4,5,6,7,8,9]\n",
        "def check_eve(num):\n",
        "    if num%2==0:\n",
        "        return True\n",
        "    else:\n",
        "        return False"
      ]
    },
    {
      "cell_type": "code",
      "execution_count": null,
      "id": "85d2d688-1c6d-4143-9059-38eeb8be357c",
      "metadata": {
        "id": "85d2d688-1c6d-4143-9059-38eeb8be357c",
        "outputId": "fa7317e5-485a-4f88-fcb1-d9c09b1a3035"
      },
      "outputs": [
        {
          "name": "stdout",
          "output_type": "stream",
          "text": [
            "[2, 4, 6, 8]\n"
          ]
        }
      ],
      "source": [
        "a = list(filter(check_eve,l))\n",
        "print(a)"
      ]
    },
    {
      "cell_type": "code",
      "execution_count": null,
      "id": "e1ba0a42-c240-4ca0-8a6e-ed405adda12f",
      "metadata": {
        "id": "e1ba0a42-c240-4ca0-8a6e-ed405adda12f",
        "outputId": "172a5341-de5a-452d-8d0f-2ca87b084438"
      },
      "outputs": [
        {
          "name": "stdout",
          "output_type": "stream",
          "text": [
            "  name  marks\n",
            "0    a     56\n",
            "1    b     70\n",
            "2    c     40\n",
            "3    d     80\n",
            "4    e     90\n"
          ]
        }
      ],
      "source": [
        "d = {\n",
        "    'name' : ['a','b','c','d','e'],\n",
        "    'marks':[56,70,40,80,90]\n",
        "}\n",
        "#convert the above dictionary in to df\n",
        "import pandas as pd\n",
        "df = pd.DataFrame(d)\n",
        "print(df)"
      ]
    },
    {
      "cell_type": "code",
      "execution_count": null,
      "id": "bbc5c75f-be26-4d8b-bfca-fdf0e52fbd28",
      "metadata": {
        "id": "bbc5c75f-be26-4d8b-bfca-fdf0e52fbd28"
      },
      "outputs": [],
      "source": [
        "#create a function so it print pass or fail pass marks can be 50\n",
        "def check_pass_fail(marks):\n",
        "    if marks >=50:\n",
        "        return 'Pass'\n",
        "    else:\n",
        "        return 'Fail'"
      ]
    },
    {
      "cell_type": "code",
      "execution_count": null,
      "id": "5b94f93a-8a79-4966-b41c-4fd96675397f",
      "metadata": {
        "id": "5b94f93a-8a79-4966-b41c-4fd96675397f",
        "outputId": "2e6799c9-797b-4bdb-be8c-6dde7a9c5e22"
      },
      "outputs": [
        {
          "data": {
            "text/plain": [
              "0    Pass\n",
              "1    Pass\n",
              "2    Fail\n",
              "3    Pass\n",
              "4    Pass\n",
              "Name: marks, dtype: object"
            ]
          },
          "execution_count": 9,
          "metadata": {},
          "output_type": "execute_result"
        }
      ],
      "source": [
        "#df.apply(function)\n",
        "df['marks'].apply(check_pass_fail)\n",
        "#Note:- apply() takes a function as an argument and apply it to a particular column of df"
      ]
    },
    {
      "cell_type": "code",
      "execution_count": null,
      "id": "360b7c86-8988-490b-b160-bedc58ce16c5",
      "metadata": {
        "id": "360b7c86-8988-490b-b160-bedc58ce16c5",
        "outputId": "34403589-c428-4fba-c643-2a27111c102e"
      },
      "outputs": [
        {
          "data": {
            "text/html": [
              "<div>\n",
              "<style scoped>\n",
              "    .dataframe tbody tr th:only-of-type {\n",
              "        vertical-align: middle;\n",
              "    }\n",
              "\n",
              "    .dataframe tbody tr th {\n",
              "        vertical-align: top;\n",
              "    }\n",
              "\n",
              "    .dataframe thead th {\n",
              "        text-align: right;\n",
              "    }\n",
              "</style>\n",
              "<table border=\"1\" class=\"dataframe\">\n",
              "  <thead>\n",
              "    <tr style=\"text-align: right;\">\n",
              "      <th></th>\n",
              "      <th>Grades</th>\n",
              "    </tr>\n",
              "  </thead>\n",
              "  <tbody>\n",
              "    <tr>\n",
              "      <th>0</th>\n",
              "      <td>A</td>\n",
              "    </tr>\n",
              "    <tr>\n",
              "      <th>1</th>\n",
              "      <td>B</td>\n",
              "    </tr>\n",
              "    <tr>\n",
              "      <th>2</th>\n",
              "      <td>C</td>\n",
              "    </tr>\n",
              "    <tr>\n",
              "      <th>3</th>\n",
              "      <td>D</td>\n",
              "    </tr>\n",
              "    <tr>\n",
              "      <th>4</th>\n",
              "      <td>E</td>\n",
              "    </tr>\n",
              "  </tbody>\n",
              "</table>\n",
              "</div>"
            ],
            "text/plain": [
              "  Grades\n",
              "0      A\n",
              "1      B\n",
              "2      C\n",
              "3      D\n",
              "4      E"
            ]
          },
          "execution_count": 11,
          "metadata": {},
          "output_type": "execute_result"
        }
      ],
      "source": [
        "#map():- it is used replace a the old data in column with new data\n",
        "#Note:- the has to be in dictionary or series\n",
        "#syntax:- old_df['column_name'].map('dictionary or series name')\n",
        "data = {\n",
        "    'Grades':['A','B','C','D','E']\n",
        "}\n",
        "df = pd.DataFrame(data)\n",
        "df"
      ]
    },
    {
      "cell_type": "code",
      "execution_count": null,
      "id": "6ffb0e9f-07b9-4ee5-96a1-fd876923ef76",
      "metadata": {
        "id": "6ffb0e9f-07b9-4ee5-96a1-fd876923ef76",
        "outputId": "2dc243aa-894b-403f-efc1-0c39d3c7cf76"
      },
      "outputs": [
        {
          "data": {
            "text/html": [
              "<div>\n",
              "<style scoped>\n",
              "    .dataframe tbody tr th:only-of-type {\n",
              "        vertical-align: middle;\n",
              "    }\n",
              "\n",
              "    .dataframe tbody tr th {\n",
              "        vertical-align: top;\n",
              "    }\n",
              "\n",
              "    .dataframe thead th {\n",
              "        text-align: right;\n",
              "    }\n",
              "</style>\n",
              "<table border=\"1\" class=\"dataframe\">\n",
              "  <thead>\n",
              "    <tr style=\"text-align: right;\">\n",
              "      <th></th>\n",
              "      <th>Grades</th>\n",
              "    </tr>\n",
              "  </thead>\n",
              "  <tbody>\n",
              "    <tr>\n",
              "      <th>0</th>\n",
              "      <td>excellent</td>\n",
              "    </tr>\n",
              "    <tr>\n",
              "      <th>1</th>\n",
              "      <td>good</td>\n",
              "    </tr>\n",
              "    <tr>\n",
              "      <th>2</th>\n",
              "      <td>Fair</td>\n",
              "    </tr>\n",
              "    <tr>\n",
              "      <th>3</th>\n",
              "      <td>pass</td>\n",
              "    </tr>\n",
              "    <tr>\n",
              "      <th>4</th>\n",
              "      <td>Fail</td>\n",
              "    </tr>\n",
              "  </tbody>\n",
              "</table>\n",
              "</div>"
            ],
            "text/plain": [
              "      Grades\n",
              "0  excellent\n",
              "1       good\n",
              "2       Fair\n",
              "3       pass\n",
              "4       Fail"
            ]
          },
          "execution_count": 13,
          "metadata": {},
          "output_type": "execute_result"
        }
      ],
      "source": [
        "grades = {'A':'excellent','B':'good','C':'Fair','D':'pass','E':'Fail'}\n",
        "df['Grades'] = df['Grades'].map(grades)\n",
        "df"
      ]
    },
    {
      "cell_type": "code",
      "execution_count": null,
      "id": "7b29fc63-242e-4a9c-b4cc-0292c48f6a08",
      "metadata": {
        "id": "7b29fc63-242e-4a9c-b4cc-0292c48f6a08"
      },
      "outputs": [],
      "source": [
        "#Time series"
      ]
    },
    {
      "cell_type": "code",
      "execution_count": null,
      "id": "001a1fea-a599-4782-a60d-d93e8b3909ca",
      "metadata": {
        "id": "001a1fea-a599-4782-a60d-d93e8b3909ca"
      },
      "outputs": [],
      "source": [
        "#what is time series data?\n",
        "\"\"\"time series data is a sequence of of data pointsin cronological order that is used by business\n",
        "to analyze the past data and make the future prediction\"\"\"\n",
        "#ex:- weather forecast\n",
        "#no of taxi rides in a month\n",
        "#prediciting a company stock price for the next day"
      ]
    },
    {
      "cell_type": "code",
      "execution_count": null,
      "id": "727845db-5efc-4282-beb9-2c8bd5afd33a",
      "metadata": {
        "id": "727845db-5efc-4282-beb9-2c8bd5afd33a"
      },
      "outputs": [],
      "source": [
        "#components of the time series\n",
        "#it consist of 4 components\n",
        "#1.Trend component:- this is a varaiation that moves up or down in a predictible pattern\n",
        "#2.seasonality component:- the varaiation that is regular or periodic and it repeats cycles at regular periods or time\n",
        "    #ex:- such as day,weeks,month or season\n",
        "#3.cyclic components:- it is a varaiation that corresponds to business where you can see \"boom-bust\" cycles\n",
        "#4.irregular components:- also known as random components\n"
      ]
    }
  ],
  "metadata": {
    "kernelspec": {
      "display_name": "Python 3 (ipykernel)",
      "language": "python",
      "name": "python3"
    },
    "language_info": {
      "codemirror_mode": {
        "name": "ipython",
        "version": 3
      },
      "file_extension": ".py",
      "mimetype": "text/x-python",
      "name": "python",
      "nbconvert_exporter": "python",
      "pygments_lexer": "ipython3",
      "version": "3.13.0"
    },
    "colab": {
      "provenance": [],
      "include_colab_link": true
    }
  },
  "nbformat": 4,
  "nbformat_minor": 5
}