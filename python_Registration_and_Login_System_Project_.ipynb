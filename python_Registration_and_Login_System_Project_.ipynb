{
  "nbformat": 4,
  "nbformat_minor": 0,
  "metadata": {
    "colab": {
      "provenance": [],
      "include_colab_link": true
    },
    "kernelspec": {
      "name": "python3",
      "display_name": "Python 3"
    },
    "language_info": {
      "name": "python"
    }
  },
  "cells": [
    {
      "cell_type": "markdown",
      "metadata": {
        "id": "view-in-github",
        "colab_type": "text"
      },
      "source": [
        "<a href=\"https://colab.research.google.com/github/Aravind333-creator/python-notes/blob/main/python_Registration_and_Login_System_Project_.ipynb\" target=\"_parent\"><img src=\"https://colab.research.google.com/assets/colab-badge.svg\" alt=\"Open In Colab\"/></a>"
      ]
    },
    {
      "cell_type": "code",
      "execution_count": 3,
      "metadata": {
        "id": "vDmyIlRBpoSi"
      },
      "outputs": [],
      "source": [
        "# stage 1 of the registration\n",
        "def register():\n",
        "    db = open(\"User_Details.txt\", \"r\")\n",
        "    user = str(input(\"Enter the Mail Id: \"))\n",
        "    password = str(input(\"Enter the password: \"))\n",
        "    password1 = input(\"Confirm the password\")\n",
        "    if password != password1:\n",
        "        print(\"Password don't match, restart\")\n",
        "        register()\n",
        "    else:\n",
        "        if len(password) <= 6:\n",
        "            print(\"Password is too short\")\n",
        "            register()\n",
        "        elif user in db:\n",
        "            print(\"user exists\")\n",
        "            register()\n",
        "        else:\n",
        "            db = open(\"User_Details.txt\", \"a\")\n",
        "            db.write(user + \", \" + password + \"\\n\")\n",
        "            print(\"registered successfully\")\n",
        "\n",
        "\n",
        "def access():\n",
        "    pass"
      ]
    },
    {
      "cell_type": "code",
      "source": [
        "#A regular expression (or RE) specifies a set of strings that matches it\n",
        "import re\n",
        "#The csv module implements classes to read and write tabular data in CSV format\n",
        "import csv\n",
        "email_condition = re.compile(r\"([A-Za-z0-9]+[.-_])*[A-Za-z0-9]+@[A-Za-z0-9]+(\\.[A-Z|a-z]{2,})+\")\n",
        "password_condition = re.compile(r\"^(?=.*?[A-Z])(?=.*?[a-z])(?=.*?[0-9])(?=.*?[#?!@$%^&*-]).{5,}$\")\n",
        "def isvalidEmail(email):\n",
        "  if re.fullmatch(email_condition, email):\n",
        "    return True\n",
        "  else:\n",
        "    return False\n",
        "\n",
        "def isvaildpassword(password):\n",
        "   if len(password) < 16 and len(password) > 5 and re.fullmatch(password_condition, password):\n",
        "     return True\n",
        "   else:\n",
        "    return False\n",
        "def register():\n",
        "  email = str(input(\"Enter the Mail Id: \"))\n",
        "  if isvalidEmail(email):\n",
        "    password = str(input(\"Enter the password: \"))\n",
        "    if isvaildpassword(password):\n",
        "      write_file(email, password)\n",
        "      print('\\nUser Registered Successfully')\n",
        "    else:\n",
        "      print('\\nInvalid Password, Please Try Again...')\n",
        "  else:\n",
        "     print('\\nInvalid Username, Please Try Again...')\n",
        "def login():\n",
        "  email = str(input(\"Enter the Mail Id: \"))\n",
        "  auth = Fail\n",
        "  if isvalidEmail(email):\n",
        "    password = str(input(\"Enter the password: \"))\n",
        "    if isvaildpassword(password):\n",
        "      if search_file(email, password):\n",
        "        print(\"\\nUser Logged in successfully..\")\n",
        "      else:\n",
        "          print('\\nUser Not Found !!!')\n",
        "          register()\n",
        "    else:\n",
        "          print('\\nInvalid Password, Please Try Again...')\n",
        "  else:\n",
        "      print('\\nInvalid Username, Please Try Again...')\n",
        "def forget_password(email):\n",
        "  email = str(input(\"Enter the Mail Id: \"))\n",
        "  auth = Fail\n",
        "  if isvalidEmail(email):\n",
        "    password = str(input(\"Enter the password: \"))\n",
        "\n",
        "\n",
        "\n",
        "\n",
        "\n",
        "\n",
        "\n",
        "\n"
      ],
      "metadata": {
        "id": "YAmKjauvxSRQ"
      },
      "execution_count": 2,
      "outputs": []
    },
    {
      "cell_type": "markdown",
      "source": [
        "**Regular expression**"
      ],
      "metadata": {
        "id": "Pl1qi3_ePkvT"
      }
    },
    {
      "cell_type": "code",
      "source": [
        "#RegEx:-is a seuquence of characters that forms a search pattern\n",
        "import re\n",
        "\n",
        "txt = \"practice python to clear coding\"\n",
        "#search weather \"python\" is present in text or not\n",
        "x = re.findall(\"python\",txt)\n",
        "print(x)"
      ],
      "metadata": {
        "id": "oFtlE0q8PnaO",
        "outputId": "b6741f2f-15ce-47c5-e2b6-037e7978432c",
        "colab": {
          "base_uri": "https://localhost:8080/"
        }
      },
      "execution_count": null,
      "outputs": [
        {
          "output_type": "stream",
          "name": "stdout",
          "text": [
            "['python']\n"
          ]
        }
      ]
    },
    {
      "cell_type": "code",
      "source": [
        "#what are the important functions do we have in regex\n",
        "#1.findall:returns a list containg all the matches\n",
        "#2.searc:- return index positions\n",
        "#3.split:- by defualt it returns the object in list\n",
        "#4.sub:- replace your old string with new tsring"
      ],
      "metadata": {
        "id": "0_jGtaNkQua4"
      },
      "execution_count": null,
      "outputs": []
    },
    {
      "cell_type": "code",
      "source": [
        "txt = \"practice python to clear coding\"\n",
        "#search weather \"python\" is present in text or not\n",
        "x = re.sub('python','pandas',txt)\n",
        "print(x)"
      ],
      "metadata": {
        "id": "bzRqsioVRSco",
        "outputId": "6bc38720-3b78-4692-b081-1df37f2c64f9",
        "colab": {
          "base_uri": "https://localhost:8080/"
        }
      },
      "execution_count": null,
      "outputs": [
        {
          "output_type": "stream",
          "name": "stdout",
          "text": [
            "practice pandas to clear coding\n"
          ]
        }
      ]
    },
    {
      "cell_type": "code",
      "source": [
        "print(txt.replace('pandas','python'))"
      ],
      "metadata": {
        "id": "R60YRjLORWRt",
        "outputId": "5396ef26-90a3-4cbc-e583-8a2dd2056d47",
        "colab": {
          "base_uri": "https://localhost:8080/"
        }
      },
      "execution_count": null,
      "outputs": [
        {
          "output_type": "stream",
          "name": "stdout",
          "text": [
            "practice python to clear coding\n"
          ]
        }
      ]
    },
    {
      "cell_type": "code",
      "source": [
        "import re\n",
        "import os\n",
        "\n",
        "# Define the file to store the registration details\n",
        "USER_FILE = \"users.txt\"\n",
        "\n",
        "# Ensure the users file exists\n",
        "if not os.path.exists(USER_FILE):\n",
        "    with open(USER_FILE, 'w') as f:\n",
        "        pass\n",
        "\n",
        "def is_valid_email(email):\n",
        "    \"\"\"Check if the email is valid using regex.\"\"\"\n",
        "    email_regex = r'^[a-zA-Z0-9_.+-]+@[a-zA-Z0-9-]+\\.[a-zA-Z0-9-.]+$'\n",
        "    return re.match(email_regex, email) is not None\n",
        "\n",
        "def is_valid_password(password):\n",
        "    \"\"\"Check if the password is valid (more than 5 characters, one uppercase, one special character).\"\"\"\n",
        "    return len(password) > 5 and \\\n",
        "           any(char.isupper() for char in password) and \\\n",
        "           any(char in \"!@#$%^&*()_+\" for char in password)\n",
        "\n",
        "def register_user():\n",
        "    \"\"\"Register a new user.\"\"\"\n",
        "    print(\"Registration Page\")\n",
        "    email = input(\"Enter your email: \")\n",
        "\n",
        "    # Ensure valid email\n",
        "    if not is_valid_email(email):\n",
        "        print(\"Invalid email format!\")\n",
        "        return\n",
        "\n",
        "    password = input(\"Enter your password: \")\n",
        "\n",
        "    # Ensure valid password\n",
        "    if not is_valid_password(password):\n",
        "        print(\"Password must be at least 6 characters long with one uppercase and one special character.\")\n",
        "        return\n",
        "\n",
        "    with open(USER_FILE, 'a') as file:\n",
        "        file.write(f\"{email},{password}\\n\")\n",
        "\n",
        "    print(\"Registration successful!\")\n",
        "\n",
        "def login_user():\n",
        "    \"\"\"Login the user.\"\"\"\n",
        "    print(\"Login Page\")\n",
        "    email = input(\"Enter your email: \")\n",
        "    password = input(\"Enter your password: \")\n",
        "\n",
        "    # Read the stored data and check for the user's email and password\n",
        "    with open(USER_FILE, 'r') as file:\n",
        "        users = file.readlines()\n",
        "\n",
        "    for user in users:\n",
        "        stored_email, stored_password = user.strip().split(',')\n",
        "        if stored_email == email:\n",
        "            if stored_password == password:\n",
        "                print(\"Login successful!\")\n",
        "                return\n",
        "            else:\n",
        "                print(\"Incorrect password!\")\n",
        "                return\n",
        "    print(\"User not found!\")\n",
        "    redirect_to_registration()\n",
        "\n",
        "def forgot_password():\n",
        "    \"\"\"Recover the password.\"\"\"\n",
        "    print(\"Forgot Password Page\")\n",
        "    email = input(\"Enter your email: \")\n",
        "\n",
        "    # Read the stored data and check for the user's email\n",
        "    with open(USER_FILE, 'r') as file:\n",
        "        users = file.readlines()\n",
        "\n",
        "    for user in users:\n",
        "        stored_email, stored_password = user.strip().split(',')\n",
        "        if stored_email == email:\n",
        "            print(f\"Your password is: {stored_password}\")\n",
        "            return\n",
        "\n",
        "    print(\"User not found!\")\n",
        "    redirect_to_registration()\n",
        "\n",
        "def redirect_to_registration():\n",
        "    \"\"\"Redirect the user to the registration page.\"\"\"\n",
        "    print(\"Redirecting to Registration...\")\n",
        "    register_user()\n",
        "\n",
        "def main():\n",
        "    \"\"\"Main function to control the flow.\"\"\"\n",
        "    print(\"Welcome to the System!\")\n",
        "    print(\"1. Register\")\n",
        "    print(\"2. Login\")\n",
        "    print(\"3. Forgot Password\")\n",
        "\n",
        "    choice = input(\"Enter your choice (1/2/3): \")\n",
        "\n",
        "    if choice == '1':\n",
        "        register_user()\n",
        "    elif choice == '2':\n",
        "        login_user()\n",
        "    elif choice == '3':\n",
        "        forgot_password()\n",
        "    else:\n",
        "        print(\"Invalid choice, please try again.\")\n",
        "        main()\n",
        "\n",
        "# Run the main program\n",
        "if __name__ == \"__main__\":\n",
        "    main()\n"
      ],
      "metadata": {
        "id": "otLZiCoER8xQ",
        "outputId": "f94677f7-f089-41d5-ffa6-7ebc0ebcc50a",
        "colab": {
          "base_uri": "https://localhost:8080/"
        }
      },
      "execution_count": 1,
      "outputs": [
        {
          "output_type": "stream",
          "name": "stdout",
          "text": [
            "Welcome to the System!\n",
            "1. Register\n",
            "2. Login\n",
            "3. Forgot Password\n",
            "Enter your choice (1/2/3): 1\n",
            "Registration Page\n",
            "Enter your email: koudiaravind@outlook.com\n",
            "Enter your password: Aravind@72888\n",
            "Registration successful!\n"
          ]
        }
      ]
    },
    {
      "cell_type": "code",
      "source": [],
      "metadata": {
        "id": "7cRGG_-WWKMY"
      },
      "execution_count": null,
      "outputs": []
    }
  ]
}