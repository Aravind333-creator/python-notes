{
  "nbformat": 4,
  "nbformat_minor": 0,
  "metadata": {
    "colab": {
      "provenance": [],
      "include_colab_link": true
    },
    "kernelspec": {
      "name": "python3",
      "display_name": "Python 3"
    },
    "language_info": {
      "name": "python"
    }
  },
  "cells": [
    {
      "cell_type": "markdown",
      "metadata": {
        "id": "view-in-github",
        "colab_type": "text"
      },
      "source": [
        "<a href=\"https://colab.research.google.com/github/Aravind333-creator/python-notes/blob/main/B7_Note_Book.ipynb\" target=\"_parent\"><img src=\"https://colab.research.google.com/assets/colab-badge.svg\" alt=\"Open In Colab\"/></a>"
      ]
    },
    {
      "cell_type": "markdown",
      "source": [
        "#Module1-->Python"
      ],
      "metadata": {
        "id": "J9YE5-eoOIPj"
      }
    },
    {
      "cell_type": "code",
      "execution_count": null,
      "metadata": {
        "id": "kh111wx-NuHb"
      },
      "outputs": [],
      "source": [
        "#what is python?\n",
        "\"\"\"1.most emerging and general purpose programming language\n",
        "  2. High- level programming language\n",
        "  3. object oriented programming language\n",
        "  4. Dynamically typed programming language\n",
        "  5.interpreted programming language\"\"\""
      ]
    },
    {
      "cell_type": "code",
      "source": [
        "#print a \"Hello World!\" program?\n",
        "# use the \"print()\" is inbuilt function used to display your output\n",
        "print(\"Hello world!\")\n",
        "#print your name\n",
        "print(\"zenvius\")"
      ],
      "metadata": {
        "id": "rX0NPUcaRMGL"
      },
      "execution_count": null,
      "outputs": []
    },
    {
      "cell_type": "markdown",
      "source": [
        "#Numerical data types in python"
      ],
      "metadata": {
        "id": "ypk11PSkR_N8"
      }
    },
    {
      "cell_type": "code",
      "source": [
        "#there are 3types of data types\n",
        "#1. Integer---> int\n",
        "#what is an integer?\n",
        "#INT is a whole number either +ve or -ve without decimal points\n",
        "print(10)\n",
        "print(-5)\n",
        "#i want to find the dtypes of above numbers\n",
        "# use \"type()\" is a inbuilt function used to find your dtypes\n",
        "print(type(10))\n",
        "print(type(-5))"
      ],
      "metadata": {
        "id": "q5ypeaQvR-Ea"
      },
      "execution_count": null,
      "outputs": []
    },
    {
      "cell_type": "code",
      "source": [
        "#2.float:- ---> float\n",
        "#what is a float?\n",
        "#whole number either +ve or -ve with decimal points\n",
        "print(10.5)\n",
        "print(-5.5)\n",
        "print(type(10.5))\n",
        "print(type(-5.5))"
      ],
      "metadata": {
        "id": "mmAkOSMkTd6u"
      },
      "execution_count": null,
      "outputs": []
    },
    {
      "cell_type": "code",
      "source": [
        "#complex number:- ----> complex\n",
        "#what is a complex number?\n",
        "#A real number with its imaginary part is known as complex number\n",
        "#the imaginary has to be in \"j\" is known as \"iota\"\n",
        "print(2+5j)\n",
        "print(3+5j)\n",
        "print(type(2+5j))"
      ],
      "metadata": {
        "id": "nEDq-QUPT0QF"
      },
      "execution_count": null,
      "outputs": []
    },
    {
      "cell_type": "markdown",
      "source": [
        "#Arthmetic opereators"
      ],
      "metadata": {
        "id": "OQr7emqwWOm3"
      }
    },
    {
      "cell_type": "code",
      "source": [
        "#There are 7 arthametic operators\n",
        "#1.addition-->+\n",
        "print(10 + 5)\n",
        "print(type(10 + 5))\n",
        "#2.substraction---> -\n",
        "print(10 - 5)\n",
        "print(type(10 - 5))\n",
        "#3. multiplication---> *\n",
        "print(10 * 5)\n",
        "print(type(10*5))\n",
        "#4. division---> /\n",
        "print(10 / 5)\n",
        "print(type(10/5))\n",
        "#why the default data type for divison is float?\n",
        "#in most of the divison operation the co-efficient you may get as a float sometimes or fixed numbers some time\n",
        "#so it is easy to convert a float in to integer\n",
        "#to get the actual or sufficient co-efficient the default dtype is float"
      ],
      "metadata": {
        "id": "gC_lYU0yWUb9"
      },
      "execution_count": null,
      "outputs": []
    },
    {
      "cell_type": "code",
      "source": [
        "#5. Modulus---> %\n",
        "# modulus is defined as remainder of the division\n",
        "print(10 % 5)\n",
        "print(type(10 % 5))\n",
        "#to find even and odd data or number or prime numbers we are using modulus\n",
        "print(236548243769 % 2)"
      ],
      "metadata": {
        "id": "cHwDX6w4YvyH"
      },
      "execution_count": null,
      "outputs": []
    },
    {
      "cell_type": "code",
      "source": [
        "#6. exponential ---> **\n",
        "#to the power off\n",
        "print(2**3)\n",
        "print(type(2**3))\n",
        "#use **0.5\n",
        "print(25**0.5)"
      ],
      "metadata": {
        "id": "s5r3enRHbLV0"
      },
      "execution_count": null,
      "outputs": []
    },
    {
      "cell_type": "code",
      "source": [
        "#7. floor divison--> //\n",
        "#it ignores the values after the decimal point\n",
        "print(10 / 3)\n",
        "print(10 // 3)"
      ],
      "metadata": {
        "id": "GGd0xu4xbtHI"
      },
      "execution_count": null,
      "outputs": []
    },
    {
      "cell_type": "markdown",
      "source": [
        "**Round()**"
      ],
      "metadata": {
        "id": "4hKSPA_jcl7o"
      }
    },
    {
      "cell_type": "code",
      "source": [
        "#what is round function()?\n",
        "#round() can be executes if it is a decimal number\n",
        "#if the decimal point is more than or equal to 0.5 then you get next upcoming value which is known as ceil value\n",
        "#round() is used to print specific ndigitd\n",
        "#what is a ceil value and floor value?"
      ],
      "metadata": {
        "id": "uDeLRCU-cpd3"
      },
      "execution_count": null,
      "outputs": []
    },
    {
      "cell_type": "code",
      "source": [
        "print(round(6.6))\n",
        "print(round(6.4321))\n",
        "print(round(2.46))"
      ],
      "metadata": {
        "id": "rkgKrTAVdMFm"
      },
      "execution_count": null,
      "outputs": []
    },
    {
      "cell_type": "code",
      "source": [
        "#round(number, count_ndigits)\n",
        "print(round(345.2454873,4))"
      ],
      "metadata": {
        "colab": {
          "base_uri": "https://localhost:8080/"
        },
        "id": "JFk56sh6d1dB",
        "outputId": "06eb3e6e-13ad-4025-b9b7-4aed06056b6c"
      },
      "execution_count": null,
      "outputs": [
        {
          "output_type": "stream",
          "name": "stdout",
          "text": [
            "345.2455\n"
          ]
        }
      ]
    },
    {
      "cell_type": "code",
      "source": [
        "#when using -ve count then round function igenores the values after decimal point means it makes decimal point as a zero\n",
        "print(round(-15345.98765,-5))\n"
      ],
      "metadata": {
        "colab": {
          "base_uri": "https://localhost:8080/"
        },
        "id": "ua2MUUtie5p1",
        "outputId": "cfec3b2f-783b-4f47-d105-b4111e55e2b3"
      },
      "execution_count": null,
      "outputs": [
        {
          "output_type": "stream",
          "name": "stdout",
          "text": [
            "-0.0\n"
          ]
        }
      ]
    },
    {
      "cell_type": "markdown",
      "source": [
        "**27-11-2024**\n",
        "\n",
        "**Varaibels**"
      ],
      "metadata": {
        "id": "Ujq8jgXJvW30"
      }
    },
    {
      "cell_type": "code",
      "source": [
        "#what is varaibles?\n",
        "#varaibles are nothing but containers where we can store our valauable information or data and reuse it.\n",
        "#How can we create a varaible?\n",
        "#we can create varaibles by using alphabets\n",
        "s = \"Hello world!\"\n",
        "print(s)\n",
        "print(type(s))"
      ],
      "metadata": {
        "colab": {
          "base_uri": "https://localhost:8080/"
        },
        "id": "uWiI8t8TvheD",
        "outputId": "ec46b16e-18da-4aef-8055-cc0ad02084d3"
      },
      "execution_count": null,
      "outputs": [
        {
          "output_type": "stream",
          "name": "stdout",
          "text": [
            "Hello world!\n",
            "<class 'str'>\n"
          ]
        }
      ]
    },
    {
      "cell_type": "code",
      "source": [
        "#take 2 varaibles and apply all the arthametic operators?\n",
        "a = 10\n",
        "b = 5\n",
        "print(a+b)\n",
        "print(a-b)\n",
        "print(a*b)\n",
        "print(a/b)\n",
        "print(a%b)\n",
        "print(a**b)\n",
        "print(a//b)"
      ],
      "metadata": {
        "id": "yIfdxWtOxHSx"
      },
      "execution_count": null,
      "outputs": []
    },
    {
      "cell_type": "markdown",
      "source": [
        "*Types of Errors*"
      ],
      "metadata": {
        "id": "tnw6DHSByrPz"
      }
    },
    {
      "cell_type": "code",
      "source": [
        "#there are 2 types of errors\n",
        "#1. Syntax error\n",
        "#2. Logical error"
      ],
      "metadata": {
        "id": "LuCrweptyhJy"
      },
      "execution_count": null,
      "outputs": []
    },
    {
      "cell_type": "code",
      "source": [
        "#what is syntax error?\n",
        "#breaking the rules of the programming language can rise an syntax error\n",
        "\"\"\" hi\n",
        "good day!'''\n"
      ],
      "metadata": {
        "id": "L2CWkYmcy5C6"
      },
      "execution_count": null,
      "outputs": []
    },
    {
      "cell_type": "code",
      "source": [
        "#what is logical error?\n",
        "#except syntax error all the erros comes under logical error\n",
        "#ex:- Name error, attribute error, indentation error, recurssive error...etc"
      ],
      "metadata": {
        "id": "kYhUfmN20ENj"
      },
      "execution_count": null,
      "outputs": []
    },
    {
      "cell_type": "markdown",
      "source": [
        "**Rules to create varaibles**"
      ],
      "metadata": {
        "id": "PqEL311_0dcf"
      }
    },
    {
      "cell_type": "code",
      "source": [
        "#1. start creating the varaible by using alphabets\n",
        "a = 10\n",
        "print(a)\n",
        "h = \"hello world!\"\n",
        "print(h)"
      ],
      "metadata": {
        "colab": {
          "base_uri": "https://localhost:8080/"
        },
        "id": "_D3dW5WV0lEp",
        "outputId": "aff40704-cfb1-422f-e0ba-6343d6cc2de3"
      },
      "execution_count": null,
      "outputs": [
        {
          "output_type": "stream",
          "name": "stdout",
          "text": [
            "10\n",
            "hello world!\n"
          ]
        }
      ]
    },
    {
      "cell_type": "code",
      "source": [
        "#2. don't start creating the varaible by using numbers\n",
        "2 = \"hello\"\n",
        "5 = 10\n",
        "print(2)"
      ],
      "metadata": {
        "id": "QwKWkZCy0mEl"
      },
      "execution_count": null,
      "outputs": []
    },
    {
      "cell_type": "code",
      "source": [
        "#3. if you follow rule 1 and 2 you can use numbers in between varaible\n",
        "son2age = 20\n",
        "print(son2age)"
      ],
      "metadata": {
        "colab": {
          "base_uri": "https://localhost:8080/"
        },
        "id": "_KfxEZoX0lzk",
        "outputId": "efee087d-d35d-4185-aec3-7f1d7428e4a6"
      },
      "execution_count": null,
      "outputs": [
        {
          "output_type": "stream",
          "name": "stdout",
          "text": [
            "20\n"
          ]
        }
      ]
    },
    {
      "cell_type": "code",
      "source": [
        "#4.don't use special characters in the varaible name\n",
        "#@!$%^&*\n",
        "son$age = 20\n",
        "print(son@age)"
      ],
      "metadata": {
        "id": "-TsikDZM0los"
      },
      "execution_count": null,
      "outputs": []
    },
    {
      "cell_type": "code",
      "source": [
        "#5.we cannot use the white space in between varaibles\n",
        "a b c = 10 20 30\n",
        "print(a,b,c)\n",
        "#Note:- if you want to separate the varaibles use (,)coma in between varaibles"
      ],
      "metadata": {
        "id": "98vcxN3s2V5r"
      },
      "execution_count": null,
      "outputs": []
    },
    {
      "cell_type": "code",
      "source": [
        "#6.we start creating the varaibles by using underscore(_) and instead of space we can use _\n",
        "son_age = 20\n",
        "print(son_age)\n",
        "_ = \"hello\"\n",
        "print(_)"
      ],
      "metadata": {
        "id": "X2zhDbkWhd3k",
        "colab": {
          "base_uri": "https://localhost:8080/"
        },
        "outputId": "9177adff-0a92-40ce-b7db-d389df56e2eb"
      },
      "execution_count": null,
      "outputs": [
        {
          "output_type": "stream",
          "name": "stdout",
          "text": [
            "20\n",
            "hello\n"
          ]
        }
      ]
    },
    {
      "cell_type": "code",
      "source": [
        "#7. we cannot use the capital letters as a varaible name\n",
        "SON_AGE = 20\n",
        "print(SON_AGE)"
      ],
      "metadata": {
        "id": "oUcP-cYl3840"
      },
      "execution_count": null,
      "outputs": []
    },
    {
      "cell_type": "code",
      "source": [
        "#what is dynamically typed programming language?\n",
        "#we cannot define data type for varaibles\n",
        "a = \"hello wolrd!\"\n",
        "print(type(a))\n",
        "#str[a] = \"hello\"\n",
        "b = 10\n",
        "print(type(b))"
      ],
      "metadata": {
        "id": "cUPw7xlf4g4V"
      },
      "execution_count": null,
      "outputs": []
    },
    {
      "cell_type": "markdown",
      "source": [
        "*Python is a case sensitive programming language*"
      ],
      "metadata": {
        "id": "HBkEJ3M45HGe"
      }
    },
    {
      "cell_type": "code",
      "source": [
        "u = \"hello\"\n",
        "print(U)"
      ],
      "metadata": {
        "id": "xc_WFe0J5MN5"
      },
      "execution_count": null,
      "outputs": []
    },
    {
      "cell_type": "markdown",
      "source": [
        "*Python is an interpreted programming language*"
      ],
      "metadata": {
        "id": "nZaOLFDe5WdH"
      }
    },
    {
      "cell_type": "code",
      "source": [
        "#python executes the program step by step\n",
        "a = 10\n",
        "b = 30\n",
        "a = 40\n",
        "b = 20\n",
        "print(a+b)"
      ],
      "metadata": {
        "id": "hXtUCx_T5bHO"
      },
      "execution_count": null,
      "outputs": []
    },
    {
      "cell_type": "code",
      "source": [
        "#8. we cannot consider keywords as an varaible\n",
        "#what is keyword?\n",
        "#keywords are predefined words or names in python\n",
        "#these are also part of your python syntax\n",
        "#ex:- if, while,for,else,try,except,def...etc"
      ],
      "metadata": {
        "id": "NA_Fui0y6qFS"
      },
      "execution_count": null,
      "outputs": []
    },
    {
      "cell_type": "code",
      "source": [
        "#how can you print overall keywords in python?\n",
        "import keyword\n",
        "print(keyword.kwlist)"
      ],
      "metadata": {
        "colab": {
          "base_uri": "https://localhost:8080/"
        },
        "id": "an4pkpWP7dPC",
        "outputId": "de37d015-26fb-4aa9-c246-5ae69e06a4ae"
      },
      "execution_count": null,
      "outputs": [
        {
          "output_type": "stream",
          "name": "stdout",
          "text": [
            "['False', 'None', 'True', 'and', 'as', 'assert', 'async', 'await', 'break', 'class', 'continue', 'def', 'del', 'elif', 'else', 'except', 'finally', 'for', 'from', 'global', 'if', 'import', 'in', 'is', 'lambda', 'nonlocal', 'not', 'or', 'pass', 'raise', 'return', 'try', 'while', 'with', 'yield']\n"
          ]
        }
      ]
    },
    {
      "cell_type": "markdown",
      "source": [
        "\n",
        "\n",
        "```\n",
        "# This is formatted as code\n",
        "```\n",
        "\n",
        "**smart ways of writing varaibles**"
      ],
      "metadata": {
        "id": "0O-qpMRW7yjg"
      }
    },
    {
      "cell_type": "code",
      "source": [
        "#1.assign multiple values to multiple varaibles and print in separate line\n",
        "#hint:- take three varaibles and print in seprate line\n",
        "# a = 5\n",
        "# b = 10\n",
        "# c = 3\n",
        "# print(a)\n",
        "# print(b)\n",
        "# print(c)\n",
        "a,b,c = 5,10,3\n",
        "print(a,b,c, sep=\"\\n\")  #sep is used to print actual o/p in seprate lines (backward slash 'n'(/n) means print o/p in next line)"
      ],
      "metadata": {
        "id": "vFWljT8z72S4"
      },
      "execution_count": null,
      "outputs": []
    },
    {
      "cell_type": "code",
      "source": [
        "#2.assign single value to multiple varaibles and print in separate line\n",
        "#hint :- take 3 varaibles\n",
        "#a,b,c = 1  -->type error\n",
        "# a = 1\n",
        "# b = 1\n",
        "# c = 1\n",
        "a = b = c = 1\n",
        "print(a,b,c, sep='\\n')"
      ],
      "metadata": {
        "colab": {
          "base_uri": "https://localhost:8080/"
        },
        "id": "9DB-r-G184-5",
        "outputId": "6e145d02-8845-4935-ce5d-bd90bc2aa93c"
      },
      "execution_count": null,
      "outputs": [
        {
          "output_type": "stream",
          "name": "stdout",
          "text": [
            "1\n",
            "1\n",
            "1\n"
          ]
        }
      ]
    },
    {
      "cell_type": "markdown",
      "source": [
        "#Input()"
      ],
      "metadata": {
        "id": "-G5FbeCy_VOL"
      }
    },
    {
      "cell_type": "code",
      "source": [
        "#what is input()?\n",
        "#its a user defined varaible\n",
        "#it is a inbuilt function use to intake any kind of information from user and store it\n",
        "#what is the purpose of input()?\n",
        "#Multiple user valuable information or data intakes and low memory occupency\n",
        "#enchance python performance\n",
        "#How can we create input()?\n",
        "a = input()\n",
        "print(a)\n",
        "print(type(a))\n",
        "#what is the default data type for input()?\n",
        "#string\n",
        "#why the default dtpe for input() is string?\n",
        "\"\"\"We don't know what type of information can be taken from thhe user, so the\n",
        "class which accepts all the chracters is string.\n",
        "string is the only class which is having collection of multiple characters\"\"\""
      ],
      "metadata": {
        "colab": {
          "base_uri": "https://localhost:8080/"
        },
        "id": "7ORNaO89_X1W",
        "outputId": "4f5097fc-51b2-4635-cc97-1f99efaeeeea"
      },
      "execution_count": null,
      "outputs": [
        {
          "output_type": "stream",
          "name": "stdout",
          "text": [
            "2+5j\n",
            "2+5j\n",
            "<class 'str'>\n"
          ]
        }
      ]
    },
    {
      "cell_type": "markdown",
      "source": [
        "29-11-2024"
      ],
      "metadata": {
        "id": "We-l-d2aV1l5"
      }
    },
    {
      "cell_type": "code",
      "source": [
        "a = input(\"enter the number: \")\n",
        "b = input(\"enter the number: \")\n",
        "print(a+b)\n",
        "#Note :- adding of two strings is known as concatenation"
      ],
      "metadata": {
        "id": "Gb4NaQ7uV352"
      },
      "execution_count": null,
      "outputs": []
    },
    {
      "cell_type": "code",
      "source": [
        "#How can we apply the arthematic operations by using the input()'s?\n",
        "#we need to mention the numeric data type for input() function\n",
        "a = int(input(\"enter the number: \"))\n",
        "b = int(input(\"enter the number: \"))\n",
        "print(a+b)"
      ],
      "metadata": {
        "id": "uLJ6qePbWi8J"
      },
      "execution_count": null,
      "outputs": []
    },
    {
      "cell_type": "code",
      "source": [
        "s = input(\"enter your valid email: \")\n",
        "print(s)"
      ],
      "metadata": {
        "id": "C89wbu0-XHlL"
      },
      "execution_count": null,
      "outputs": []
    },
    {
      "cell_type": "markdown",
      "source": [
        "#strings"
      ],
      "metadata": {
        "id": "ULSwY35gYWUv"
      }
    },
    {
      "cell_type": "code",
      "source": [
        "#what is a string?\n",
        "#string is a collection of multiple characters which are declared inside (\" \")(' ')\n",
        "#any message that can be written inside the \" \" or ' ' is known as string"
      ],
      "metadata": {
        "id": "yFgSPKf6YY1s"
      },
      "execution_count": null,
      "outputs": []
    },
    {
      "cell_type": "code",
      "source": [
        "print('hello world!')"
      ],
      "metadata": {
        "colab": {
          "base_uri": "https://localhost:8080/"
        },
        "id": "W6COqs_EYzVR",
        "outputId": "21432be8-311b-4d22-e96a-842d47ad819b"
      },
      "execution_count": null,
      "outputs": [
        {
          "output_type": "stream",
          "name": "stdout",
          "text": [
            "hello world!\n"
          ]
        }
      ]
    },
    {
      "cell_type": "code",
      "source": [
        "#how many types of strings?\n",
        "#single line string---> ('') or (\" \")\n",
        "#multiline string---->(\"\"\" \"\"\") or (''' or ''')"
      ],
      "metadata": {
        "id": "9pcggevUZPHF"
      },
      "execution_count": null,
      "outputs": []
    },
    {
      "cell_type": "code",
      "source": [
        "#string is a collection of multiple characters where each character is accessible\n",
        "#how can we declare the string?\n",
        "#declared inside (\" \")(' ')"
      ],
      "metadata": {
        "id": "ld1qB1oCZs3t"
      },
      "execution_count": null,
      "outputs": []
    },
    {
      "cell_type": "code",
      "source": [
        "#How can we access the chracters inside the string?\n",
        "#By Using indexes and slicing operator we can access the chracters inside the string"
      ],
      "metadata": {
        "id": "s0x1S32WaF1a"
      },
      "execution_count": null,
      "outputs": []
    },
    {
      "cell_type": "code",
      "source": [
        "#what is index?\n",
        "#indexing means sequential postion number of each character in the string\n",
        "#the indexing can be starts from '0'"
      ],
      "metadata": {
        "id": "V90b2ycQa1V7"
      },
      "execution_count": null,
      "outputs": []
    },
    {
      "cell_type": "code",
      "source": [
        "#what is slicing ?\n",
        "#process of getting or accessing a substring from the mains tring\n",
        "#slicing ------> []\n",
        "#what is substring?\n",
        "#a part of string from main string\n",
        "#[index_position number]\n",
        "#i want to print 1st chracter from below string?\n",
        "h = \"Hello world!\"\n",
        "print(h[0])\n",
        "print(h[8])"
      ],
      "metadata": {
        "id": "n1i55cjPbWLU"
      },
      "execution_count": null,
      "outputs": []
    },
    {
      "cell_type": "code",
      "source": [
        "#print\"hello\" from the below string?\n",
        "a = \"Hello world!\"\n",
        "#[start:end]\n",
        "print(a[0:5]) #end is always n+1\n",
        "#Note:- slicing can be stop before the given end index position number\n",
        "print(a[3:8])"
      ],
      "metadata": {
        "id": "d1ejf8bheYOR"
      },
      "execution_count": null,
      "outputs": []
    },
    {
      "cell_type": "code",
      "source": [
        "#print the even index position characters from the below string?\n",
        "h = \"Hello world!\"\n",
        "#[start:end:step]\n",
        "print(h[0:12:2])"
      ],
      "metadata": {
        "colab": {
          "base_uri": "https://localhost:8080/"
        },
        "id": "0EumNGAgfkbU",
        "outputId": "3214b596-1210-4c50-e638-f93c6ba5b905"
      },
      "execution_count": null,
      "outputs": [
        {
          "output_type": "stream",
          "name": "stdout",
          "text": [
            "Hlowrd\n"
          ]
        }
      ]
    },
    {
      "cell_type": "code",
      "source": [
        "#How can we find the length of a string?\n",
        "#by using len()\n",
        "#in len() it starts with 1\n",
        "print(len(h))\n",
        "print(len(h)-1) #gives the last index"
      ],
      "metadata": {
        "id": "py2XvNUggBB5"
      },
      "execution_count": null,
      "outputs": []
    },
    {
      "cell_type": "markdown",
      "source": [
        "**negative indexing**"
      ],
      "metadata": {
        "id": "2h6S0HcdiNPU"
      }
    },
    {
      "cell_type": "code",
      "source": [
        "#what is Negative indexing?\n",
        "#accessing the string characters in reverse direction\n",
        "#-ve is starts with -1\n",
        "u = \"hello world!\"\n",
        "print(u[11])\n",
        "print(u[-1])"
      ],
      "metadata": {
        "id": "vOY4fsT0iKq6"
      },
      "execution_count": null,
      "outputs": []
    },
    {
      "cell_type": "code",
      "source": [
        "#print the world! in reverse direction\n",
        "#print(u[-1:-7:-1])\n",
        "print(u[-1:-7])"
      ],
      "metadata": {
        "id": "hOLPEcGvi46M",
        "colab": {
          "base_uri": "https://localhost:8080/"
        },
        "outputId": "41cd7902-4e99-441d-f75e-132067c27004"
      },
      "execution_count": null,
      "outputs": [
        {
          "output_type": "stream",
          "name": "stdout",
          "text": [
            "\n"
          ]
        }
      ]
    },
    {
      "cell_type": "code",
      "source": [
        "l = \"hello world!\"\n",
        "print(l[-7:-1])"
      ],
      "metadata": {
        "id": "AO2Taa9AjnRw"
      },
      "execution_count": null,
      "outputs": []
    },
    {
      "cell_type": "markdown",
      "source": [
        "default indexing"
      ],
      "metadata": {
        "id": "TU_5_7-wkc1k"
      }
    },
    {
      "cell_type": "code",
      "source": [
        "s = \"Hello world!\"\n",
        "print(s)\n",
        "print(s[:])\n",
        "#what is defalut position number of start and end when we use default indexing\n",
        "#[start is 0: end is len(string)]\n",
        "print(s[::])\n",
        "#[start is 0: end is len(string)]:step is 1]\n"
      ],
      "metadata": {
        "id": "tDcNm-55kkCn"
      },
      "execution_count": null,
      "outputs": []
    },
    {
      "cell_type": "code",
      "source": [
        "#malayalam\"\n",
        "k = input('enter your string: ')\n",
        "print(k[::-1])\n",
        "print(k[::2])"
      ],
      "metadata": {
        "id": "YJSoUofzlRO9"
      },
      "execution_count": null,
      "outputs": []
    },
    {
      "cell_type": "code",
      "source": [
        "#print(k[1::2][0:3]) #subslicing\n",
        "#el ol!\n",
        "print(k[1::2][-1:-3:-1])"
      ],
      "metadata": {
        "colab": {
          "base_uri": "https://localhost:8080/"
        },
        "id": "bXkPDmLdl8g3",
        "outputId": "c957465e-8f2a-4a29-f565-7838c22b2a91"
      },
      "execution_count": null,
      "outputs": [
        {
          "output_type": "stream",
          "name": "stdout",
          "text": [
            "!l\n"
          ]
        }
      ]
    },
    {
      "cell_type": "markdown",
      "source": [
        "30-11-2024\n"
      ],
      "metadata": {
        "id": "-imT8i__OH76"
      }
    },
    {
      "cell_type": "code",
      "source": [
        "s = \"Hello Team Good Morning!\"\n",
        "print(s[-1])\n",
        "#print the even characters from the above string\n",
        "# print(s[:])\n",
        "# print(s[0:len(s):1])\n",
        "print(s[::2])\n",
        "#print the odd characters\n",
        "print(s[1::2])"
      ],
      "metadata": {
        "colab": {
          "base_uri": "https://localhost:8080/"
        },
        "id": "EZEGIggiOPvi",
        "outputId": "8573851d-41e1-44ef-c39d-3d485217cf22"
      },
      "execution_count": null,
      "outputs": [
        {
          "output_type": "stream",
          "name": "stdout",
          "text": [
            "!\n",
            "HloTa odMrig\n",
            "el emGo onn!\n"
          ]
        }
      ]
    },
    {
      "cell_type": "code",
      "source": [
        "#check weather the given strings are palindrome or not\n",
        "#\"mom\", madam, hyderabad, malayalam, karnatak\n",
        "a = input()\n",
        "print(a[::-1])"
      ],
      "metadata": {
        "colab": {
          "base_uri": "https://localhost:8080/"
        },
        "id": "VMVEKLkNPiwh",
        "outputId": "1e72b8c9-a714-4d80-cfa9-c53ac6157f35"
      },
      "execution_count": null,
      "outputs": [
        {
          "output_type": "stream",
          "name": "stdout",
          "text": [
            "hyderabad\n",
            "dabaredyh\n"
          ]
        }
      ]
    },
    {
      "cell_type": "markdown",
      "source": [
        "**string methods**"
      ],
      "metadata": {
        "id": "YAA7MSz8SFsp"
      }
    },
    {
      "cell_type": "code",
      "source": [
        "#The methods that are applicable for string is known as string methods\n",
        "#how to find the methods that are applicable to string?\n",
        "#use dir() which returns what are all methods applicable for any object(like string,list,tuple..etc)"
      ],
      "metadata": {
        "id": "zRMhk6ToSIUp"
      },
      "execution_count": null,
      "outputs": []
    },
    {
      "cell_type": "code",
      "source": [
        "h = \"hello world!\"\n",
        "#use dir()\n",
        "print(dir(h))\n",
        "\"\"\"'capitalize', 'casefold', 'center', 'count', 'encode', 'endswith',\n",
        "'expandtabs', 'find', 'format', 'format_map', 'index', 'isalnum',\n",
        "'isalpha', 'isascii', 'isdecimal', 'isdigit', 'isidentifier', 'islower',\n",
        "'isnumeric', 'isprintable', 'isspace', 'istitle', 'isupper', 'join',\n",
        "'ljust', 'lower', 'lstrip', 'maketrans', 'partition', 'removeprefix',\n",
        "'removesuffix', 'replace', 'rfind', 'rindex', 'rjust', 'rpartition',\n",
        "'rsplit', 'rstrip', 'split', 'splitlines', 'startswith', 'strip',\n",
        "'swapcase', 'title', 'translate', 'upper', 'zfill' \"\"\""
      ],
      "metadata": {
        "colab": {
          "base_uri": "https://localhost:8080/"
        },
        "id": "duNfEE3vScA5",
        "outputId": "9171920e-9dfd-4db8-d52f-5175bb81a5c2"
      },
      "execution_count": null,
      "outputs": [
        {
          "output_type": "stream",
          "name": "stdout",
          "text": [
            "['__add__', '__class__', '__contains__', '__delattr__', '__dir__', '__doc__', '__eq__', '__format__', '__ge__', '__getattribute__', '__getitem__', '__getnewargs__', '__gt__', '__hash__', '__init__', '__init_subclass__', '__iter__', '__le__', '__len__', '__lt__', '__mod__', '__mul__', '__ne__', '__new__', '__reduce__', '__reduce_ex__', '__repr__', '__rmod__', '__rmul__', '__setattr__', '__sizeof__', '__str__', '__subclasshook__', 'capitalize', 'casefold', 'center', 'count', 'encode', 'endswith', 'expandtabs', 'find', 'format', 'format_map', 'index', 'isalnum', 'isalpha', 'isascii', 'isdecimal', 'isdigit', 'isidentifier', 'islower', 'isnumeric', 'isprintable', 'isspace', 'istitle', 'isupper', 'join', 'ljust', 'lower', 'lstrip', 'maketrans', 'partition', 'removeprefix', 'removesuffix', 'replace', 'rfind', 'rindex', 'rjust', 'rpartition', 'rsplit', 'rstrip', 'split', 'splitlines', 'startswith', 'strip', 'swapcase', 'title', 'translate', 'upper', 'zfill']\n"
          ]
        }
      ]
    },
    {
      "cell_type": "code",
      "source": [
        "#important methods\n",
        "#1. upper()\n",
        "#2. lower()\n",
        "#3. count()\n",
        "#4. replace()\n",
        "#5. swapcase()\n",
        "#6. strip()\n",
        "#7. lstrip()\n",
        "#8. rstrip()\n",
        "#9. capitalize()\n",
        "#10. title()\n",
        "#11. find()\n",
        "#12. index()"
      ],
      "metadata": {
        "id": "O5pPHH9JS-kG"
      },
      "execution_count": null,
      "outputs": []
    },
    {
      "cell_type": "code",
      "source": [
        "a = \"hello world!\"\n",
        "#how can we apply string methods?\n",
        "print(a.capitalize())\n",
        "print(a.lower())\n",
        "print(a.upper())"
      ],
      "metadata": {
        "colab": {
          "base_uri": "https://localhost:8080/"
        },
        "id": "Y34cGHXmTjx5",
        "outputId": "562cf55a-072c-4665-b39b-a0aed93f5285"
      },
      "execution_count": null,
      "outputs": [
        {
          "output_type": "stream",
          "name": "stdout",
          "text": [
            "Hello world!\n",
            "hello world!\n",
            "HELLO WORLD!\n"
          ]
        }
      ]
    },
    {
      "cell_type": "code",
      "source": [
        "h = \"  hello world!   \"\n",
        "print(h)\n",
        "print(h.strip()) #removes the unwanted spaces\n",
        "print(h.lstrip())\n",
        "print(h.rstrip())"
      ],
      "metadata": {
        "id": "XoCjGqcfT9P-"
      },
      "execution_count": null,
      "outputs": []
    },
    {
      "cell_type": "code",
      "source": [
        "u = \"hello world!\"\n",
        "#replace the above string \"world\" with universe\n",
        "print(u.replace(\"world\",\"universe\"))\n",
        "#replace(\"old_string\",\"newstring\")"
      ],
      "metadata": {
        "colab": {
          "base_uri": "https://localhost:8080/"
        },
        "id": "M4NSsgHrUjxK",
        "outputId": "529bc031-f99b-4508-8c6c-79a3f1f5c63b"
      },
      "execution_count": null,
      "outputs": [
        {
          "output_type": "stream",
          "name": "stdout",
          "text": [
            "hello universe!\n"
          ]
        }
      ]
    },
    {
      "cell_type": "code",
      "source": [
        "print(u.find(\"z\"))\n",
        "print(u.index('l'))"
      ],
      "metadata": {
        "colab": {
          "base_uri": "https://localhost:8080/"
        },
        "id": "Z0_-3RBjZn6y",
        "outputId": "f5dc558f-3e7e-4c9b-d51f-881551baec4c"
      },
      "execution_count": null,
      "outputs": [
        {
          "output_type": "stream",
          "name": "stdout",
          "text": [
            "-1\n",
            "2\n"
          ]
        }
      ]
    },
    {
      "cell_type": "code",
      "source": [
        "l = \"hello team good morning , team\"\n",
        "print(l.count('team'))\n",
        "#zfill()"
      ],
      "metadata": {
        "colab": {
          "base_uri": "https://localhost:8080/"
        },
        "id": "9UG_lYALaieQ",
        "outputId": "d96ff418-2759-4457-c80b-ce1439fef7c2"
      },
      "execution_count": null,
      "outputs": [
        {
          "output_type": "stream",
          "name": "stdout",
          "text": [
            "2\n"
          ]
        }
      ]
    },
    {
      "cell_type": "code",
      "source": [
        "z = \"hello\"\n",
        "print(z.zfill(6))"
      ],
      "metadata": {
        "colab": {
          "base_uri": "https://localhost:8080/"
        },
        "id": "ez0UU4wXeE5t",
        "outputId": "7472aacd-1d64-4098-af46-1d569630c184"
      },
      "execution_count": null,
      "outputs": [
        {
          "output_type": "stream",
          "name": "stdout",
          "text": [
            "0hello\n"
          ]
        }
      ]
    },
    {
      "cell_type": "markdown",
      "source": [
        "**string format methods**"
      ],
      "metadata": {
        "id": "d2F1Mp6_fIiD"
      }
    },
    {
      "cell_type": "code",
      "source": [
        "age = 10\n",
        "txt = f\"i am {age} years old\"\n",
        "print(txt,age)\n",
        "#string formatting means it takes an argument and place it over the placeholder {}\n"
      ],
      "metadata": {
        "colab": {
          "base_uri": "https://localhost:8080/"
        },
        "id": "jd_g0g-GfLri",
        "outputId": "3087ec38-854b-40ac-bb3b-4004f8e679d5"
      },
      "execution_count": null,
      "outputs": [
        {
          "output_type": "stream",
          "name": "stdout",
          "text": [
            "i am 10 years old 10\n"
          ]
        }
      ]
    },
    {
      "cell_type": "code",
      "source": [
        "name = \"product A\"\n",
        "quantity = 10\n",
        "price_each = 99.9\n",
        "notification = f\"your order for {name} has been confirmed with an quantity of {quantity} and total price {price_each*quantity}/-\"\n",
        "print(notification)"
      ],
      "metadata": {
        "colab": {
          "base_uri": "https://localhost:8080/"
        },
        "id": "a9SpS0hgf4DJ",
        "outputId": "ea7c32d8-4fbe-4bd1-adcb-f71317567961"
      },
      "execution_count": null,
      "outputs": [
        {
          "output_type": "stream",
          "name": "stdout",
          "text": [
            "your order for product A has been confirmed with an quantity of 10 and total price 999.0/-\n"
          ]
        }
      ]
    },
    {
      "cell_type": "markdown",
      "source": [
        "**escape characters**"
      ],
      "metadata": {
        "id": "4sgSjARyh2h3"
      }
    },
    {
      "cell_type": "code",
      "source": [
        "#EC is used to print the illegal characters in the string -->it is decalred in backward slash(\\) infront of illegal characters\n",
        "a = \"hi team \\\"good day\\\" hope you are doing well\"\n",
        "print(a)"
      ],
      "metadata": {
        "colab": {
          "base_uri": "https://localhost:8080/"
        },
        "id": "Tdc7kS23h5_S",
        "outputId": "5c9ca5f4-80bc-49cf-e91d-fcca9d0f3d45"
      },
      "execution_count": null,
      "outputs": [
        {
          "output_type": "stream",
          "name": "stdout",
          "text": [
            "hi team \"good day\" hope you are doing well\n"
          ]
        }
      ]
    },
    {
      "cell_type": "markdown",
      "source": [
        "**02-12-2024**"
      ],
      "metadata": {
        "id": "euPXDR54raKy"
      }
    },
    {
      "cell_type": "markdown",
      "source": [
        "**conditional statements**"
      ],
      "metadata": {
        "id": "O43IQJIErfI-"
      }
    },
    {
      "cell_type": "code",
      "source": [
        "#what is conditional statments? and why we are using conditional statements?\n",
        "#To check the condition is satisfied or not satisfied\n",
        "# to make decision in programming we use conditional statements\n",
        "#we are having 3 conditions\n",
        "#if-->elif--->else"
      ],
      "metadata": {
        "id": "O-aQJI1_regv"
      },
      "execution_count": null,
      "outputs": []
    },
    {
      "cell_type": "code",
      "source": [
        "#How can you make this conditions are satisfied or not satisfied\n",
        "#How can we check the conditions?\n",
        "#We are checking conditions based on \"comaprision operators\"\n",
        "#what is comparison operators and how many types?\n",
        "#comaprision operators also known as \"relational operators\"\n",
        "#there 6 types\n",
        "\"\"\" 1. equals too----> ==\n",
        "    2. not equals too ---> !=\n",
        "    3. greater than ----->   >\n",
        "    4. less than ---->  <\n",
        "    5. greater than or equals too-----> >=\n",
        "    6. less than or equals too ----->   =< \"\"\""
      ],
      "metadata": {
        "id": "NUihUGH0rrKB"
      },
      "execution_count": null,
      "outputs": []
    },
    {
      "cell_type": "code",
      "source": [
        "#wrote a program to check weather the student is pass or fail\n",
        "pass_marks = 40\n",
        "student_marks= int(input(\"enter your marks: \"))\n",
        "if student_marks >= pass_marks:\n",
        "  print(\"congratulation you are qualified\")\n",
        "else:\n",
        "  print(\"Btter luck next time\")"
      ],
      "metadata": {
        "id": "YgEaq18BtTcr"
      },
      "execution_count": null,
      "outputs": []
    },
    {
      "cell_type": "code",
      "source": [
        "#write a program to print weather the given number is +ve or negative if it is zero means print nuetral\n",
        "a = int(input(\"enter the number: \"))\n",
        "if a>0:\n",
        "  print(\"positive\")\n",
        "elif a == 0:\n",
        "  print(\"neutral\")\n",
        "else:\n",
        "  print(\"-ve\")\n"
      ],
      "metadata": {
        "id": "T4lk56k-wcNH"
      },
      "execution_count": null,
      "outputs": []
    },
    {
      "cell_type": "code",
      "source": [
        "#write a program to tecj wether the given number is even or odd?\n",
        "#if num is even print \"even\" or else print odd\n",
        "a = int(input(\"enter your number: \"))\n",
        "if a % 2 == 0:\n",
        "  print(\"even\")\n",
        "else:\n",
        "  print(\"odd\")"
      ],
      "metadata": {
        "id": "49gsqf7RxXWc",
        "colab": {
          "base_uri": "https://localhost:8080/"
        },
        "outputId": "ac0f151b-9f78-49e9-a5d8-e9ed15417548"
      },
      "execution_count": null,
      "outputs": [
        {
          "output_type": "stream",
          "name": "stdout",
          "text": [
            "enter your number: 345\n",
            "odd\n"
          ]
        }
      ]
    },
    {
      "cell_type": "code",
      "source": [
        "#check weather the given number is prime number or not?\n",
        "#a = int(input(\"enter your number: \"))\n",
        "\n",
        "#check weather the given string is palindrome or not\n",
        "#mom, malayalam,\n",
        "a = \"malayalam\"\n",
        "print(a[::-1])\n",
        "print(a[0:9:-1])"
      ],
      "metadata": {
        "colab": {
          "base_uri": "https://localhost:8080/"
        },
        "id": "l7ApX8mQxmIg",
        "outputId": "01d8c87e-127a-4586-c61b-1a1b24905087"
      },
      "execution_count": null,
      "outputs": [
        {
          "output_type": "stream",
          "name": "stdout",
          "text": [
            "malayalam\n",
            "\n"
          ]
        }
      ]
    },
    {
      "cell_type": "code",
      "source": [
        "print(round(7.25, -1))"
      ],
      "metadata": {
        "colab": {
          "base_uri": "https://localhost:8080/"
        },
        "id": "iikyogtcydRk",
        "outputId": "c4f3b712-9413-4c3d-e522-179bbfaac7da"
      },
      "execution_count": null,
      "outputs": [
        {
          "output_type": "stream",
          "name": "stdout",
          "text": [
            "10.0\n"
          ]
        }
      ]
    },
    {
      "cell_type": "markdown",
      "source": [
        "**03-12-2024**"
      ],
      "metadata": {
        "id": "oUkA1FXHrpR2"
      }
    },
    {
      "cell_type": "code",
      "source": [
        "#check weather the given string is palindrome or not irrespective of letter case\n",
        "print(\"a\" == \"A\")\n",
        "print(\"Hello\" == \"hello\")\n",
        "print(\"MoM\" == \"mom\")\n",
        "a  = input(\"enter your string: \")\n",
        "if a.lower() == a[::-1].lower():\n",
        "  print(\"yes palindrome\")\n",
        "else:\n",
        "  print(\"Not Palindrome\")"
      ],
      "metadata": {
        "id": "yX8NdNdSrzJr"
      },
      "execution_count": null,
      "outputs": []
    },
    {
      "cell_type": "markdown",
      "source": [
        "**Logical Operators**"
      ],
      "metadata": {
        "id": "7HsNNW9Ntymf"
      }
    },
    {
      "cell_type": "code",
      "source": [
        "#to check the multi0le conditions ata a time we need to use logical operators\n",
        "#There are 3 types of logical operators\n",
        "#1. and :- excutes the program when all the conditions are true\n",
        "#2.or :- executes the program if any one condition is satisfied or true\n",
        "#3. not :- it reverse your actual output\n",
        "print(1 == 1)\n",
        "print(not(1 == 1))"
      ],
      "metadata": {
        "colab": {
          "base_uri": "https://localhost:8080/"
        },
        "id": "JpFQwSRQt2RC",
        "outputId": "fbf7c5e1-0bf2-4c98-c62b-dd7805e32937"
      },
      "execution_count": null,
      "outputs": [
        {
          "output_type": "stream",
          "name": "stdout",
          "text": [
            "True\n",
            "False\n"
          ]
        }
      ]
    },
    {
      "cell_type": "code",
      "source": [
        "#1. and :- excutes the program when all the conditions are true\n",
        "a = 455\n",
        "b = 56\n",
        "c = 60\n",
        "d = 25\n",
        "#check that a is greater than c and b is greater than d and d is less than c\n",
        "#if these conditions are true or satisfied print all the conditions satisfoed else print no condition satisfied\n",
        "if a>c and b > d and d < c:\n",
        "  print(\"all the conditions satisfied\")\n",
        "else:\n",
        "  print(\"any one condition is not satisfied\")"
      ],
      "metadata": {
        "colab": {
          "base_uri": "https://localhost:8080/"
        },
        "id": "VyvabvNrutth",
        "outputId": "c48c17d0-33ec-478c-efe4-fede9ece6bf1"
      },
      "execution_count": null,
      "outputs": [
        {
          "output_type": "stream",
          "name": "stdout",
          "text": [
            "any one condition is not satisfied\n"
          ]
        }
      ]
    },
    {
      "cell_type": "code",
      "source": [
        "#2.or :- executes the program if any one condition is satisfied or true\n",
        "a = 455\n",
        "b = 56\n",
        "c = 60\n",
        "d = 25\n",
        "#from above data check if any one condition is satisfied execute the program\n",
        "#check a is less than b and b is less than c and c is greater than a and d is less than a\n",
        "if a<b or b<c or c >a or d<a:\n",
        "  print(\"true\")\n",
        "else:\n",
        "  print(\"false\")"
      ],
      "metadata": {
        "colab": {
          "base_uri": "https://localhost:8080/"
        },
        "id": "ljRym3gozOEc",
        "outputId": "9924d677-bb0b-4979-cc4d-c643e35e89bb"
      },
      "execution_count": null,
      "outputs": [
        {
          "output_type": "stream",
          "name": "stdout",
          "text": [
            "true\n"
          ]
        }
      ]
    },
    {
      "cell_type": "code",
      "source": [
        "a = 455\n",
        "b = 56\n",
        "c = 60\n",
        "d = 25\n",
        "#from above data check if any one condition is satisfied execute the program\n",
        "#check a is less than b and b is less than c and c is greater than a and d is less than a\n",
        "if a<b or b<c or c >a or d<a and a > 300:\n",
        "  print(\"true\")\n",
        "else:\n",
        "  print(\"false\")"
      ],
      "metadata": {
        "colab": {
          "base_uri": "https://localhost:8080/"
        },
        "id": "Gqr0WxAVz-0l",
        "outputId": "08b2e444-7553-4d32-8553-3c01fd674ea3"
      },
      "execution_count": null,
      "outputs": [
        {
          "output_type": "stream",
          "name": "stdout",
          "text": [
            "true\n"
          ]
        }
      ]
    },
    {
      "cell_type": "code",
      "source": [
        "#write a program to check weather the user is eligible for adventure ride or not\n",
        "#if the age is between 15 to 40 they are elgible for ride\n",
        "#below 15 is not elgible for ride\n",
        "#above 40 print please choose another ride\n",
        "a = int(input(\"enter your age \"))\n",
        "if a>=15 and a<=40:\n",
        "  print(\"eligible for ride\")\n",
        "elif a > 40:\n",
        "  print(\"choose another ride\")\n",
        "else:\n",
        "  print(\"not elgible for ride\")"
      ],
      "metadata": {
        "colab": {
          "base_uri": "https://localhost:8080/"
        },
        "id": "YDuJsfDQ0cAT",
        "outputId": "50a9d229-9a53-4837-e680-d68e1a02003b"
      },
      "execution_count": null,
      "outputs": [
        {
          "output_type": "stream",
          "name": "stdout",
          "text": [
            "enter your age 41\n",
            "choose another ride\n"
          ]
        }
      ]
    },
    {
      "cell_type": "markdown",
      "source": [
        "**Nested Condition**"
      ],
      "metadata": {
        "id": "-lYIVrDQ42aD"
      }
    },
    {
      "cell_type": "code",
      "source": [
        "#what is nested condition?\n",
        "#writing a condition inside the another condition is known as nested condition\n",
        "#why we require nested condition or when we have to use nested condition?\n",
        "#A condition can be executed if the previous step or condition is satisfied\n",
        "#if you want a series of outputs then we use Nested conditions\n",
        "a = 5\n",
        "#check if a is greater than 10,20,30,40,50,60\n",
        "#print( a is greater than 10)\n",
        "#print(a is greater than 20)\n",
        "#print(a is greater than 30)\n",
        "#print(a is less than 40)\n",
        "if a > 10:\n",
        "  print(\"a is greater than 10\")\n",
        "  if a> 20:\n",
        "    print(\"a is greater than 20\")\n",
        "    if a > 30:\n",
        "      print(\"a is greater than 30\")\n",
        "      if a > 40:\n",
        "        print(\"a is greater than 40\")\n",
        "      else:\n",
        "        print(\"a is less than 40\")\n",
        "    else:\n",
        "      print(\"a is less than 30\")\n",
        "  else:\n",
        "    print(\"a is less than 20\")\n",
        "else:\n",
        "  print(\"a is less than 10\")"
      ],
      "metadata": {
        "colab": {
          "base_uri": "https://localhost:8080/"
        },
        "id": "g7MtTiH145EY",
        "outputId": "d74561b1-1152-4e29-ea83-6447274dc093"
      },
      "execution_count": null,
      "outputs": [
        {
          "output_type": "stream",
          "name": "stdout",
          "text": [
            "a is less than 10\n"
          ]
        }
      ]
    },
    {
      "cell_type": "code",
      "source": [
        "#write a program Based on marks of the student print the grades\n",
        "#if the student is getting marks from 40 to 50 ----> print \"you have recived \"d\"grade\"\n",
        "#if the student is getting marks from 51 to 60 ----> print \"you have recived \"c\"grade\"\n",
        "#if the student is getting marks from 61 to 70 ----> print \"you have recived \"B\"grade\"\n",
        "#if the student is getting marks from 71 to 80 ----> print \"you have recived \"B+\"grade\"\n",
        "#if the studen is getting marks from 81 to 90 ----> print \"you have recived \"A\"grade\"\n",
        "#if the studen is getting marks from 91 to 100 ----> print \"you have recived \"A+\"grade\"\n",
        "#if the studen is getting marks Than 100 ----> print \"Don't be smart\"\n",
        "#write the code by using nested condition along with elif"
      ],
      "metadata": {
        "id": "UqxJ1a0Z9ms5"
      },
      "execution_count": null,
      "outputs": []
    },
    {
      "cell_type": "markdown",
      "source": [
        "**04-12-2024**"
      ],
      "metadata": {
        "id": "UV6_xjqLyinD"
      }
    },
    {
      "cell_type": "code",
      "source": [
        "#Loops\n",
        "#loops are defined as SET of instructions or set of rules\n",
        "#what is the purpose of loops?\n",
        "#The purpose of loops is to avoid the duplicate codes\n",
        "#loops encourages to write DRY codes and to avoid WET codes\n",
        "#How many types of codes?\n",
        "#2types\n",
        "#WET codes---> write everything twice\n",
        "#DRY Codes--> don't repeat yourself"
      ],
      "metadata": {
        "id": "NPLZ8JGYymz8"
      },
      "execution_count": null,
      "outputs": []
    },
    {
      "cell_type": "code",
      "source": [
        "#How many types ?\n",
        "#two types\n",
        "#While loop\n",
        "#for loop"
      ],
      "metadata": {
        "id": "vSOoLkE40kvB"
      },
      "execution_count": null,
      "outputs": []
    },
    {
      "cell_type": "markdown",
      "source": [
        "**While loop**"
      ],
      "metadata": {
        "id": "jbQwcprl1FyF"
      }
    },
    {
      "cell_type": "code",
      "source": [
        "#what is while loop?\n",
        "#while loop is a set of instructions, runs untile the condition remians true\n",
        "target = 5\n",
        "initial = 1\n",
        "while initial <= target:\n",
        "  print(\"go up\")\n",
        "  print(\"go down\")\n",
        "  print(\"=========rep completed=========\")\n",
        "  initial = initial + 1"
      ],
      "metadata": {
        "id": "_O50B-o-1H6a"
      },
      "execution_count": null,
      "outputs": []
    },
    {
      "cell_type": "code",
      "source": [
        "print(1 <= 5)\n",
        "print(2 <= 5)\n",
        "print(3 <= 5)\n",
        "print(4 <= 5)\n",
        "print(5 <= 5)\n",
        "print(6 <= 5)"
      ],
      "metadata": {
        "id": "0exqSiq12G_n"
      },
      "execution_count": null,
      "outputs": []
    },
    {
      "cell_type": "code",
      "source": [
        "#write a basic program to run a lift if the user is given 4 stop the lift at 4th floor\n",
        "user_input = int(input(\"enter floor number: \"))\n",
        "intial =  1\n",
        "while intial <= user_input:\n",
        "  print(f'you are at {intial} floor')\n",
        "  intial = intial + 1"
      ],
      "metadata": {
        "colab": {
          "base_uri": "https://localhost:8080/"
        },
        "id": "F-ZQJueC5EYo",
        "outputId": "53fab1bd-0828-4cd2-a826-fa2f4c0e6702"
      },
      "execution_count": null,
      "outputs": [
        {
          "output_type": "stream",
          "name": "stdout",
          "text": [
            "enter floor number: 10\n",
            "you are at 1 floor\n",
            "you are at 2 floor\n",
            "you are at 4 floor\n",
            "you are at 8 floor\n"
          ]
        }
      ]
    },
    {
      "cell_type": "code",
      "source": [
        "#\n",
        "a = [1,2,3,4,5,6,7,8,9]\n",
        "#print multiples of 2 in above list\n",
        "#[2,4,6,8,10,12,14,16,18]\n",
        "print(a*2)"
      ],
      "metadata": {
        "colab": {
          "base_uri": "https://localhost:8080/"
        },
        "id": "jhKXnT7F7qXI",
        "outputId": "d4789cca-511b-44cc-d1d1-61bcecf8f569"
      },
      "execution_count": null,
      "outputs": [
        {
          "output_type": "stream",
          "name": "stdout",
          "text": [
            "[1, 2, 3, 4, 5, 6, 7, 8, 9, 1, 2, 3, 4, 5, 6, 7, 8, 9]\n"
          ]
        }
      ]
    },
    {
      "cell_type": "markdown",
      "source": [
        "**for loop**\n",
        "\n",
        "-->Running a set of instruction over the collections"
      ],
      "metadata": {
        "id": "Zy13U65N8bEA"
      }
    },
    {
      "cell_type": "code",
      "source": [
        "a = [1,2,3,4,5,6,7,8,9]\n",
        "for i in a:            #i is known as iterator and process of iterationg is known as iterations\n",
        "    print(i*2, end=\",\")   #end act like a delimeter is n othing but special character seprating each item in dataset\n"
      ],
      "metadata": {
        "colab": {
          "base_uri": "https://localhost:8080/"
        },
        "id": "wtgCwxHd8jGt",
        "outputId": "b16950fc-c701-42ea-981d-fe5e5dfdd132"
      },
      "execution_count": null,
      "outputs": [
        {
          "output_type": "stream",
          "name": "stdout",
          "text": [
            "2,4,6,8,10,12,14,16,18,"
          ]
        }
      ]
    },
    {
      "cell_type": "code",
      "source": [
        "a,b,c = 10,20,30\n",
        "print(a,b,c, sep='\\n')"
      ],
      "metadata": {
        "id": "comem7VA9HoG"
      },
      "execution_count": null,
      "outputs": []
    },
    {
      "cell_type": "code",
      "source": [
        "a = [1,2,3,4,5,6,7,8,9]\n",
        "for i in a:\n",
        "  print(\"Hello world!\")"
      ],
      "metadata": {
        "id": "pAUoDuu--lQv"
      },
      "execution_count": null,
      "outputs": []
    },
    {
      "cell_type": "code",
      "source": [
        "#\n",
        "b = \"Hello\"\n",
        "for i in b:\n",
        "  print(b)\n"
      ],
      "metadata": {
        "id": "5HDB769h-5lJ"
      },
      "execution_count": null,
      "outputs": []
    },
    {
      "cell_type": "markdown",
      "source": [
        "**Break and Continue**"
      ],
      "metadata": {
        "id": "5T4nt_XxAB-P"
      }
    },
    {
      "cell_type": "code",
      "source": [
        "#Break:- it stops entire loop ireespective of items in the collections\n",
        "num = [1,2,3,4,5,6,7,8,9]\n",
        "for i in num:\n",
        "  print(i)\n",
        "  if i == 5:\n",
        "    break\n"
      ],
      "metadata": {
        "id": "nCmPjGGd_ssc"
      },
      "execution_count": null,
      "outputs": []
    },
    {
      "cell_type": "code",
      "source": [
        "#conitnue:- is used to skip the current iterations\n",
        "num = [1,2,3,4,5,6,7,8,9]\n",
        "for i in num:\n",
        "  #skip the 3, 6, 9 from above collection and print all\n",
        "  if i == 3 or i == 6 or i == 9:\n",
        "    continue\n",
        "  print(i,end=\" \")\n",
        "#Note:- we dob't have multiple breaks but we can skip multiple items at a time by using continue with 'or' operator"
      ],
      "metadata": {
        "colab": {
          "base_uri": "https://localhost:8080/"
        },
        "id": "pZ3FXj-UCLfm",
        "outputId": "a5feb59a-c971-492b-b8cb-2f3a95fffd26"
      },
      "execution_count": null,
      "outputs": [
        {
          "output_type": "stream",
          "name": "stdout",
          "text": [
            "1 2 4 5 7 8 "
          ]
        }
      ]
    },
    {
      "cell_type": "markdown",
      "source": [
        "**range()**"
      ],
      "metadata": {
        "id": "r4gE0DGGEexV"
      }
    },
    {
      "cell_type": "code",
      "source": [
        "#range(end_number)\n",
        "for i in range(11):\n",
        "  print(i, end=\" \")"
      ],
      "metadata": {
        "colab": {
          "base_uri": "https://localhost:8080/"
        },
        "id": "wB3pu5SpES6G",
        "outputId": "9982126b-81aa-437c-80c3-2f3737580138"
      },
      "execution_count": null,
      "outputs": [
        {
          "output_type": "stream",
          "name": "stdout",
          "text": [
            "0 1 2 3 4 5 6 7 8 9 10 "
          ]
        }
      ]
    },
    {
      "cell_type": "code",
      "source": [
        "#range(start, end)\n",
        "for i in range(1,5):\n",
        "  print(i)"
      ],
      "metadata": {
        "id": "Yy40dNkHE_-Z"
      },
      "execution_count": null,
      "outputs": []
    },
    {
      "cell_type": "code",
      "source": [
        "#range(start,end,step)\n",
        "for i in range(0,100,2):\n",
        "  print(i, end =\",\")"
      ],
      "metadata": {
        "colab": {
          "base_uri": "https://localhost:8080/"
        },
        "id": "W4qi2MzLFOPR",
        "outputId": "d6a70f67-390a-46b6-c0d4-862b9e9afbb2"
      },
      "execution_count": null,
      "outputs": [
        {
          "output_type": "stream",
          "name": "stdout",
          "text": [
            "0,2,4,6,8,10,12,14,16,18,20,22,24,26,28,30,32,34,36,38,40,42,44,46,48,50,52,54,56,58,60,62,64,66,68,70,72,74,76,78,80,82,84,86,88,90,92,94,96,98,"
          ]
        }
      ]
    },
    {
      "cell_type": "markdown",
      "source": [
        "**05-12-2024**"
      ],
      "metadata": {
        "id": "9YwImNLA_IX1"
      }
    },
    {
      "cell_type": "markdown",
      "source": [
        "#Collections"
      ],
      "metadata": {
        "id": "2Vnpc8C8_UuC"
      }
    },
    {
      "cell_type": "code",
      "source": [
        "#There are 4 types\n",
        "#1. List\n",
        "#2. Tuple\n",
        "#3. set\n",
        "#4. Dictionary"
      ],
      "metadata": {
        "id": "E3vlHrBM_MTY"
      },
      "execution_count": null,
      "outputs": []
    },
    {
      "cell_type": "code",
      "source": [
        "#There are two types of data in the collections\n",
        "#1. Heterogenous data:- it is a collection of multiple data items for ex:- int,float,complex,strings..etc\n",
        "#2. Homogenous Data:-  it is a collection of only one  data type. for ex:- either int, either float"
      ],
      "metadata": {
        "id": "J8HERoW4Bnam"
      },
      "execution_count": null,
      "outputs": []
    },
    {
      "cell_type": "markdown",
      "source": [
        "**List**"
      ],
      "metadata": {
        "id": "PVx69cxhBOrf"
      }
    },
    {
      "cell_type": "code",
      "source": [
        "#what is a list?\n",
        "#list can be decalred in --> []-->each element in list is separated by (,)\n",
        "#List is defined as---> ordered, Muttable, and allows duplicates"
      ],
      "metadata": {
        "id": "gUs0YeN5A8_4"
      },
      "execution_count": null,
      "outputs": []
    },
    {
      "cell_type": "markdown",
      "source": [
        "**List allows the duplicates**"
      ],
      "metadata": {
        "id": "IGP3_aRDCuCM"
      }
    },
    {
      "cell_type": "code",
      "source": [
        "#lets create a list\n",
        "l1 = [\"apple\",\"banana\",\"kiwi\",\"pineapple\",\"watermelon\",\"apple\",\"pineapple\"]\n",
        "print(l1)\n",
        "#what is the length of above list?\n",
        "print(len(l1))"
      ],
      "metadata": {
        "colab": {
          "base_uri": "https://localhost:8080/"
        },
        "id": "OFezpSeaCxJ8",
        "outputId": "ac931212-3ae4-4092-ff66-286016b7b4ac"
      },
      "execution_count": null,
      "outputs": [
        {
          "output_type": "stream",
          "name": "stdout",
          "text": [
            "['apple', 'banana', 'kiwi', 'pineapple', 'watermelon', 'apple', 'pineapple']\n",
            "7\n"
          ]
        }
      ]
    },
    {
      "cell_type": "markdown",
      "source": [
        "**List is ordered**"
      ],
      "metadata": {
        "id": "DVDab8J6De91"
      }
    },
    {
      "cell_type": "code",
      "source": [
        "#what is ordered?\n",
        "#elements or items in the collection is having a sequence of index position numbers\n",
        "l2 = [\"apple\",\"banana\",\"kiwi\",\"pineapple\",\"watermelon\",\"apple\",\"pineapple\"]\n",
        "#from the above list print \"kiwi\"\n",
        "#[index_position number]\n",
        "print(l2[2])"
      ],
      "metadata": {
        "colab": {
          "base_uri": "https://localhost:8080/"
        },
        "id": "yag3wePoDi7n",
        "outputId": "1d2b29ed-bef3-4629-f3d4-82ce0dd5ed40"
      },
      "execution_count": null,
      "outputs": [
        {
          "output_type": "stream",
          "name": "stdout",
          "text": [
            "kiwi\n"
          ]
        }
      ]
    },
    {
      "cell_type": "code",
      "source": [
        "#from above list print a range of items from banana to watermelon\n",
        "#[start_index:end_index] # end_index is always n+1\n",
        "print(l2[1:5])"
      ],
      "metadata": {
        "colab": {
          "base_uri": "https://localhost:8080/"
        },
        "id": "LY2NDO06EsTw",
        "outputId": "7e3afc5b-8f4a-49f5-ce79-3f210a33a63c"
      },
      "execution_count": null,
      "outputs": [
        {
          "output_type": "stream",
          "name": "stdout",
          "text": [
            "['banana', 'kiwi', 'pineapple', 'watermelon']\n"
          ]
        }
      ]
    },
    {
      "cell_type": "code",
      "source": [
        "#from above list i want even positional characters\n",
        "#[start:end:step]\n",
        "print(l2[0:7:2])\n",
        "#similaralr print the odd position characters\n",
        "print(l2[1:7:2])"
      ],
      "metadata": {
        "colab": {
          "base_uri": "https://localhost:8080/"
        },
        "id": "pj7H405SFIF5",
        "outputId": "c10a2ac1-56c1-4be2-9d8d-09d2a2a5d66b"
      },
      "execution_count": null,
      "outputs": [
        {
          "output_type": "stream",
          "name": "stdout",
          "text": [
            "['apple', 'kiwi', 'watermelon', 'pineapple']\n",
            "['banana', 'pineapple', 'apple']\n"
          ]
        }
      ]
    },
    {
      "cell_type": "markdown",
      "source": [
        "**Negative Indexing**"
      ],
      "metadata": {
        "id": "BGUkAzjqF1ni"
      }
    },
    {
      "cell_type": "code",
      "source": [
        "#whta is -ve Indexing?\n",
        "#accessing the elements from collection in reverse direction\n",
        "#Negative indexing starts from -1\n",
        "l3 = ['banana', 'kiwi', 'pineapple', 'watermelon']\n",
        "print(l3[3])\n",
        "print(l3[-1])"
      ],
      "metadata": {
        "id": "iKADGkrvF4jU"
      },
      "execution_count": null,
      "outputs": []
    },
    {
      "cell_type": "code",
      "source": [
        "#can we print the range of items by using negative indexing by giving start:end\n",
        "# print(l3[-1:-4])\n",
        "# print(l3[-1:-5:-1])\n",
        "print(l3[-4:-1])\n",
        "\"\"\"Note:- when we are using negative indexing if the index number is from left to\n",
        "right direction then we no need to define the step value as -1 other wise\n",
        "if we want to reeverse any collection from right to left  then in slicing we need\n",
        "to define step as -1\"\"\""
      ],
      "metadata": {
        "id": "H7gy1XlxGfct"
      },
      "execution_count": null,
      "outputs": []
    },
    {
      "cell_type": "markdown",
      "source": [
        "**Default Indexing**"
      ],
      "metadata": {
        "id": "mYVHtvgyqbYo"
      }
    },
    {
      "cell_type": "code",
      "source": [
        "#what is default indexing?\n",
        "#By default [start is 0: end is len(collection): step is 1]\n",
        "l4 = ['banana', 'kiwi', 'pineapple', 'watermelon']\n",
        "# print(l4[:])\n",
        "# print(l4[::])\n",
        "print(l4[::2])\n",
        "print(l4[1::2])\n",
        "print(l4[::-1])   #it reverse entire collections"
      ],
      "metadata": {
        "id": "lDtPnM-XIV5F"
      },
      "execution_count": null,
      "outputs": []
    },
    {
      "cell_type": "markdown",
      "source": [
        "**List is Muttable**\n",
        "\n",
        "Mutable means it follows three properities\n",
        "\n",
        "-- swapping or replace items from your collections\n",
        "\n",
        "-- Adding new items to the collection\n",
        "\n",
        "-- remove items from the collection\n",
        "\n"
      ],
      "metadata": {
        "id": "smP6uIDLNsBz"
      }
    },
    {
      "cell_type": "code",
      "source": [
        "\n",
        "# swapping or replace items from your list\n",
        "l5 = ['R','PYTHON','JAVA','C++','C']\n",
        "#replace the \"R\" with .net\n",
        "#Note:- By using the index position numbers we replace the items from the collection\n",
        "l5[0] = \".net\"\n",
        "print(l5)"
      ],
      "metadata": {
        "colab": {
          "base_uri": "https://localhost:8080/"
        },
        "id": "9G3uNgqIIzMH",
        "outputId": "f2a1dbd8-dc65-40c6-a046-8a77a5a42df4"
      },
      "execution_count": null,
      "outputs": [
        {
          "output_type": "stream",
          "name": "stdout",
          "text": [
            "['.net', 'PYTHON', 'JAVA', 'C++', 'C']\n"
          ]
        }
      ]
    },
    {
      "cell_type": "code",
      "source": [
        " #Additng new items to the existing list\n",
        "#in above l5 add \"css\" in the list\n",
        "print(dir(l5))\n",
        "\"\"\"'append', 'clear', 'copy', 'count', 'extend', 'index',\n",
        "'insert', 'pop', 'remove', 'reverse', 'sort'\"\"\""
      ],
      "metadata": {
        "colab": {
          "base_uri": "https://localhost:8080/"
        },
        "id": "LqodS3WXPLuA",
        "outputId": "e3151481-3628-4a58-f3e0-77aeb3a155cf"
      },
      "execution_count": null,
      "outputs": [
        {
          "output_type": "stream",
          "name": "stdout",
          "text": [
            "['__add__', '__class__', '__class_getitem__', '__contains__', '__delattr__', '__delitem__', '__dir__', '__doc__', '__eq__', '__format__', '__ge__', '__getattribute__', '__getitem__', '__gt__', '__hash__', '__iadd__', '__imul__', '__init__', '__init_subclass__', '__iter__', '__le__', '__len__', '__lt__', '__mul__', '__ne__', '__new__', '__reduce__', '__reduce_ex__', '__repr__', '__reversed__', '__rmul__', '__setattr__', '__setitem__', '__sizeof__', '__str__', '__subclasshook__', 'append', 'clear', 'copy', 'count', 'extend', 'index', 'insert', 'pop', 'remove', 'reverse', 'sort']\n"
          ]
        }
      ]
    },
    {
      "cell_type": "code",
      "source": [
        "#1st :- Append() by default it adds the items at the end of the list\n",
        "#what is the default index position ehrn you add items in list by using append()?\n",
        "l6 = ['.net', 'PYTHON', 'JAVA', 'C++', 'C']\n",
        "l6.append('css')\n",
        "print(l6)"
      ],
      "metadata": {
        "colab": {
          "base_uri": "https://localhost:8080/"
        },
        "id": "bStio0dIQRkR",
        "outputId": "dc6502eb-8391-4f73-c7f1-ed2c89f91716"
      },
      "execution_count": null,
      "outputs": [
        {
          "output_type": "stream",
          "name": "stdout",
          "text": [
            "['.net', 'PYTHON', 'JAVA', 'C++', 'C', 'css']\n"
          ]
        }
      ]
    },
    {
      "cell_type": "code",
      "source": [
        "#insert() :- it adds the items at particular index position?\n",
        "l6.insert(2,'javascript')\n",
        "l6"
      ],
      "metadata": {
        "colab": {
          "base_uri": "https://localhost:8080/"
        },
        "id": "In3eadkyQvJN",
        "outputId": "1cc8a901-4e7b-4d5f-bc34-6de0d43913b6"
      },
      "execution_count": null,
      "outputs": [
        {
          "output_type": "execute_result",
          "data": {
            "text/plain": [
              "['.net', 'PYTHON', 'javascript', 'JAVA', 'C++', 'C', 'css']"
            ]
          },
          "metadata": {},
          "execution_count": 26
        }
      ]
    },
    {
      "cell_type": "code",
      "source": [
        "st = 'Happy Christmas and Happy new year'\n",
        "\n",
        "\n",
        "x = st.rsplit(\"Happy\")  # Split by \"Happy\"\n",
        "\n",
        "print(x)"
      ],
      "metadata": {
        "colab": {
          "base_uri": "https://localhost:8080/"
        },
        "id": "fHAntwtOW10O",
        "outputId": "d949ff9c-92ea-44be-bd87-9a51a89b4c04"
      },
      "execution_count": null,
      "outputs": [
        {
          "output_type": "stream",
          "name": "stdout",
          "text": [
            "['', ' Christmas and ', ' new year']\n"
          ]
        }
      ]
    },
    {
      "cell_type": "code",
      "source": [
        "a = \"hello world and hello\"\n",
        "print(a.split())\n",
        "print(a.rsplit(\"hello\"))"
      ],
      "metadata": {
        "colab": {
          "base_uri": "https://localhost:8080/"
        },
        "id": "3MnkHLqVXdqg",
        "outputId": "626bd0b6-55fc-47f2-a0f7-52ffbb1d9d94"
      },
      "execution_count": null,
      "outputs": [
        {
          "output_type": "stream",
          "name": "stdout",
          "text": [
            "['hello', 'world', 'and', 'hello']\n",
            "['', ' world and ', '']\n"
          ]
        }
      ]
    },
    {
      "cell_type": "code",
      "source": [
        "count = 0\n",
        "for i in range(10):\n",
        "    for j in range(-1, -10, -1):\n",
        "         count += 1\n",
        "    print(count)"
      ],
      "metadata": {
        "id": "FWB6Y2w5X6h6"
      },
      "execution_count": null,
      "outputs": []
    },
    {
      "cell_type": "code",
      "source": [
        "i = 0\n",
        "while i < 5:\n",
        "    print(i)\n",
        "    # i += 1\n",
        "    # if i == 3:\n",
        "    #     break\n",
        "    # else:\n",
        "    #     i += 1"
      ],
      "metadata": {
        "id": "bxD3m6mRY2EW"
      },
      "execution_count": null,
      "outputs": []
    },
    {
      "cell_type": "code",
      "source": [
        "if __name__ == '__main__':\n"
      ],
      "metadata": {
        "colab": {
          "base_uri": "https://localhost:8080/"
        },
        "id": "53A2jUXDdU4Z",
        "outputId": "e78747c3-b713-4125-a218-217572e090f5"
      },
      "execution_count": null,
      "outputs": [
        {
          "output_type": "stream",
          "name": "stdout",
          "text": [
            "Hello, World!\n"
          ]
        }
      ]
    },
    {
      "cell_type": "code",
      "source": [
        "import keyword\n",
        "print(keyword.kwlist)"
      ],
      "metadata": {
        "colab": {
          "base_uri": "https://localhost:8080/"
        },
        "id": "ENKG1JWLniVh",
        "outputId": "b05b7be4-6b71-4058-a1ec-654dd7ce7696"
      },
      "execution_count": null,
      "outputs": [
        {
          "output_type": "stream",
          "name": "stdout",
          "text": [
            "['False', 'None', 'True', 'and', 'as', 'assert', 'async', 'await', 'break', 'class', 'continue', 'def', 'del', 'elif', 'else', 'except', 'finally', 'for', 'from', 'global', 'if', 'import', 'in', 'is', 'lambda', 'nonlocal', 'not', 'or', 'pass', 'raise', 'return', 'try', 'while', 'with', 'yield']\n"
          ]
        }
      ]
    },
    {
      "cell_type": "markdown",
      "source": [
        "**07-12-2024**"
      ],
      "metadata": {
        "id": "olCIyOaHOP1b"
      }
    },
    {
      "cell_type": "code",
      "source": [
        "#Adding new items to the existing list\n",
        "#what are all methods we can apply on specific object?\n",
        "l6 = ['R','PYTHON','JAVA','C++','C']\n",
        "print(dir(l6))\n",
        "#1.append():- by default i adds the items add the end of the list\n",
        "l6.append('CSS')\n",
        "l6\n",
        "#cab we add multiple items at a time by using the append function\n",
        "#we cannot add why because append() can takes only one argument\n",
        "l7 = [1,2,3,4,5]\n",
        "l6.append(l7)\n",
        "l6"
      ],
      "metadata": {
        "id": "QrDFk8YeOSnb"
      },
      "execution_count": null,
      "outputs": []
    },
    {
      "cell_type": "code",
      "source": [
        "#if i want to add the items at particular index position? what method we need to use?\n",
        "l8 = [1,2,3,4,6,7,8,9]\n",
        "#add the '5' at 4th index position\n",
        "l8.insert(4,5)\n",
        "l8\n",
        "#syntax:- insert(index_position, element)\n",
        "#can we insert multiple items at a time?\n",
        "#No we cannot why beacuse insert can take only two arguments one is index position and another one is element"
      ],
      "metadata": {
        "id": "FldvBHrvQTHR"
      },
      "execution_count": null,
      "outputs": []
    },
    {
      "cell_type": "code",
      "source": [
        "#How can we add the multiple items to the exisiting list?\n",
        "# use 'extend()' adds the multiple items from any collection to the existing list\n",
        "l9 = ['R', 'PYTHON', 'JAVA', 'C++', 'C', 'CSS']\n",
        "l10 = ['apple','banana','pineapple']\n",
        "#add the l10 in to l9\n",
        "l9.extend(l10)\n",
        "print(l9)\n",
        "#what is default index position when you use the extend()?\n",
        "#the items are adding at the end of the existing list\n"
      ],
      "metadata": {
        "colab": {
          "base_uri": "https://localhost:8080/"
        },
        "id": "B2dOG5-vRUM8",
        "outputId": "f7988fff-4f40-44c3-8b76-369ac38042c8"
      },
      "execution_count": null,
      "outputs": [
        {
          "output_type": "stream",
          "name": "stdout",
          "text": [
            "['R', 'PYTHON', 'JAVA', 'C++', 'C', 'CSS', 'apple', 'banana', 'pineapple']\n"
          ]
        }
      ]
    },
    {
      "cell_type": "markdown",
      "source": [
        "**Remove the Items from the list**\n"
      ],
      "metadata": {
        "id": "hJ66s-mAWGlg"
      }
    },
    {
      "cell_type": "code",
      "source": [
        "#1. Pop() is used remove the items from the list and by default it removes last item of the list\n",
        "l11 = ['R', 'PYTHON', 'JAVA', 'C++', 'C', 'CSS', 'apple', 'banana', 'pineapple']\n",
        "l11.pop()"
      ],
      "metadata": {
        "colab": {
          "base_uri": "https://localhost:8080/",
          "height": 35
        },
        "id": "bcC3WlevWM8K",
        "outputId": "edbd0afa-fbfe-4d43-b166-6542958023e5"
      },
      "execution_count": null,
      "outputs": [
        {
          "output_type": "execute_result",
          "data": {
            "text/plain": [
              "'pineapple'"
            ],
            "application/vnd.google.colaboratory.intrinsic+json": {
              "type": "string"
            }
          },
          "metadata": {},
          "execution_count": 9
        }
      ]
    },
    {
      "cell_type": "code",
      "source": [
        "# print(l11)\n",
        "l11.pop(-1)"
      ],
      "metadata": {
        "colab": {
          "base_uri": "https://localhost:8080/",
          "height": 35
        },
        "id": "D0583Z4xWhHa",
        "outputId": "ed644a4e-6475-493c-8e01-e654ad8be3a8"
      },
      "execution_count": null,
      "outputs": [
        {
          "output_type": "execute_result",
          "data": {
            "text/plain": [
              "'banana'"
            ],
            "application/vnd.google.colaboratory.intrinsic+json": {
              "type": "string"
            }
          },
          "metadata": {},
          "execution_count": 11
        }
      ]
    },
    {
      "cell_type": "code",
      "source": [
        "#Note:- pop(index_position_num) to remove the particular item and by default it removes last item of the list\n",
        "l11.remove() #we need to give atleast one argument"
      ],
      "metadata": {
        "id": "-kutejhgWuGI"
      },
      "execution_count": null,
      "outputs": []
    },
    {
      "cell_type": "code",
      "source": [
        "#2. remove() is used to remove the pecific item, So remove(item_name) id doesn't take index position\n",
        "#from above list remove the \"R\" Language\n",
        "l11.remove('R')\n",
        "print(l11)\n",
        "#Note:- we cannot remove the multiple items at a time by using remove() method"
      ],
      "metadata": {
        "colab": {
          "base_uri": "https://localhost:8080/"
        },
        "id": "-fRML4EvW8eO",
        "outputId": "ab63ec41-de00-4470-82d6-32966f312d0d"
      },
      "execution_count": null,
      "outputs": [
        {
          "output_type": "stream",
          "name": "stdout",
          "text": [
            "['PYTHON', 'JAVA', 'C++', 'C', 'CSS', 'apple']\n"
          ]
        }
      ]
    },
    {
      "cell_type": "code",
      "source": [
        "#3.How can we remove multiple items from the list?\n",
        "#  del collection_name[start:end:step]   by usine delete method\n",
        "del l11[1:4]\n",
        "l11"
      ],
      "metadata": {
        "colab": {
          "base_uri": "https://localhost:8080/"
        },
        "id": "ORAUnQFDXz38",
        "outputId": "e5a4519b-95e5-43bb-cc88-c40b3e83d247"
      },
      "execution_count": null,
      "outputs": [
        {
          "output_type": "execute_result",
          "data": {
            "text/plain": [
              "['PYTHON', 'CSS', 'apple']"
            ]
          },
          "metadata": {},
          "execution_count": 14
        }
      ]
    },
    {
      "cell_type": "code",
      "source": [
        "#4. i want to remove only items from the list\n",
        "l12 = ['PYTHON', 'JAVA', 'C++', 'C', 'CSS', 'apple']\n",
        "#use the  clear() to remove all the items from the list and print the empty list\n",
        "#can we use del to remove entire items from the list---> yes we can use del method with slicing operator\n",
        "\n",
        "l12.clear()\n",
        "print(l12)"
      ],
      "metadata": {
        "colab": {
          "base_uri": "https://localhost:8080/"
        },
        "id": "havNm85-YSaV",
        "outputId": "7f5becec-6c78-4a8f-a8d8-76d044e635db"
      },
      "execution_count": null,
      "outputs": [
        {
          "output_type": "stream",
          "name": "stdout",
          "text": [
            "[]\n"
          ]
        }
      ]
    },
    {
      "cell_type": "code",
      "source": [
        "#5. how can we delete the entire list\n",
        "# use \"del collection_name\"\n",
        "del l12\n",
        "print(l12)"
      ],
      "metadata": {
        "id": "vo2QddcxZH6B"
      },
      "execution_count": null,
      "outputs": []
    },
    {
      "cell_type": "markdown",
      "source": [
        "**Tuple**"
      ],
      "metadata": {
        "id": "xsDEFhK-cu4w"
      }
    },
    {
      "cell_type": "code",
      "source": [
        "#what is a tuple  and how to create this tuple?\n",
        "#Tuple is decalred in ()\n",
        "#Tuple is Ordered, Immutable, and allows the duplicates"
      ],
      "metadata": {
        "id": "GI1YnxGMcwyt"
      },
      "execution_count": null,
      "outputs": []
    },
    {
      "cell_type": "markdown",
      "source": [
        "**tuples allows the duplicates**"
      ],
      "metadata": {
        "id": "g17QjYovdG8-"
      }
    },
    {
      "cell_type": "code",
      "source": [
        "t1 = ('apple','bananan','mango','apple','apple','pineapple')\n",
        "print(len(t1))\n",
        "print(type(t1))\n",
        "print(t1)"
      ],
      "metadata": {
        "colab": {
          "base_uri": "https://localhost:8080/"
        },
        "id": "PYaPePs7dJFs",
        "outputId": "4f22200a-4e9a-4ec8-a42a-6066bf5d19bf"
      },
      "execution_count": null,
      "outputs": [
        {
          "output_type": "stream",
          "name": "stdout",
          "text": [
            "6\n",
            "<class 'tuple'>\n",
            "('apple', 'bananan', 'mango', 'apple', 'apple', 'pineapple')\n"
          ]
        }
      ]
    },
    {
      "cell_type": "markdown",
      "source": [
        "**Tuples are ordered**"
      ],
      "metadata": {
        "id": "31_bi0oGdn5m"
      }
    },
    {
      "cell_type": "code",
      "source": [
        "#In tuples the items are in sequence of index position number\n",
        "#By using index_position number we can access the items from the tuple\n",
        "print(t1[2])\n",
        "print(t1[1:5])\n",
        "#reverse the entire tuple\n",
        "print(t1[::-1])"
      ],
      "metadata": {
        "colab": {
          "base_uri": "https://localhost:8080/"
        },
        "id": "hjrQjkAwdiFU",
        "outputId": "d0772156-1159-4cf3-f9ee-ff7a8b2d6377"
      },
      "execution_count": null,
      "outputs": [
        {
          "output_type": "stream",
          "name": "stdout",
          "text": [
            "mango\n",
            "('bananan', 'mango', 'apple', 'apple')\n",
            "('pineapple', 'apple', 'apple', 'mango', 'bananan', 'apple')\n"
          ]
        }
      ]
    },
    {
      "cell_type": "markdown",
      "source": [
        "**Tuple is Immutable**"
      ],
      "metadata": {
        "id": "xVWfpj7eeQJh"
      }
    },
    {
      "cell_type": "code",
      "source": [
        "#we cannot replace, add and remove the items from tuple\n",
        "print(dir(t1))"
      ],
      "metadata": {
        "colab": {
          "base_uri": "https://localhost:8080/"
        },
        "id": "CDKZoj35eSsX",
        "outputId": "84556ce0-f866-4c41-8d59-b550b0da01c4"
      },
      "execution_count": null,
      "outputs": [
        {
          "output_type": "stream",
          "name": "stdout",
          "text": [
            "['__add__', '__class__', '__class_getitem__', '__contains__', '__delattr__', '__dir__', '__doc__', '__eq__', '__format__', '__ge__', '__getattribute__', '__getitem__', '__getnewargs__', '__gt__', '__hash__', '__init__', '__init_subclass__', '__iter__', '__le__', '__len__', '__lt__', '__mul__', '__ne__', '__new__', '__reduce__', '__reduce_ex__', '__repr__', '__rmul__', '__setattr__', '__sizeof__', '__str__', '__subclasshook__', 'count', 'index']\n"
          ]
        }
      ]
    },
    {
      "cell_type": "code",
      "source": [
        "t1[4] = \"watermelon\"\n",
        "print(t1)"
      ],
      "metadata": {
        "id": "y1NoVyR9efZt"
      },
      "execution_count": null,
      "outputs": []
    },
    {
      "cell_type": "code",
      "source": [
        "#How can we replace or add the items from the tuple\n",
        "# we need to convert the tuple into list\n",
        "t_l = list(t1)\n",
        "print(t_l)"
      ],
      "metadata": {
        "colab": {
          "base_uri": "https://localhost:8080/"
        },
        "id": "1RJemPmdeqIW",
        "outputId": "e4bda614-a307-4828-fd48-22eb3d69bf34"
      },
      "execution_count": null,
      "outputs": [
        {
          "output_type": "stream",
          "name": "stdout",
          "text": [
            "['apple', 'bananan', 'mango', 'apple', 'apple', 'pineapple']\n"
          ]
        }
      ]
    },
    {
      "cell_type": "code",
      "source": [
        "l_t = tuple(t_l)\n",
        "print(l_t)"
      ],
      "metadata": {
        "colab": {
          "base_uri": "https://localhost:8080/"
        },
        "id": "zw86XU6afGd6",
        "outputId": "3df455ee-7074-4ddc-b801-5cec327d4e12"
      },
      "execution_count": null,
      "outputs": [
        {
          "output_type": "stream",
          "name": "stdout",
          "text": [
            "('apple', 'bananan', 'mango', 'apple', 'apple', 'pineapple')\n"
          ]
        }
      ]
    },
    {
      "cell_type": "code",
      "source": [
        "#Tuples are faster than the list beacuse tuples are immutable means tuples are having fixed memory size\n",
        "#When we need to use tuple and list?\n",
        "#Tuple are used to store valuable information where we won't do any changes to that data\n",
        "#List is used when we need to manipulate the data"
      ],
      "metadata": {
        "id": "ObdMm8NNfP6V"
      },
      "execution_count": null,
      "outputs": []
    },
    {
      "cell_type": "markdown",
      "source": [
        "**09-12-2024**"
      ],
      "metadata": {
        "id": "TM3T9Fm1hiJm"
      }
    },
    {
      "cell_type": "markdown",
      "source": [
        "**SET**"
      ],
      "metadata": {
        "id": "VwkbuT9Qhu3D"
      }
    },
    {
      "cell_type": "code",
      "source": [
        "#What is a set and how can we define a set?\n",
        "#set can be decalred in ---> {}\n",
        "#set are defined as ---> unordered, immutable, and won't allow the duplicates"
      ],
      "metadata": {
        "id": "6aiUTBMFhuQK"
      },
      "execution_count": null,
      "outputs": []
    },
    {
      "cell_type": "markdown",
      "source": [
        "**set won't allow the duplicates**"
      ],
      "metadata": {
        "id": "sk7_VLhniwZ9"
      }
    },
    {
      "cell_type": "code",
      "source": [
        "s1 = {1,2,3,4,5,2,3,4,5,9}\n",
        "#what is the length of the above set?\n",
        "print(len(s1))\n",
        "print(s1)"
      ],
      "metadata": {
        "colab": {
          "base_uri": "https://localhost:8080/"
        },
        "id": "lYoVrWZyiz9g",
        "outputId": "9bca793e-2661-4fc2-f59a-77a11b7e5f0e"
      },
      "execution_count": null,
      "outputs": [
        {
          "output_type": "stream",
          "name": "stdout",
          "text": [
            "6\n",
            "{1, 2, 3, 4, 5, 9}\n"
          ]
        }
      ]
    },
    {
      "cell_type": "markdown",
      "source": [
        "**set is unordered**"
      ],
      "metadata": {
        "id": "j4ukg2dqjS_V"
      }
    },
    {
      "cell_type": "code",
      "source": [
        "#what is unordered?\n",
        "#unordered means the elements in the set doesn't have index position numbers\n",
        "s2={\"apple\",\"banana\",\"pineapple\",\"apple\",\"watermelon\"}\n",
        "#print the \"pineapple\" from the above set.\n",
        "print(s2[2])   #'set' object is not subscriptable bcz set doesn't have index position number\n"
      ],
      "metadata": {
        "id": "pomYCgp9jWJ0"
      },
      "execution_count": null,
      "outputs": []
    },
    {
      "cell_type": "markdown",
      "source": [
        "**set is immutable**"
      ],
      "metadata": {
        "id": "IV2K94_1kRQV"
      }
    },
    {
      "cell_type": "code",
      "source": [
        "#In sets we can add the items and we can remove the items but we cannot replace the elements in the set\n",
        "s2={\"apple\",\"banana\",\"pineapple\",\"apple\",\"watermelon\"}\n",
        "s2[3] = \"muskmelon\"\n",
        "print(s2)  #'set' object does not support item assignment\n"
      ],
      "metadata": {
        "id": "tklo4q3gj9uF"
      },
      "execution_count": null,
      "outputs": []
    },
    {
      "cell_type": "markdown",
      "source": [
        "**Add items in the set**"
      ],
      "metadata": {
        "id": "SjD3GHqLnQtk"
      }
    },
    {
      "cell_type": "code",
      "source": [
        "#add()\n",
        "#add \"muskmealon\" in the s2\n",
        "s2.add('muskmealon')\n",
        "print(s2)"
      ],
      "metadata": {
        "colab": {
          "base_uri": "https://localhost:8080/"
        },
        "id": "fkcI8dEXnOxU",
        "outputId": "b80aed72-6e2d-4e40-e57a-c2ee966e85e9"
      },
      "execution_count": null,
      "outputs": [
        {
          "output_type": "stream",
          "name": "stdout",
          "text": [
            "{'apple', 'muskmealon', 'pineapple', 'banana', 'watermelon'}\n"
          ]
        }
      ]
    },
    {
      "cell_type": "code",
      "source": [
        "#can we insert a element at particular index position?\n",
        "#No"
      ],
      "metadata": {
        "id": "2TWbqbPTnv5N"
      },
      "execution_count": null,
      "outputs": []
    },
    {
      "cell_type": "code",
      "source": [
        "print(dir(s2))"
      ],
      "metadata": {
        "colab": {
          "base_uri": "https://localhost:8080/"
        },
        "id": "acaVs-VunkQ9",
        "outputId": "ce570240-8b8c-4134-a5f2-a52df65641ca"
      },
      "execution_count": null,
      "outputs": [
        {
          "output_type": "stream",
          "name": "stdout",
          "text": [
            "['__and__', '__class__', '__class_getitem__', '__contains__', '__delattr__', '__dir__', '__doc__', '__eq__', '__format__', '__ge__', '__getattribute__', '__gt__', '__hash__', '__iand__', '__init__', '__init_subclass__', '__ior__', '__isub__', '__iter__', '__ixor__', '__le__', '__len__', '__lt__', '__ne__', '__new__', '__or__', '__rand__', '__reduce__', '__reduce_ex__', '__repr__', '__ror__', '__rsub__', '__rxor__', '__setattr__', '__sizeof__', '__str__', '__sub__', '__subclasshook__', '__xor__', 'add', 'clear', 'copy', 'difference', 'difference_update', 'discard', 'intersection', 'intersection_update', 'isdisjoint', 'issubset', 'issuperset', 'pop', 'remove', 'symmetric_difference', 'symmetric_difference_update', 'union', 'update']\n"
          ]
        }
      ]
    },
    {
      "cell_type": "code",
      "source": [
        "#How can we add the multiple items into set at a time?\n",
        "# By Using the \"update()\" we can add multiple items in to set\n",
        "l1 = [1,2,3,4,5,6]\n",
        "s3= {'apple', 'muskmealon', 'pineapple', 'banana', 'watermelon'}\n",
        "s3.update(l1)\n",
        "print(s3)"
      ],
      "metadata": {
        "colab": {
          "base_uri": "https://localhost:8080/"
        },
        "id": "zZFj3TIwn_P8",
        "outputId": "4f6e129d-c250-4fde-ffc1-ea9cd6a92c60"
      },
      "execution_count": null,
      "outputs": [
        {
          "output_type": "stream",
          "name": "stdout",
          "text": [
            "{1, 2, 3, 4, 5, 6, 'watermelon', 'apple', 'muskmealon', 'pineapple', 'banana'}\n"
          ]
        }
      ]
    },
    {
      "cell_type": "markdown",
      "source": [
        "**remove the items from the set**"
      ],
      "metadata": {
        "id": "CM5ve3BynOFj"
      }
    },
    {
      "cell_type": "code",
      "source": [
        "#pop() this method is not preferable in sets\n",
        "s4= {1, 2, 3, 4, 5, 6, 'watermelon', 'apple', 'muskmealon', 'pineapple', 'banana'}\n",
        "s4.pop()\n",
        "print(s4)"
      ],
      "metadata": {
        "colab": {
          "base_uri": "https://localhost:8080/"
        },
        "id": "T7SotXgNoqU6",
        "outputId": "255cbd32-5440-4b2d-e845-b5934e40229e"
      },
      "execution_count": null,
      "outputs": [
        {
          "output_type": "stream",
          "name": "stdout",
          "text": [
            "{2, 3, 4, 5, 6, 'apple', 'muskmealon', 'pineapple', 'banana', 'watermelon'}\n"
          ]
        }
      ]
    },
    {
      "cell_type": "code",
      "source": [
        "s4.pop()"
      ],
      "metadata": {
        "id": "ZkkkPg5mo77F"
      },
      "execution_count": null,
      "outputs": []
    },
    {
      "cell_type": "code",
      "source": [
        "#remove('item_name')\n",
        "s4.remove('muskmealon')\n",
        "print(s4)"
      ],
      "metadata": {
        "colab": {
          "base_uri": "https://localhost:8080/"
        },
        "id": "bnzQF-TzpC1G",
        "outputId": "2d279daf-caa4-43c9-a121-9e7a3da40772"
      },
      "execution_count": null,
      "outputs": [
        {
          "output_type": "stream",
          "name": "stdout",
          "text": [
            "{3, 4, 5, 6, 'apple', 'pineapple', 'banana', 'watermelon'}\n"
          ]
        }
      ]
    },
    {
      "cell_type": "code",
      "source": [
        "#discard('item_name')\n",
        "s4.discard('banana')\n",
        "print(s4)"
      ],
      "metadata": {
        "colab": {
          "base_uri": "https://localhost:8080/"
        },
        "id": "2ylmYz9opN5i",
        "outputId": "6cae019a-64f5-4626-ed42-df81928b3ce8"
      },
      "execution_count": null,
      "outputs": [
        {
          "output_type": "stream",
          "name": "stdout",
          "text": [
            "{3, 4, 5, 6, 'apple', 'pineapple', 'watermelon'}\n"
          ]
        }
      ]
    },
    {
      "cell_type": "code",
      "source": [
        "#what is the difference between remove and discard?\n",
        "\"\"\"when we use \"remove()\" if the items exist in set then it wont rise an error,other wise itthroughs an error\n",
        "when we use \"discard\" even if the item exist or not it won't show an error\"\"\"\n",
        "\n",
        "s4.remove('banana')\n",
        "print(s4)"
      ],
      "metadata": {
        "id": "5_Dybb5Spa3J"
      },
      "execution_count": null,
      "outputs": []
    },
    {
      "cell_type": "code",
      "source": [
        "s4.discard('banana')\n",
        "print(s4)"
      ],
      "metadata": {
        "colab": {
          "base_uri": "https://localhost:8080/"
        },
        "id": "PhDRDbbvprEL",
        "outputId": "37fbff91-ec0b-47d9-d13d-6f70677f8fb3"
      },
      "execution_count": null,
      "outputs": [
        {
          "output_type": "stream",
          "name": "stdout",
          "text": [
            "{3, 4, 5, 6, 'apple', 'pineapple', 'watermelon'}\n"
          ]
        }
      ]
    },
    {
      "cell_type": "code",
      "source": [
        "#Note:-we cannot delete multiple items at a time in set.\n",
        "#clear()\n",
        "s4.clear()\n",
        "print(s4)"
      ],
      "metadata": {
        "colab": {
          "base_uri": "https://localhost:8080/"
        },
        "id": "8gCwCv_AqW-7",
        "outputId": "f0cf0e7c-9c97-4ca4-8811-770a410ac87f"
      },
      "execution_count": null,
      "outputs": [
        {
          "output_type": "stream",
          "name": "stdout",
          "text": [
            "set()\n"
          ]
        }
      ]
    },
    {
      "cell_type": "code",
      "source": [
        "del s4\n",
        "print(s4)"
      ],
      "metadata": {
        "id": "7mZkn0WkqlyB"
      },
      "execution_count": null,
      "outputs": []
    },
    {
      "cell_type": "code",
      "source": [
        "#why sets are faster then the list and tuple?\n",
        "#Bcz set is unordered and immutable\n",
        "#set are used in matrix operations"
      ],
      "metadata": {
        "id": "FEizQSV6qs7m"
      },
      "execution_count": null,
      "outputs": []
    },
    {
      "cell_type": "code",
      "source": [
        "s1 = {'a','b','c','d'}\n",
        "s2 = {'d','e','f','g'}\n",
        "s = s1.union(s2)\n",
        "print(s)"
      ],
      "metadata": {
        "colab": {
          "base_uri": "https://localhost:8080/"
        },
        "id": "xRwlKVIbq-Qj",
        "outputId": "871c11d6-7162-476e-914e-6912134dcbdf"
      },
      "execution_count": null,
      "outputs": [
        {
          "output_type": "stream",
          "name": "stdout",
          "text": [
            "{'a', 'f', 'e', 'd', 'b', 'c', 'g'}\n"
          ]
        }
      ]
    },
    {
      "cell_type": "code",
      "source": [
        "#print the common data elements from 2 sets\n",
        "s = s1.intersection(s2)\n",
        "print(s)"
      ],
      "metadata": {
        "colab": {
          "base_uri": "https://localhost:8080/"
        },
        "id": "N_46Urqqrf3I",
        "outputId": "f7746608-7d44-47f5-d50d-88b00ea47490"
      },
      "execution_count": null,
      "outputs": [
        {
          "output_type": "stream",
          "name": "stdout",
          "text": [
            "{'d'}\n"
          ]
        }
      ]
    },
    {
      "cell_type": "markdown",
      "source": [
        "**Dictionary**"
      ],
      "metadata": {
        "id": "Xry8Jw0hufun"
      }
    },
    {
      "cell_type": "code",
      "source": [
        "#what is doctionary? or How can you define an dictionarey\n",
        "#dictionary ---> {}\n",
        "#dictinary is defined as unordered, muttable, it wont allow the duplicates\n",
        "#How can we store items in the dictionary?\n",
        "# Key: value pair\n"
      ],
      "metadata": {
        "id": "4HP1_3ZkuiDn"
      },
      "execution_count": null,
      "outputs": []
    },
    {
      "cell_type": "markdown",
      "source": [
        "**dictionary wont allow the duplicates**"
      ],
      "metadata": {
        "id": "2GhMbAVgu_oo"
      }
    },
    {
      "cell_type": "code",
      "source": [
        "d1 = {\n",
        "    'Name':'shahul',\n",
        "    'education': 'Ms',\n",
        "    'occupation': 'DS',\n",
        "    'education':'B.Tech'\n",
        "}\n",
        "print(len(d1))\n",
        "print(d1)"
      ],
      "metadata": {
        "colab": {
          "base_uri": "https://localhost:8080/"
        },
        "id": "66hXo9OFvEa6",
        "outputId": "eaeb3c5a-c5fc-4728-fe3e-d84277a5355d"
      },
      "execution_count": null,
      "outputs": [
        {
          "output_type": "stream",
          "name": "stdout",
          "text": [
            "3\n",
            "{'Name': 'shahul', 'education': 'B.Tech', 'occupation': 'DS'}\n"
          ]
        }
      ]
    },
    {
      "cell_type": "markdown",
      "source": [
        "**Dictionary is unordered**"
      ],
      "metadata": {
        "id": "fHTn3bervlSf"
      }
    },
    {
      "cell_type": "code",
      "source": [
        "print(d1[2])"
      ],
      "metadata": {
        "id": "jd3OH_Uzvokk"
      },
      "execution_count": null,
      "outputs": []
    },
    {
      "cell_type": "code",
      "source": [
        "#How can we access the items from the dictionary?\n",
        "#By using the key names\n",
        "d1['occupation']\n",
        "d1['Name']"
      ],
      "metadata": {
        "colab": {
          "base_uri": "https://localhost:8080/",
          "height": 35
        },
        "id": "d7pdcG2AvvTn",
        "outputId": "ba5da4af-deef-4e27-fabb-df1d7adeb0b4"
      },
      "execution_count": null,
      "outputs": [
        {
          "output_type": "execute_result",
          "data": {
            "text/plain": [
              "'shahul'"
            ],
            "application/vnd.google.colaboratory.intrinsic+json": {
              "type": "string"
            }
          },
          "metadata": {},
          "execution_count": 27
        }
      ]
    },
    {
      "cell_type": "markdown",
      "source": [
        "**Dictionary is muttable**"
      ],
      "metadata": {
        "id": "rIPLJWU5v-pi"
      }
    },
    {
      "cell_type": "code",
      "source": [
        "#Add items to the dictionary\n",
        "#add your fav  bike\n",
        "d1['bike'] = 'RE'\n",
        "print(d1)"
      ],
      "metadata": {
        "colab": {
          "base_uri": "https://localhost:8080/"
        },
        "id": "fXplF8u1wEcQ",
        "outputId": "a46641de-c203-441c-bb20-aa3d47e56290"
      },
      "execution_count": null,
      "outputs": [
        {
          "output_type": "stream",
          "name": "stdout",
          "text": [
            "{'Name': 'shahul', 'education': 'B.Tech', 'occupation': 'DS', 'bike': 'RE'}\n"
          ]
        }
      ]
    },
    {
      "cell_type": "markdown",
      "source": [
        "**Replace the items from dictionaray**"
      ],
      "metadata": {
        "id": "WvDfuSK6wXTg"
      }
    },
    {
      "cell_type": "code",
      "source": [
        "d1['Name'] = 'sks'\n",
        "print(d1)"
      ],
      "metadata": {
        "colab": {
          "base_uri": "https://localhost:8080/"
        },
        "id": "OQ3SIWYJwbfA",
        "outputId": "a88e5cb5-d51b-4e08-c237-1238a61df66f"
      },
      "execution_count": null,
      "outputs": [
        {
          "output_type": "stream",
          "name": "stdout",
          "text": [
            "{'Name': 'sks', 'education': 'B.Tech', 'occupation': 'DS', 'bike': 'RE'}\n"
          ]
        }
      ]
    },
    {
      "cell_type": "markdown",
      "source": [
        "**remove the items from dictionary**"
      ],
      "metadata": {
        "id": "1SqHK1c-wmdi"
      }
    },
    {
      "cell_type": "code",
      "source": [
        "#Pop('key_name)\n",
        "d1.pop('bike')\n",
        "print(d1)"
      ],
      "metadata": {
        "colab": {
          "base_uri": "https://localhost:8080/"
        },
        "id": "GQ7sH20Xw4Oh",
        "outputId": "c5e228f4-cb8b-4907-f690-2cf560852742"
      },
      "execution_count": null,
      "outputs": [
        {
          "output_type": "stream",
          "name": "stdout",
          "text": [
            "{'Name': 'sks', 'education': 'B.Tech', 'occupation': 'DS'}\n"
          ]
        }
      ]
    },
    {
      "cell_type": "code",
      "source": [
        "#clear()\n",
        "d1.clear()\n",
        "print(d1)"
      ],
      "metadata": {
        "colab": {
          "base_uri": "https://localhost:8080/"
        },
        "id": "81aKbe2AxDWU",
        "outputId": "50f390a9-d794-45a3-fee8-a2ab669e4427"
      },
      "execution_count": null,
      "outputs": [
        {
          "output_type": "stream",
          "name": "stdout",
          "text": [
            "{}\n"
          ]
        }
      ]
    },
    {
      "cell_type": "code",
      "source": [
        "d2 = {\n",
        "    'Name':'shahul',\n",
        "    'education': 'Ms',\n",
        "    'occupation': 'DS',\n",
        "    'education':'B.Tech',\n",
        "    'fruits' : ['apple','mango','banana','kiwi']\n",
        "}\n",
        "#in  above dict print only apple\n",
        "print(d2['fruits'][0])"
      ],
      "metadata": {
        "colab": {
          "base_uri": "https://localhost:8080/"
        },
        "id": "ma9TW6ySxMRx",
        "outputId": "9f605dbd-3b46-4157-e59c-f3cd39c53bb5"
      },
      "execution_count": null,
      "outputs": [
        {
          "output_type": "stream",
          "name": "stdout",
          "text": [
            "apple\n"
          ]
        }
      ]
    },
    {
      "cell_type": "code",
      "source": [
        "#replace the \"kiwi\" with 'dragonfruit'\n",
        "d2['fruits'][3] = 'Dragon_fruits'\n",
        "print(d2)"
      ],
      "metadata": {
        "colab": {
          "base_uri": "https://localhost:8080/"
        },
        "id": "95qB-ZUXxU-O",
        "outputId": "797bd5cb-3e99-494b-c9be-3bf96813bdf9"
      },
      "execution_count": null,
      "outputs": [
        {
          "output_type": "stream",
          "name": "stdout",
          "text": [
            "{'Name': 'shahul', 'education': 'B.Tech', 'occupation': 'DS', 'fruits': ['apple', 'mango', 'banana', 'Dragon_fruits']}\n"
          ]
        }
      ]
    },
    {
      "cell_type": "code",
      "source": [
        "print(dir(d1))"
      ],
      "metadata": {
        "colab": {
          "base_uri": "https://localhost:8080/"
        },
        "id": "8-hetvRKwqk3",
        "outputId": "62219543-37b2-4c46-cecc-a5a498e76766"
      },
      "execution_count": null,
      "outputs": [
        {
          "output_type": "stream",
          "name": "stdout",
          "text": [
            "['__class__', '__class_getitem__', '__contains__', '__delattr__', '__delitem__', '__dir__', '__doc__', '__eq__', '__format__', '__ge__', '__getattribute__', '__getitem__', '__gt__', '__hash__', '__init__', '__init_subclass__', '__ior__', '__iter__', '__le__', '__len__', '__lt__', '__ne__', '__new__', '__or__', '__reduce__', '__reduce_ex__', '__repr__', '__reversed__', '__ror__', '__setattr__', '__setitem__', '__sizeof__', '__str__', '__subclasshook__', 'clear', 'copy', 'fromkeys', 'get', 'items', 'keys', 'pop', 'popitem', 'setdefault', 'update', 'values']\n"
          ]
        }
      ]
    },
    {
      "cell_type": "code",
      "source": [
        "#print only ghe keys from above dict?\n",
        "print(d2.keys())\n",
        "print(d2.values())"
      ],
      "metadata": {
        "colab": {
          "base_uri": "https://localhost:8080/"
        },
        "id": "hwNRDsm-x7gk",
        "outputId": "5feb6b4b-766f-46cd-d68c-e87873829f53"
      },
      "execution_count": null,
      "outputs": [
        {
          "output_type": "stream",
          "name": "stdout",
          "text": [
            "dict_keys(['Name', 'education', 'occupation', 'fruits'])\n",
            "dict_values(['shahul', 'B.Tech', 'DS', ['apple', 'mango', 'banana', 'Dragon_fruits']])\n"
          ]
        }
      ]
    },
    {
      "cell_type": "code",
      "source": [
        "print(d2)\n",
        "print(d2.items())"
      ],
      "metadata": {
        "colab": {
          "base_uri": "https://localhost:8080/"
        },
        "id": "7Pn1sE7wyGm3",
        "outputId": "e5a867e3-3e69-41f7-bc39-1bb9c570c7a6"
      },
      "execution_count": null,
      "outputs": [
        {
          "output_type": "stream",
          "name": "stdout",
          "text": [
            "{'Name': 'shahul', 'education': 'B.Tech', 'occupation': 'DS', 'fruits': ['apple', 'mango', 'banana', 'Dragon_fruits']}\n",
            "dict_items([('Name', 'shahul'), ('education', 'B.Tech'), ('occupation', 'DS'), ('fruits', ['apple', 'mango', 'banana', 'Dragon_fruits'])])\n"
          ]
        }
      ]
    },
    {
      "cell_type": "code",
      "source": [
        "del d2\n",
        "print(d2)"
      ],
      "metadata": {
        "id": "qyeDovr2yTRz"
      },
      "execution_count": null,
      "outputs": []
    }
  ]
}