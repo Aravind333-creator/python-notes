{
  "cells": [
    {
      "cell_type": "markdown",
      "metadata": {
        "id": "view-in-github",
        "colab_type": "text"
      },
      "source": [
        "<a href=\"https://colab.research.google.com/github/Aravind333-creator/python-notes/blob/main/Lab_session_Mysql_Python_Connector_(1).ipynb\" target=\"_parent\"><img src=\"https://colab.research.google.com/assets/colab-badge.svg\" alt=\"Open In Colab\"/></a>"
      ]
    },
    {
      "cell_type": "markdown",
      "id": "405f432f",
      "metadata": {
        "id": "405f432f"
      },
      "source": [
        "# Python connecting to Mysql"
      ]
    },
    {
      "cell_type": "code",
      "execution_count": null,
      "id": "348aaa5d",
      "metadata": {
        "id": "348aaa5d",
        "outputId": "ce7852c5-5837-4451-ef76-9802f39962d6"
      },
      "outputs": [
        {
          "name": "stdout",
          "output_type": "stream",
          "text": [
            "Collecting mysql-connector-python\n",
            "  Downloading mysql_connector_python-9.2.0-cp312-cp312-win_amd64.whl.metadata (6.2 kB)\n",
            "Downloading mysql_connector_python-9.2.0-cp312-cp312-win_amd64.whl (16.1 MB)\n",
            "   ---------------------------------------- 0.0/16.1 MB ? eta -:--:--\n",
            "   ---------------------------------------- 0.0/16.1 MB ? eta -:--:--\n",
            "   ---------------------------------------- 0.0/16.1 MB 653.6 kB/s eta 0:00:25\n",
            "   ---------------------------------------- 0.2/16.1 MB 2.0 MB/s eta 0:00:09\n",
            "   - -------------------------------------- 0.5/16.1 MB 3.7 MB/s eta 0:00:05\n",
            "   -- ------------------------------------- 0.9/16.1 MB 4.9 MB/s eta 0:00:04\n",
            "   --- ------------------------------------ 1.3/16.1 MB 5.7 MB/s eta 0:00:03\n",
            "   ---- ----------------------------------- 1.8/16.1 MB 6.5 MB/s eta 0:00:03\n",
            "   ----- ---------------------------------- 2.4/16.1 MB 7.1 MB/s eta 0:00:02\n",
            "   ------ --------------------------------- 2.8/16.1 MB 7.3 MB/s eta 0:00:02\n",
            "   ------- -------------------------------- 3.1/16.1 MB 7.4 MB/s eta 0:00:02\n",
            "   -------- ------------------------------- 3.6/16.1 MB 7.7 MB/s eta 0:00:02\n",
            "   ---------- ----------------------------- 4.1/16.1 MB 7.9 MB/s eta 0:00:02\n",
            "   ----------- ---------------------------- 4.5/16.1 MB 7.9 MB/s eta 0:00:02\n",
            "   ------------ --------------------------- 5.0/16.1 MB 8.2 MB/s eta 0:00:02\n",
            "   ------------- -------------------------- 5.5/16.1 MB 8.3 MB/s eta 0:00:02\n",
            "   -------------- ------------------------- 5.9/16.1 MB 8.4 MB/s eta 0:00:02\n",
            "   --------------- ------------------------ 6.3/16.1 MB 8.4 MB/s eta 0:00:02\n",
            "   ---------------- ----------------------- 6.8/16.1 MB 8.6 MB/s eta 0:00:02\n",
            "   ------------------ --------------------- 7.3/16.1 MB 8.6 MB/s eta 0:00:02\n",
            "   ------------------- -------------------- 7.8/16.1 MB 8.8 MB/s eta 0:00:01\n",
            "   -------------------- ------------------- 8.2/16.1 MB 8.7 MB/s eta 0:00:01\n",
            "   --------------------- ------------------ 8.7/16.1 MB 8.8 MB/s eta 0:00:01\n",
            "   ---------------------- ----------------- 9.2/16.1 MB 8.9 MB/s eta 0:00:01\n",
            "   ------------------------ --------------- 9.7/16.1 MB 9.0 MB/s eta 0:00:01\n",
            "   -------------------------- ------------- 10.5/16.1 MB 10.2 MB/s eta 0:00:01\n",
            "   ---------------------------- ----------- 11.3/16.1 MB 10.7 MB/s eta 0:00:01\n",
            "   ----------------------------- ---------- 12.1/16.1 MB 10.9 MB/s eta 0:00:01\n",
            "   ------------------------------- -------- 12.7/16.1 MB 11.1 MB/s eta 0:00:01\n",
            "   --------------------------------- ------ 13.5/16.1 MB 11.7 MB/s eta 0:00:01\n",
            "   ----------------------------------- ---- 14.1/16.1 MB 11.9 MB/s eta 0:00:01\n",
            "   ------------------------------------ --- 14.9/16.1 MB 12.4 MB/s eta 0:00:01\n",
            "   -------------------------------------- - 15.3/16.1 MB 12.4 MB/s eta 0:00:01\n",
            "   ---------------------------------------  15.8/16.1 MB 12.4 MB/s eta 0:00:01\n",
            "   ---------------------------------------- 16.1/16.1 MB 12.6 MB/s eta 0:00:00\n",
            "Installing collected packages: mysql-connector-python\n",
            "Successfully installed mysql-connector-python-9.2.0\n"
          ]
        },
        {
          "name": "stderr",
          "output_type": "stream",
          "text": [
            "WARNING: There was an error checking the latest version of pip.\n"
          ]
        }
      ],
      "source": [
        "!pip install mysql-connector-python"
      ]
    },
    {
      "cell_type": "code",
      "execution_count": null,
      "id": "60b46939",
      "metadata": {
        "id": "60b46939"
      },
      "outputs": [],
      "source": [
        "import mysql.connector as sql"
      ]
    },
    {
      "cell_type": "markdown",
      "id": "06f85845",
      "metadata": {
        "id": "06f85845"
      },
      "source": [
        "# Python connecting to MySql"
      ]
    },
    {
      "cell_type": "code",
      "execution_count": null,
      "id": "0a3f90e6",
      "metadata": {
        "id": "0a3f90e6"
      },
      "outputs": [],
      "source": [
        "conn = sql.connect(user='root',password='1234',host='localhost')\n",
        "# conn.close()"
      ]
    },
    {
      "cell_type": "code",
      "execution_count": null,
      "id": "8be73c90",
      "metadata": {
        "id": "8be73c90",
        "outputId": "bf4a9d4e-df82-4ff7-f755-e8b2617a722e"
      },
      "outputs": [
        {
          "name": "stdout",
          "output_type": "stream",
          "text": [
            "Connected successfully\n"
          ]
        }
      ],
      "source": [
        "if conn:\n",
        "    print('Connected successfully')\n",
        "else:\n",
        "    print('Connection Not established')"
      ]
    },
    {
      "cell_type": "code",
      "execution_count": null,
      "id": "0963c892",
      "metadata": {
        "id": "0963c892"
      },
      "outputs": [],
      "source": [
        "cursor = conn.cursor()"
      ]
    },
    {
      "cell_type": "code",
      "execution_count": null,
      "id": "0db846ce",
      "metadata": {
        "id": "0db846ce"
      },
      "outputs": [],
      "source": [
        "cursor.execute('show databases')"
      ]
    },
    {
      "cell_type": "code",
      "execution_count": null,
      "id": "a1be962c",
      "metadata": {
        "id": "a1be962c"
      },
      "outputs": [],
      "source": [
        "db = cursor.fetchall()"
      ]
    },
    {
      "cell_type": "code",
      "execution_count": null,
      "id": "acdc6949",
      "metadata": {
        "id": "acdc6949",
        "outputId": "3d5d49c8-12c4-4aef-d44c-1f40807ce285"
      },
      "outputs": [
        {
          "name": "stdout",
          "output_type": "stream",
          "text": [
            "('customer',)\n",
            "('customers',)\n",
            "('information_schema',)\n",
            "('joins',)\n",
            "('mysql',)\n",
            "('performance_schema',)\n",
            "('profiles',)\n",
            "('python_sql',)\n",
            "('sakila',)\n",
            "('sql_1',)\n",
            "('sql_notes',)\n",
            "('students',)\n",
            "('sys',)\n",
            "('world',)\n"
          ]
        }
      ],
      "source": [
        "for i in db:\n",
        "    print(i)"
      ]
    },
    {
      "cell_type": "code",
      "execution_count": null,
      "id": "18494806",
      "metadata": {
        "id": "18494806"
      },
      "outputs": [],
      "source": [
        "cursor.execute('CREATE DATABASE zen_lab')"
      ]
    },
    {
      "cell_type": "code",
      "execution_count": null,
      "id": "c4a146dc",
      "metadata": {
        "id": "c4a146dc",
        "outputId": "b8e51bb2-81cb-4587-8e4a-06a4ad58a90e"
      },
      "outputs": [
        {
          "name": "stdout",
          "output_type": "stream",
          "text": [
            "('customer',)\n",
            "('customers',)\n",
            "('information_schema',)\n",
            "('joins',)\n",
            "('mysql',)\n",
            "('performance_schema',)\n",
            "('profiles',)\n",
            "('python_sql',)\n",
            "('sakila',)\n",
            "('sql_1',)\n",
            "('sql_notes',)\n",
            "('students',)\n",
            "('sys',)\n",
            "('world',)\n",
            "('zen_lab',)\n"
          ]
        }
      ],
      "source": [
        "cursor.execute('show databases')\n",
        "db = cursor.fetchall()\n",
        "for i in db:\n",
        "    print(i)"
      ]
    },
    {
      "cell_type": "markdown",
      "id": "723bac79",
      "metadata": {
        "id": "723bac79"
      },
      "source": [
        "# selecting the database"
      ]
    },
    {
      "cell_type": "code",
      "execution_count": null,
      "id": "2d75e623",
      "metadata": {
        "id": "2d75e623"
      },
      "outputs": [],
      "source": [
        "conn = sql.connect(user='root',password='1234',host='localhost',database = 'zen_lab')\n",
        "\n",
        "cursor = conn.cursor()"
      ]
    },
    {
      "cell_type": "code",
      "execution_count": null,
      "id": "e3649bad",
      "metadata": {
        "id": "e3649bad"
      },
      "outputs": [],
      "source": [
        "cursor.execute('show tables')\n",
        "table = cursor.fetchall()\n",
        "for i in table:\n",
        "    print(i)"
      ]
    },
    {
      "cell_type": "markdown",
      "id": "4a697108",
      "metadata": {
        "id": "4a697108"
      },
      "source": [
        "# Python mysql create table"
      ]
    },
    {
      "cell_type": "code",
      "execution_count": null,
      "id": "38335e8f",
      "metadata": {
        "id": "38335e8f"
      },
      "outputs": [],
      "source": [
        "employee_data = \"\"\"Create table employee(\n",
        "Id integer NOT NULL PRIMARY KEY,\n",
        "Name varchar(250) NOT NULL,\n",
        "Dept varchar(250) NOT NULL,\n",
        "Age integer NOT NULL,\n",
        "Contact varchar(250) NOT NULL)\"\"\""
      ]
    },
    {
      "cell_type": "code",
      "execution_count": null,
      "id": "6b79ad3c",
      "metadata": {
        "id": "6b79ad3c"
      },
      "outputs": [],
      "source": [
        "result = cursor.execute(employee_data)"
      ]
    },
    {
      "cell_type": "code",
      "execution_count": null,
      "id": "a2ec1eaa",
      "metadata": {
        "id": "a2ec1eaa",
        "outputId": "5c6d88d5-1640-445b-e43d-9ac8202d3a88"
      },
      "outputs": [
        {
          "name": "stdout",
          "output_type": "stream",
          "text": [
            "('employee',)\n"
          ]
        }
      ],
      "source": [
        "cursor.execute('show tables')\n",
        "table = cursor.fetchall()\n",
        "for i in table:\n",
        "    print(i)\n"
      ]
    },
    {
      "cell_type": "code",
      "execution_count": null,
      "id": "8b3a2e0a",
      "metadata": {
        "id": "8b3a2e0a"
      },
      "outputs": [],
      "source": [
        "# How to insert the values to a table"
      ]
    },
    {
      "cell_type": "code",
      "execution_count": null,
      "id": "650391e6",
      "metadata": {
        "id": "650391e6"
      },
      "outputs": [],
      "source": [
        "insert_employee = \"\"\"insert into employee values(101,'shahul','CSE',25,'12545879'),\n",
        "(102,'zen','Medical',27,'12644789')\"\"\""
      ]
    },
    {
      "cell_type": "code",
      "execution_count": null,
      "id": "eb19b67d",
      "metadata": {
        "id": "eb19b67d"
      },
      "outputs": [],
      "source": [
        "cursor = conn.cursor()"
      ]
    },
    {
      "cell_type": "code",
      "execution_count": null,
      "id": "ad234178",
      "metadata": {
        "id": "ad234178"
      },
      "outputs": [],
      "source": [
        "result = cursor.execute(insert_employee)\n",
        "conn.commit()"
      ]
    },
    {
      "cell_type": "code",
      "execution_count": null,
      "id": "e68c356f",
      "metadata": {
        "id": "e68c356f"
      },
      "outputs": [],
      "source": [
        "select_employee = \"\"\"Select * from employee\"\"\"\n",
        "cursor = conn.cursor()\n",
        "cursor.execute(select_employee)\n",
        "result = cursor.fetchall()"
      ]
    },
    {
      "cell_type": "code",
      "execution_count": null,
      "id": "bbcae6a6",
      "metadata": {
        "id": "bbcae6a6",
        "outputId": "294c7568-d2d2-445a-cba0-f0e548ec22b8"
      },
      "outputs": [
        {
          "name": "stdout",
          "output_type": "stream",
          "text": [
            "2\n"
          ]
        }
      ],
      "source": [
        "print(cursor.rowcount)"
      ]
    },
    {
      "cell_type": "code",
      "execution_count": null,
      "id": "f6ed65cc",
      "metadata": {
        "id": "f6ed65cc",
        "outputId": "0b4820af-d027-4f09-e27e-2ec57f925088"
      },
      "outputs": [
        {
          "name": "stdout",
          "output_type": "stream",
          "text": [
            "(101, 'shahul', 'CSE', 25, '12545879')\n",
            "(102, 'zen', 'Medical', 27, '12644789')\n"
          ]
        }
      ],
      "source": [
        "for i in result:\n",
        "    print(i)"
      ]
    },
    {
      "cell_type": "markdown",
      "id": "393ce695",
      "metadata": {
        "id": "393ce695"
      },
      "source": [
        "#  Python mysql update record(update)"
      ]
    },
    {
      "cell_type": "code",
      "execution_count": null,
      "id": "e9e2b045",
      "metadata": {
        "id": "e9e2b045"
      },
      "outputs": [],
      "source": [
        "update_employee = \"\"\"update employee set Name='Raj' where id = 101\"\"\"\n",
        "cursor = conn.cursor()\n",
        "cursor.execute(update_employee)\n",
        "conn.commit()"
      ]
    },
    {
      "cell_type": "code",
      "execution_count": null,
      "id": "d4e02574",
      "metadata": {
        "id": "d4e02574"
      },
      "outputs": [],
      "source": [
        "select_employee = \"\"\"Select * from employee\"\"\"\n",
        "cursor = conn.cursor()\n",
        "cursor.execute(select_employee)\n",
        "result = cursor.fetchall()"
      ]
    },
    {
      "cell_type": "code",
      "execution_count": null,
      "id": "fa1530f1",
      "metadata": {
        "id": "fa1530f1",
        "outputId": "7ca5fdc5-ec07-416d-c2aa-a5086550306e"
      },
      "outputs": [
        {
          "name": "stdout",
          "output_type": "stream",
          "text": [
            "(101, 'Raj', 'CSE', 25, '12545879')\n",
            "(102, 'zen', 'Medical', 27, '12644789')\n"
          ]
        }
      ],
      "source": [
        "for i in result:\n",
        "    print(i)"
      ]
    },
    {
      "cell_type": "markdown",
      "id": "10e50b48",
      "metadata": {
        "id": "10e50b48"
      },
      "source": [
        "# Python my sql delete record(Delete)"
      ]
    },
    {
      "cell_type": "code",
      "execution_count": null,
      "id": "fcd72879",
      "metadata": {
        "id": "fcd72879",
        "outputId": "662b93ff-96b9-4780-ef87-6fb1955d388d"
      },
      "outputs": [
        {
          "name": "stdout",
          "output_type": "stream",
          "text": [
            "[]\n"
          ]
        }
      ],
      "source": [
        "delete_employee = \"\"\"delete from employee where id = 101\"\"\"\n",
        "cursor = conn.cursor()\n",
        "cursor.execute(delete_employee)\n",
        "result = cursor.fetchall()\n",
        "print(result)"
      ]
    },
    {
      "cell_type": "code",
      "execution_count": null,
      "id": "7f9e94b1",
      "metadata": {
        "id": "7f9e94b1"
      },
      "outputs": [],
      "source": [
        "select_employee = \"Select * from employee\"\n",
        "cursor = conn.cursor()\n",
        "cursor.execute(select_employee)\n",
        "result = cursor.fetchall()"
      ]
    },
    {
      "cell_type": "code",
      "execution_count": null,
      "id": "76a4561d",
      "metadata": {
        "id": "76a4561d",
        "outputId": "85a61c71-3914-4703-f9fb-a3e67ce4e29d"
      },
      "outputs": [
        {
          "name": "stdout",
          "output_type": "stream",
          "text": [
            "(102, 'zen', 'Medical', 27, '12644789')\n"
          ]
        }
      ],
      "source": [
        "for i in result:\n",
        "    print(i)"
      ]
    },
    {
      "cell_type": "code",
      "execution_count": null,
      "id": "7053acc0",
      "metadata": {
        "id": "7053acc0"
      },
      "outputs": [],
      "source": []
    }
  ],
  "metadata": {
    "kernelspec": {
      "display_name": "Python 3 (ipykernel)",
      "language": "python",
      "name": "python3"
    },
    "language_info": {
      "codemirror_mode": {
        "name": "ipython",
        "version": 3
      },
      "file_extension": ".py",
      "mimetype": "text/x-python",
      "name": "python",
      "nbconvert_exporter": "python",
      "pygments_lexer": "ipython3",
      "version": "3.12.4"
    },
    "colab": {
      "provenance": [],
      "include_colab_link": true
    }
  },
  "nbformat": 4,
  "nbformat_minor": 5
}